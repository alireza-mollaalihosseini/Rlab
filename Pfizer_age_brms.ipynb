{
 "cells": [
  {
   "cell_type": "code",
   "execution_count": null,
   "id": "4bf87c16",
   "metadata": {},
   "outputs": [
    {
     "name": "stderr",
     "output_type": "stream",
     "text": [
      "Loading required package: Rcpp\n",
      "\n",
      "Loading 'brms' package (version 2.15.0). Useful instructions\n",
      "can be found by typing help('brms'). A more detailed introduction\n",
      "to the package is available through vignette('brms_overview').\n",
      "\n",
      "\n",
      "Attaching package: ‘brms’\n",
      "\n",
      "\n",
      "The following object is masked from ‘package:stats’:\n",
      "\n",
      "    ar\n",
      "\n",
      "\n",
      "Loading required package: StanHeaders\n",
      "\n",
      "Loading required package: ggplot2\n",
      "\n",
      "rstan (Version 2.21.2, GitRev: 2e1f913d3ca3)\n",
      "\n",
      "For execution on a local, multicore CPU with excess RAM we recommend calling\n",
      "options(mc.cores = parallel::detectCores()).\n",
      "To avoid recompilation of unchanged Stan programs, we recommend calling\n",
      "rstan_options(auto_write = TRUE)\n",
      "\n",
      "── \u001b[1mAttaching packages\u001b[22m ─────────────────────────────────────── tidyverse 1.3.1 ──\n",
      "\n",
      "\u001b[32m✔\u001b[39m \u001b[34mtibble \u001b[39m 3.1.2     \u001b[32m✔\u001b[39m \u001b[34mdplyr  \u001b[39m 1.0.6\n",
      "\u001b[32m✔\u001b[39m \u001b[34mtidyr  \u001b[39m 1.1.3     \u001b[32m✔\u001b[39m \u001b[34mstringr\u001b[39m 1.4.0\n",
      "\u001b[32m✔\u001b[39m \u001b[34mreadr  \u001b[39m 1.4.0     \u001b[32m✔\u001b[39m \u001b[34mforcats\u001b[39m 0.5.1\n",
      "\u001b[32m✔\u001b[39m \u001b[34mpurrr  \u001b[39m 0.3.4     \n",
      "\n",
      "── \u001b[1mConflicts\u001b[22m ────────────────────────────────────────── tidyverse_conflicts() ──\n",
      "\u001b[31m✖\u001b[39m \u001b[34mtidyr\u001b[39m::\u001b[32mextract()\u001b[39m masks \u001b[34mrstan\u001b[39m::extract()\n",
      "\u001b[31m✖\u001b[39m \u001b[34mdplyr\u001b[39m::\u001b[32mfilter()\u001b[39m  masks \u001b[34mstats\u001b[39m::filter()\n",
      "\u001b[31m✖\u001b[39m \u001b[34mdplyr\u001b[39m::\u001b[32mlag()\u001b[39m     masks \u001b[34mstats\u001b[39m::lag()\n",
      "\n",
      "Compiling Stan program...\n",
      "\n"
     ]
    }
   ],
   "source": [
    "library(brms)\n",
    "library(rstan)\n",
    "library(tidyverse)\n",
    "\n",
    "age <- c(rep(\"lt65\", 13618), rep(\"Older\", 3880),\n",
    "         rep(\"lt65\", 13549), rep(\"Older\", 3848))\n",
    "treatment <- c(rep(\"Placebo\", 13618), rep(\"Placebo\", 3880),\n",
    "               rep(\"Vaccine\", 13549), rep(\"Vaccine\", 3848))\n",
    "tested <- c(rep(\"Pos\", 143), rep(\"Neg\", 13618-143),\n",
    "            rep(\"Pos\", 19), rep(\"Neg\", 3880-19),\n",
    "            rep(\"Pos\", 7),  rep(\"Neg\", 13549-7),\n",
    "            rep(\"Pos\", 1),  rep(\"Neg\", 3848-1))\n",
    "pfizer_tb <- tibble(age = age, tested = tested,treatment = treatment)\n",
    "\n",
    "pfizer_bf <- brm(data = pfizer_tb,\n",
    "                   family = bernoulli(link = logit),\n",
    "                   tested ~ age + treatment + age:treatment ,\n",
    "                   iter = 12500, warmup = 500, chains = 3, cores = 3,\n",
    "                   control = list(adapt_delta = .99, max_treedepth = 12),\n",
    "                   seed = 9,file = \"pfizer_age\")\n",
    "\n",
    "summary(pfizer_bf)\n",
    "\n",
    "mcmc_plot(pfizer_bf)\n",
    "mcmc_plot(pfizer_bf, type='areas')\n",
    "\n",
    "bayestestR::describe_posterior(pfizer_bf,\n",
    "                               ci=0.95,\n",
    "                               test=c(\"p_direction\"),\n",
    "                               centrality=\"MAP\")"
   ]
  },
  {
   "cell_type": "code",
   "execution_count": null,
   "id": "6297e731",
   "metadata": {},
   "outputs": [],
   "source": []
  }
 ],
 "metadata": {
  "kernelspec": {
   "display_name": "R",
   "language": "R",
   "name": "ir"
  },
  "language_info": {
   "codemirror_mode": "r",
   "file_extension": ".r",
   "mimetype": "text/x-r-source",
   "name": "R",
   "pygments_lexer": "r",
   "version": "4.1.0"
  }
 },
 "nbformat": 4,
 "nbformat_minor": 5
}
