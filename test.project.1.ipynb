{
 "cells": [
  {
   "cell_type": "code",
   "execution_count": 3,
   "id": "720a349b",
   "metadata": {},
   "outputs": [],
   "source": []
  },
  {
   "cell_type": "code",
   "execution_count": 4,
   "id": "91a9f00c",
   "metadata": {},
   "outputs": [],
   "source": [
    "?data.table::fread"
   ]
  },
  {
   "cell_type": "code",
   "execution_count": 6,
   "id": "a8fa887c",
   "metadata": {
    "scrolled": true
   },
   "outputs": [
    {
     "data": {
      "text/html": [
       "<table class=\"dataframe\">\n",
       "<caption>A data.table: 147 × 16</caption>\n",
       "<thead>\n",
       "\t<tr><th scope=col>ProductName</th><th scope=col>ActiveSubstance</th><th scope=col>Mah</th><th scope=col>ProductStatus</th><th scope=col>PublicationDate</th><th scope=col>ProcedureType</th><th scope=col>AtcCode</th><th scope=col>Generic</th><th scope=col>Biosimilar</th><th scope=col>ConditionalApproval</th><th scope=col>ExceptionalCircumstances</th><th scope=col>Orphan</th><th scope=col>article58</th><th scope=col>WithdrawnProcedure</th><th scope=col>ProcedureNumber</th><th scope=col>numberOfDocuments</th></tr>\n",
       "\t<tr><th scope=col>&lt;chr&gt;</th><th scope=col>&lt;chr&gt;</th><th scope=col>&lt;chr&gt;</th><th scope=col>&lt;chr&gt;</th><th scope=col>&lt;chr&gt;</th><th scope=col>&lt;chr&gt;</th><th scope=col>&lt;chr&gt;</th><th scope=col>&lt;chr&gt;</th><th scope=col>&lt;chr&gt;</th><th scope=col>&lt;chr&gt;</th><th scope=col>&lt;chr&gt;</th><th scope=col>&lt;chr&gt;</th><th scope=col>&lt;chr&gt;</th><th scope=col>&lt;chr&gt;</th><th scope=col>&lt;chr&gt;</th><th scope=col>&lt;int&gt;</th></tr>\n",
       "</thead>\n",
       "<tbody>\n",
       "\t<tr><td>Dexamethasone Taw (WD)  </td><td>DEXAMETHASONE PHOSPHATE                               </td><td>Taw Pharma (Ireland) Ltd               </td><td>Withdrawn </td><td>19/03/2021</td><td>Initial marketing authorisation</td><td>H02AB02</td><td>No </td><td>No </td><td>No </td><td>No</td><td>No </td><td>No</td><td>Yes</td><td>EMEA/H/C/005740/0000        </td><td>  2</td></tr>\n",
       "\t<tr><td>COMIRNATY               </td><td>COVID-19 mRNA vaccine (nucleoside-modified)           </td><td>BioNTech Manufacturing GmbH            </td><td>Authorised</td><td>11/03/2021</td><td>Initial marketing authorisation</td><td>J07BX03</td><td>No </td><td>No </td><td>Yes</td><td>No</td><td>No </td><td>No</td><td>No </td><td>EMEA/H/C/005735/0000        </td><td> 18</td></tr>\n",
       "\t<tr><td>COVID-19 Vaccine Moderna</td><td>COVID-19 mRNA vaccine (nucleoside-modified)           </td><td>Moderna Biotech Spain  S.L.            </td><td>Authorised</td><td>02/03/2021</td><td>Initial marketing authorisation</td><td>J07BX03</td><td>No </td><td>No </td><td>Yes</td><td>No</td><td>No </td><td>No</td><td>No </td><td>EMEA/H/C/005791/0000        </td><td> 26</td></tr>\n",
       "\t<tr><td>Veklury                 </td><td>REMDESIVIR                                            </td><td>Gilead Sciences Ireland UC             </td><td>Authorised</td><td>25/02/2021</td><td>Extension of indication        </td><td>J05AB16</td><td>No </td><td>No </td><td>No </td><td>No</td><td>No </td><td>No</td><td>No </td><td>EMEA/H/C/005622/0000/II/0012</td><td>  3</td></tr>\n",
       "\t<tr><td>Veklury                 </td><td>REMDESIVIR                                            </td><td>Gilead Sciences Ireland UC             </td><td>Authorised</td><td>30/10/2020</td><td>Initial marketing authorisation</td><td>N/A    </td><td>No </td><td>No </td><td>Yes</td><td>No</td><td>No </td><td>No</td><td>No </td><td>EMEA/H/C/005622/0000        </td><td> 64</td></tr>\n",
       "\t<tr><td>Inovelon                </td><td>RUFINAMIDE                                            </td><td>Eisai GmbH                             </td><td>Authorised</td><td>04/12/2018</td><td>Extension of indication        </td><td>N03AF03</td><td>No </td><td>No </td><td>No </td><td>No</td><td>Yes</td><td>No</td><td>No </td><td>EMEA/H/C/000660/II/0037     </td><td> 21</td></tr>\n",
       "\t<tr><td>Ameluz                  </td><td>5-AMINOLEVULINIC ACID                                 </td><td>Biofrontera Bioscience GmbH            </td><td>Authorised</td><td>12/11/2018</td><td>Extension of indication        </td><td>L01XD04</td><td>No </td><td>No </td><td>No </td><td>No</td><td>No </td><td>No</td><td>No </td><td>EMEA/H/C/002204/II/0020     </td><td> 25</td></tr>\n",
       "\t<tr><td>Truxima                 </td><td>RITUXIMAB                                             </td><td>Celltrion Healthcare Hungary Kft.      </td><td>Authorised</td><td>09/11/2018</td><td>Initial marketing authorisation</td><td>L01XC02</td><td>No </td><td>Yes</td><td>No </td><td>No</td><td>No </td><td>No</td><td>No </td><td>EMEA/H/C/004112/0000        </td><td> 32</td></tr>\n",
       "\t<tr><td>Alecensa                </td><td>ALECTINIB                                             </td><td>Roche Registration GmbH                </td><td>Authorised</td><td>17/10/2018</td><td>Initial marketing authorisation</td><td>L01XE36</td><td>No </td><td>No </td><td>No </td><td>No</td><td>No </td><td>No</td><td>No </td><td>EMEA/H/C/004164/0000        </td><td> 44</td></tr>\n",
       "\t<tr><td>Lucentis                </td><td>RANIBIZUMAB                                           </td><td>Novartis Europharm Limited             </td><td>Authorised</td><td>09/10/2018</td><td>Extension of indication        </td><td>S01LA04</td><td>No </td><td>No </td><td>No </td><td>No</td><td>No </td><td>No</td><td>No </td><td>EMEA/H/C/000715/II/0061     </td><td> 14</td></tr>\n",
       "\t<tr><td>Movymia                 </td><td>TERIPARATIDE                                          </td><td>STADA Arzneimittel AG                  </td><td>Authorised</td><td>02/10/2018</td><td>Initial marketing authorisation</td><td>H05AA02</td><td>No </td><td>Yes</td><td>No </td><td>No</td><td>No </td><td>No</td><td>No </td><td>EMEA/H/C/004368/0000        </td><td>  6</td></tr>\n",
       "\t<tr><td>Terrosa                 </td><td>TERIPARATIDE                                          </td><td>Gedeon Richter Plc.                    </td><td>Authorised</td><td>02/10/2018</td><td>Initial marketing authorisation</td><td>H05AA02</td><td>No </td><td>Yes</td><td>No </td><td>No</td><td>No </td><td>No</td><td>No </td><td>EMEA/H/C/003916/0000        </td><td>  6</td></tr>\n",
       "\t<tr><td>Jardiance               </td><td>EMPAGLIFLOZIN                                         </td><td>Boehringer Ingelheim International GmbH</td><td>Authorised</td><td>01/10/2018</td><td>Extension of indication        </td><td>A10BK03</td><td>No </td><td>No </td><td>No </td><td>No</td><td>No </td><td>No</td><td>No </td><td>EMEA/H/C/002677/II/0014     </td><td> 16</td></tr>\n",
       "\t<tr><td>LEDAGA                  </td><td>CHLORMETHINE                                          </td><td>Actelion Registration Limited          </td><td>Authorised</td><td>28/09/2018</td><td>Initial marketing authorisation</td><td>L01AA05</td><td>No </td><td>No </td><td>No </td><td>No</td><td>Yes</td><td>No</td><td>No </td><td>EMEA/H/C/002826/0000        </td><td> 22</td></tr>\n",
       "\t<tr><td>Ivabradine Accord       </td><td>IVABRADINE                                            </td><td>Accord Healthcare Limited              </td><td>Authorised</td><td>27/09/2018</td><td>Initial marketing authorisation</td><td>C01EB17</td><td>Yes</td><td>No </td><td>No </td><td>No</td><td>No </td><td>No</td><td>No </td><td>EMEA/H/C/004241/0000        </td><td>  4</td></tr>\n",
       "\t<tr><td>Pregabalin Zentiva k.s. </td><td>PREGABALIN                                            </td><td>Zentiva k.s.                           </td><td>Authorised</td><td>18/09/2018</td><td>Initial marketing authorisation</td><td>N03AX16</td><td>Yes</td><td>No </td><td>No </td><td>No</td><td>No </td><td>No</td><td>No </td><td>EMEA/H/C/004277/0000        </td><td>  4</td></tr>\n",
       "\t<tr><td>Kepnetic (WD)           </td><td>ACENEURAMIC ACID                                      </td><td>Ultragenyx UK Limited                  </td><td>Withdrawn </td><td>18/09/2018</td><td>Initial marketing authorisation</td><td>M09AX  </td><td>No </td><td>No </td><td>No </td><td>No</td><td>No </td><td>No</td><td>Yes</td><td>EMEA/H/C/004176/0000        </td><td> 33</td></tr>\n",
       "\t<tr><td><span style=white-space:pre-wrap>Keytruda                </span></td><td><span style=white-space:pre-wrap>PEMBROLIZUMAB                                         </span></td><td><span style=white-space:pre-wrap>Merck Sharp &amp; Dohme B.V.               </span></td><td>Authorised</td><td>14/09/2018</td><td><span style=white-space:pre-wrap>Extension of indication        </span></td><td>L01XC18</td><td>No </td><td>No </td><td>No </td><td>No</td><td>No </td><td>No</td><td>No </td><td><span style=white-space:pre-wrap>EMEA/H/C/003820/II/0011     </span></td><td> 15</td></tr>\n",
       "\t<tr><td>Darunavir Mylan         </td><td>DARUNAVIR                                             </td><td>Mylan S.A.S                            </td><td>Authorised</td><td>13/09/2018</td><td>Initial marketing authorisation</td><td>J05AE10</td><td>Yes</td><td>No </td><td>No </td><td>No</td><td>No </td><td>No</td><td>No </td><td>EMEA/H/C/004068/0000        </td><td> 21</td></tr>\n",
       "\t<tr><td><span style=white-space:pre-wrap>Humira                  </span></td><td><span style=white-space:pre-wrap>ADALIMUMAB                                            </span></td><td><span style=white-space:pre-wrap>AbbVie Deutschland GmbH &amp; Co. KG       </span></td><td>Authorised</td><td>13/09/2018</td><td><span style=white-space:pre-wrap>Extension of indication        </span></td><td>L04AB04</td><td>No </td><td>No </td><td>No </td><td>No</td><td>No </td><td>No</td><td>No </td><td><span style=white-space:pre-wrap>EMEA/H/C/000481/II/0154     </span></td><td> 13</td></tr>\n",
       "\t<tr><td>OCALIVA                 </td><td>OBETICHOLIC ACID                                      </td><td>Intercept Pharma Ltd                   </td><td>Authorised</td><td>12/09/2018</td><td>Initial marketing authorisation</td><td>A05AA04</td><td>No </td><td>No </td><td>Yes</td><td>No</td><td>Yes</td><td>No</td><td>No </td><td>EMEA/H/C/004093/0000        </td><td>160</td></tr>\n",
       "\t<tr><td><span style=white-space:pre-wrap>LUSDUNA                 </span></td><td><span style=white-space:pre-wrap>INSULIN GLARGINE                                      </span></td><td><span style=white-space:pre-wrap>Merck Sharp &amp; Dohme Limited            </span></td><td>Authorised</td><td>05/09/2018</td><td>Initial marketing authorisation</td><td>A10AE04</td><td>No </td><td>Yes</td><td>No </td><td>No</td><td>No </td><td>No</td><td>No </td><td><span style=white-space:pre-wrap>EMEA/H/C/004101/0000        </span></td><td> 55</td></tr>\n",
       "\t<tr><td>Vimpat                  </td><td>LACOSAMIDE                                            </td><td>UCB Pharma S.A.                        </td><td>Authorised</td><td>03/09/2018</td><td>Extension of indication        </td><td>N03AX18</td><td>No </td><td>No </td><td>No </td><td>No</td><td>No </td><td>No</td><td>No </td><td>EMEA/H/C/000863/II/0060/G   </td><td>  9</td></tr>\n",
       "\t<tr><td>Afstyla                 </td><td>LONOCTOCOG ALFA                                       </td><td>CSL Behring GmbH                       </td><td>Authorised</td><td>30/08/2018</td><td>Initial marketing authorisation</td><td>B02BD02</td><td>No </td><td>No </td><td>No </td><td>No</td><td>No </td><td>No</td><td>No </td><td>EMEA/H/C/004075/0000        </td><td> 38</td></tr>\n",
       "\t<tr><td>Nimenrix                </td><td>MENINGOCOCCAL GROUP A  C  W135 AND Y CONJUGATE VACCINE</td><td>Pfizer Limited                         </td><td>Authorised</td><td>29/08/2018</td><td>Extension of indication        </td><td>J07AH08</td><td>No </td><td>No </td><td>No </td><td>No</td><td>No </td><td>No</td><td>No </td><td>EMEA/H/C/002226/II/0049     </td><td>  9</td></tr>\n",
       "\t<tr><td>Jentadueto              </td><td>LINAGLIPTIN / METFORMIN                               </td><td>Boehringer Ingelheim International GmbH</td><td>Authorised</td><td>24/08/2018</td><td>Workshare                      </td><td>A10BD11</td><td>No </td><td>No </td><td>No </td><td>No</td><td>No </td><td>No</td><td>No </td><td>EMEA/H/C/002279/WS0915      </td><td> 21</td></tr>\n",
       "\t<tr><td>Trajenta                </td><td>LINAGLIPTIN                                           </td><td>Boehringer Ingelheim International GmbH</td><td>Authorised</td><td>24/08/2018</td><td>Workshare                      </td><td>A10BH05</td><td>No </td><td>No </td><td>No </td><td>No</td><td>No </td><td>No</td><td>No </td><td>EMEA/H/C/002110/WS0915      </td><td> 21</td></tr>\n",
       "\t<tr><td>Olumiant                </td><td>BARICITINIB                                           </td><td>Eli Lilly Nederland B.V.               </td><td>Authorised</td><td>14/08/2018</td><td>Initial marketing authorisation</td><td>L04AA37</td><td>No </td><td>No </td><td>No </td><td>No</td><td>No </td><td>No</td><td>No </td><td>EMEA/H/C/004085/0000        </td><td>145</td></tr>\n",
       "\t<tr><td>Cinryze                 </td><td>C1 ESTERASE INHIBITOR (HUMAN)                         </td><td>Shire Services BVBA                    </td><td>Authorised</td><td>07/08/2018</td><td>Extension of indication        </td><td>B06AC01</td><td>No </td><td>No </td><td>No </td><td>No</td><td>No </td><td>No</td><td>No </td><td>EMEA/H/C/001207/II/0045     </td><td> 30</td></tr>\n",
       "\t<tr><td>Stelara                 </td><td>USTEKINUMAB                                           </td><td>Janssen-Cilag International NV         </td><td>Authorised</td><td>03/08/2018</td><td>Line Extension                 </td><td>L04AC05</td><td>No </td><td>No </td><td>No </td><td>No</td><td>No </td><td>No</td><td>No </td><td>EMEA/H/C/000958/X/0049/G    </td><td> 36</td></tr>\n",
       "\t<tr><td>⋮</td><td>⋮</td><td>⋮</td><td>⋮</td><td>⋮</td><td>⋮</td><td>⋮</td><td>⋮</td><td>⋮</td><td>⋮</td><td>⋮</td><td>⋮</td><td>⋮</td><td>⋮</td><td>⋮</td><td>⋮</td></tr>\n",
       "\t<tr><td>Lonsurf                   </td><td>TRIFLURIDINE / TIPIRACIL                                                                                                                        </td><td>Les Laboratoires Servier               </td><td>Authorised</td><td>07/07/2017</td><td>Initial marketing authorisation</td><td>L01BC  </td><td>No </td><td>No </td><td>No</td><td>No</td><td>No </td><td>No</td><td>No </td><td>EMEA/H/C/003897/0000     </td><td> 66</td></tr>\n",
       "\t<tr><td>Flixabi                   </td><td>INFLIXIMAB                                                                                                                                      </td><td>Samsung Bioepis UK Limited (SBUK)      </td><td>Authorised</td><td>30/06/2017</td><td>Initial marketing authorisation</td><td>L04AB02</td><td>No </td><td>Yes</td><td>No</td><td>No</td><td>No </td><td>No</td><td>No </td><td>EMEA/H/C/004020/0000     </td><td> 15</td></tr>\n",
       "\t<tr><td>Strimvelis                </td><td>AUTOLOGOUS CD34+ ENRICHED CELL FRACTION THAT CONTAINS CD34+ CELLS TRANSDUCED WITH RETROVIRAL VECTOR THAT ENCODES FOR THE HUMAN ADA CDNA SEQUENCE</td><td>GlaxoSmithKline Trading Services       </td><td>Authorised</td><td>29/06/2017</td><td>Initial marketing authorisation</td><td>L03    </td><td>No </td><td>No </td><td>No</td><td>No</td><td>Yes</td><td>No</td><td>No </td><td>EMEA/H/C/003854/0000     </td><td> 23</td></tr>\n",
       "\t<tr><td>Halaven                   </td><td>ERIBULIN                                                                                                                                        </td><td>Eisai Europe Ltd.                      </td><td>Authorised</td><td>22/06/2017</td><td>Extension of indication        </td><td>L01XX41</td><td>No </td><td>No </td><td>No</td><td>No</td><td>No </td><td>No</td><td>No </td><td>EMEA/H/C/002084/II/0028  </td><td> 34</td></tr>\n",
       "\t<tr><td>OPDIVO                    </td><td>NIVOLUMAB                                                                                                                                       </td><td>Bristol-Myers Squibb Pharma EEIG       </td><td>Authorised</td><td>21/06/2017</td><td>Extension of indication        </td><td>L01XC17</td><td>No </td><td>No </td><td>No</td><td>No</td><td>No </td><td>No</td><td>No </td><td>EMEA/H/C/003985/II/0002  </td><td>  8</td></tr>\n",
       "\t<tr><td>OPDIVO                    </td><td>NIVOLUMAB                                                                                                                                       </td><td>Bristol-Myers Squibb Pharma EEIG       </td><td>Authorised</td><td>21/06/2017</td><td>Extension of indication        </td><td>L01XC17</td><td>No </td><td>No </td><td>No</td><td>No</td><td>No </td><td>No</td><td>No </td><td>EMEA/H/C/003985/II/0008  </td><td> 12</td></tr>\n",
       "\t<tr><td>Bortezomib Hospira        </td><td>BORTEZOMIB                                                                                                                                      </td><td>Hospira UK Limited                     </td><td>Authorised</td><td>12/06/2017</td><td>Initial marketing authorisation</td><td>L01XX32</td><td>Yes</td><td>No </td><td>No</td><td>No</td><td>No </td><td>No</td><td>No </td><td>EMEA/H/C/004207/0000     </td><td>  2</td></tr>\n",
       "\t<tr><td>Alprolix                  </td><td>EFTRENONACOG ALFA                                                                                                                               </td><td>Swedish Orphan Biovitrum AB (publ)     </td><td>Authorised</td><td>02/06/2017</td><td>Initial marketing authorisation</td><td>B02BD04</td><td>No </td><td>No </td><td>No</td><td>No</td><td>Yes</td><td>No</td><td>No </td><td>EMEA/H/C/004142/0000     </td><td> 16</td></tr>\n",
       "\t<tr><td>Rasagiline Mylan          </td><td>RASAGILINE                                                                                                                                      </td><td>MYLAN S.A.S                            </td><td>Authorised</td><td>02/06/2017</td><td>Initial marketing authorisation</td><td>N04BD02</td><td>Yes</td><td>No </td><td>No</td><td>No</td><td>No </td><td>No</td><td>No </td><td>EMEA/H/C/004064/0000     </td><td>  7</td></tr>\n",
       "\t<tr><td>EndolucinBeta             </td><td>LUTETIUM (177 LU) CHLORIDE                                                                                                                      </td><td>ITG Isotope Technologies Garching GmbH </td><td>Authorised</td><td>01/06/2017</td><td>Initial marketing authorisation</td><td>V10X   </td><td>No </td><td>No </td><td>No</td><td>No</td><td>No </td><td>No</td><td>No </td><td>EMEA/H/C/003999/0000     </td><td>  2</td></tr>\n",
       "\t<tr><td>Pemetrexed Fresenius Kabi </td><td>PEMETREXED                                                                                                                                      </td><td>Fresenius Kabi Oncology PLC            </td><td>Authorised</td><td>18/05/2017</td><td>Initial marketing authorisation</td><td>L01BA04</td><td>Yes</td><td>No </td><td>No</td><td>No</td><td>No </td><td>No</td><td>No </td><td>EMEA/H/C/003895/0000     </td><td>  2</td></tr>\n",
       "\t<tr><td>Giotrif                   </td><td>AFATINIB                                                                                                                                        </td><td>Boehringer Ingelheim International GmbH</td><td>Authorised</td><td>18/05/2017</td><td>Extension of indication        </td><td>L01XE13</td><td>No </td><td>No </td><td>No</td><td>No</td><td>No </td><td>No</td><td>No </td><td>EMEA/H/C/002280/II/0012  </td><td> 86</td></tr>\n",
       "\t<tr><td>TAGRISSO                  </td><td>OSIMERTINIB                                                                                                                                     </td><td>AstraZeneca AB                         </td><td>Authorised</td><td>05/05/2017</td><td>Initial marketing authorisation</td><td>L01XE  </td><td>No </td><td>No </td><td>No</td><td>No</td><td>No </td><td>No</td><td>No </td><td>EMEA/H/C/004124/0000     </td><td>104</td></tr>\n",
       "\t<tr><td>Ferriprox                 </td><td>DEFERIPRONE                                                                                                                                     </td><td>Apotex Europe BV                       </td><td>Authorised</td><td>05/05/2017</td><td>Extension of indication        </td><td>V03AC02</td><td>No </td><td>No </td><td>No</td><td>No</td><td>No </td><td>No</td><td>No </td><td>EMEA/H/C/000236/II/0103  </td><td>  2</td></tr>\n",
       "\t<tr><td>Zonisamide Mylan          </td><td>ZONISAMIDE                                                                                                                                      </td><td>Mylan S.A.S                            </td><td>Authorised</td><td>02/05/2017</td><td>Initial marketing authorisation</td><td>N03AX15</td><td>Yes</td><td>No </td><td>No</td><td>No</td><td>No </td><td>No</td><td>No </td><td>EMEA/H/C/004127/0000     </td><td>  4</td></tr>\n",
       "\t<tr><td>IDELVION                  </td><td>ALBUTREPENONACOG ALFA                                                                                                                           </td><td>CSL Behring GmbH                       </td><td>Authorised</td><td>28/04/2017</td><td>Initial marketing authorisation</td><td>B02BD  </td><td>No </td><td>No </td><td>No</td><td>No</td><td>Yes</td><td>No</td><td>No </td><td>EMEA/H/C/003955/0000     </td><td> 45</td></tr>\n",
       "\t<tr><td>Descovy                   </td><td>EMTRICITABINE / TENOFOVIR ALAFENAMIDE                                                                                                           </td><td>Gilead Sciences International Ltd      </td><td>Authorised</td><td>21/04/2017</td><td>Initial marketing authorisation</td><td>J05AR17</td><td>No </td><td>No </td><td>No</td><td>No</td><td>No </td><td>No</td><td>No </td><td>EMEA/H/C/004094/0000     </td><td>324</td></tr>\n",
       "\t<tr><td>Palonosetron Accord       </td><td>PALONOSETRON                                                                                                                                    </td><td>Accord Healthcare Ltd                  </td><td>Authorised</td><td>16/03/2017</td><td>Initial marketing authorisation</td><td>A04AA05</td><td>Yes</td><td>No </td><td>No</td><td>No</td><td>No </td><td>No</td><td>No </td><td>EMEA/H/C/004129/0000     </td><td>  2</td></tr>\n",
       "\t<tr><td>Amlodipine-Valsartan Mylan</td><td>AMLODIPINE / VALSARTAN                                                                                                                          </td><td>MYLAN S.A.S                            </td><td>Authorised</td><td>16/03/2017</td><td>Initial marketing authorisation</td><td>C09DB01</td><td>Yes</td><td>No </td><td>No</td><td>No</td><td>No </td><td>No</td><td>No </td><td>EMEA/H/C/004037/0000     </td><td> 11</td></tr>\n",
       "\t<tr><td>Empliciti                 </td><td>Elotuzumab                                                                                                                                      </td><td>Bristol-Myers Squibb Pharma EEIG       </td><td>Authorised</td><td>28/02/2017</td><td>Initial marketing authorisation</td><td>L01XC23</td><td>No </td><td>No </td><td>No</td><td>No</td><td>No </td><td>No</td><td>No </td><td>EMEA/H/C/003967/0000     </td><td> 20</td></tr>\n",
       "\t<tr><td>Coagadex                  </td><td>Human coagulation factor X                                                                                                                      </td><td>Bio Products Laboratory Limited        </td><td>Authorised</td><td>28/02/2017</td><td>Initial marketing authorisation</td><td>B02BD13</td><td>No </td><td>No </td><td>No</td><td>No</td><td>Yes</td><td>No</td><td>No </td><td>EMEA/H/C/003855/0000     </td><td>  7</td></tr>\n",
       "\t<tr><td><span style=white-space:pre-wrap>Cubicin                   </span></td><td><span style=white-space:pre-wrap>Daptomycin                                                                                                                                      </span></td><td><span style=white-space:pre-wrap>Merck Sharp &amp; Dohme Limited            </span></td><td>Authorised</td><td>27/02/2017</td><td><span style=white-space:pre-wrap>Extension of indication        </span></td><td>J01XX09</td><td>No </td><td>No </td><td>No</td><td>No</td><td>No </td><td>No</td><td>No </td><td>EMEA/H/C/000637/II/0053/G</td><td> 28</td></tr>\n",
       "\t<tr><td>Aripiprazole Mylan        </td><td>Aripiprazole                                                                                                                                    </td><td>MYLAN S.A.S                            </td><td>Withdrawn </td><td>31/01/2017</td><td>Initial marketing authorisation</td><td>N05AX12</td><td>Yes</td><td>No </td><td>No</td><td>No</td><td>No </td><td>No</td><td>Yes</td><td>EMEA/H/C/004236/0000     </td><td> 12</td></tr>\n",
       "\t<tr><td>Palonosetron Hospira      </td><td>Palonosetron                                                                                                                                    </td><td>Hospira UK Limited                     </td><td>Authorised</td><td>30/01/2017</td><td>Initial marketing authorisation</td><td>A04AA05</td><td>Yes</td><td>No </td><td>No</td><td>No</td><td>No </td><td>No</td><td>No </td><td>EMEA/H/C/004069/0000     </td><td>  2</td></tr>\n",
       "\t<tr><td>Praxbind                  </td><td>Idarucizumab                                                                                                                                    </td><td>Boehringer Ingelheim International GmbH</td><td>Authorised</td><td>21/12/2016</td><td>Initial marketing authorisation</td><td>V03AB37</td><td>No </td><td>No </td><td>No</td><td>No</td><td>No </td><td>No</td><td>No </td><td>EMEA/H/C/003986/0000     </td><td> 25</td></tr>\n",
       "\t<tr><td>Tarceva                   </td><td>Erlotinib                                                                                                                                       </td><td>Roche Registration Limited             </td><td>Authorised</td><td>21/12/2016</td><td>Extension of indication        </td><td>L01XE03</td><td>No </td><td>No </td><td>No</td><td>No</td><td>No </td><td>No</td><td>No </td><td>EMEA/H/C/000618/II/0043  </td><td>  7</td></tr>\n",
       "\t<tr><td>Armisarte                 </td><td>Pemetrexed diacid monohydrate                                                                                                                   </td><td>Actavis Group PTC ehf                  </td><td>Authorised</td><td>24/11/2016</td><td>Initial marketing authorisation</td><td>L01BA04</td><td>No </td><td>No </td><td>No</td><td>No</td><td>No </td><td>No</td><td>No </td><td>EMEA/H/C/004109/0000     </td><td> 19</td></tr>\n",
       "\t<tr><td>Caspofungin Accord        </td><td>Caspofungin acetate                                                                                                                             </td><td>Accord Healthcare Ltd                  </td><td>Authorised</td><td>24/11/2016</td><td>Initial marketing authorisation</td><td>J02AX04</td><td>Yes</td><td>No </td><td>No</td><td>No</td><td>No </td><td>No</td><td>No </td><td>EMEA/H/C/004134/0000     </td><td>  2</td></tr>\n",
       "\t<tr><td>Zurampic                  </td><td>Lesinurad                                                                                                                                       </td><td>Grunenthal GmbH                        </td><td>Authorised</td><td>20/10/2016</td><td>Initial marketing authorisation</td><td>M04AB05</td><td>No </td><td>No </td><td>No</td><td>No</td><td>No </td><td>No</td><td>No </td><td>EMEA/H/C/003932/0000     </td><td>246</td></tr>\n",
       "\t<tr><td>Kyprolis                  </td><td>CARFILZOMIB                                                                                                                                     </td><td>Amgen Europe B.V.                      </td><td>Authorised</td><td>20/10/2016</td><td>Initial marketing authorisation</td><td>L01XX45</td><td>No </td><td>No </td><td>No</td><td>No</td><td>Yes</td><td>No</td><td>No </td><td>EMEA/H/C/003790/0000     </td><td>115</td></tr>\n",
       "</tbody>\n",
       "</table>\n"
      ],
      "text/latex": [
       "A data.table: 147 × 16\n",
       "\\begin{tabular}{llllllllllllllll}\n",
       " ProductName & ActiveSubstance & Mah & ProductStatus & PublicationDate & ProcedureType & AtcCode & Generic & Biosimilar & ConditionalApproval & ExceptionalCircumstances & Orphan & article58 & WithdrawnProcedure & ProcedureNumber & numberOfDocuments\\\\\n",
       " <chr> & <chr> & <chr> & <chr> & <chr> & <chr> & <chr> & <chr> & <chr> & <chr> & <chr> & <chr> & <chr> & <chr> & <chr> & <int>\\\\\n",
       "\\hline\n",
       "\t Dexamethasone Taw (WD)   & DEXAMETHASONE PHOSPHATE                                & Taw Pharma (Ireland) Ltd                & Withdrawn  & 19/03/2021 & Initial marketing authorisation & H02AB02 & No  & No  & No  & No & No  & No & Yes & EMEA/H/C/005740/0000         &   2\\\\\n",
       "\t COMIRNATY                & COVID-19 mRNA vaccine (nucleoside-modified)            & BioNTech Manufacturing GmbH             & Authorised & 11/03/2021 & Initial marketing authorisation & J07BX03 & No  & No  & Yes & No & No  & No & No  & EMEA/H/C/005735/0000         &  18\\\\\n",
       "\t COVID-19 Vaccine Moderna & COVID-19 mRNA vaccine (nucleoside-modified)            & Moderna Biotech Spain  S.L.             & Authorised & 02/03/2021 & Initial marketing authorisation & J07BX03 & No  & No  & Yes & No & No  & No & No  & EMEA/H/C/005791/0000         &  26\\\\\n",
       "\t Veklury                  & REMDESIVIR                                             & Gilead Sciences Ireland UC              & Authorised & 25/02/2021 & Extension of indication         & J05AB16 & No  & No  & No  & No & No  & No & No  & EMEA/H/C/005622/0000/II/0012 &   3\\\\\n",
       "\t Veklury                  & REMDESIVIR                                             & Gilead Sciences Ireland UC              & Authorised & 30/10/2020 & Initial marketing authorisation & N/A     & No  & No  & Yes & No & No  & No & No  & EMEA/H/C/005622/0000         &  64\\\\\n",
       "\t Inovelon                 & RUFINAMIDE                                             & Eisai GmbH                              & Authorised & 04/12/2018 & Extension of indication         & N03AF03 & No  & No  & No  & No & Yes & No & No  & EMEA/H/C/000660/II/0037      &  21\\\\\n",
       "\t Ameluz                   & 5-AMINOLEVULINIC ACID                                  & Biofrontera Bioscience GmbH             & Authorised & 12/11/2018 & Extension of indication         & L01XD04 & No  & No  & No  & No & No  & No & No  & EMEA/H/C/002204/II/0020      &  25\\\\\n",
       "\t Truxima                  & RITUXIMAB                                              & Celltrion Healthcare Hungary Kft.       & Authorised & 09/11/2018 & Initial marketing authorisation & L01XC02 & No  & Yes & No  & No & No  & No & No  & EMEA/H/C/004112/0000         &  32\\\\\n",
       "\t Alecensa                 & ALECTINIB                                              & Roche Registration GmbH                 & Authorised & 17/10/2018 & Initial marketing authorisation & L01XE36 & No  & No  & No  & No & No  & No & No  & EMEA/H/C/004164/0000         &  44\\\\\n",
       "\t Lucentis                 & RANIBIZUMAB                                            & Novartis Europharm Limited              & Authorised & 09/10/2018 & Extension of indication         & S01LA04 & No  & No  & No  & No & No  & No & No  & EMEA/H/C/000715/II/0061      &  14\\\\\n",
       "\t Movymia                  & TERIPARATIDE                                           & STADA Arzneimittel AG                   & Authorised & 02/10/2018 & Initial marketing authorisation & H05AA02 & No  & Yes & No  & No & No  & No & No  & EMEA/H/C/004368/0000         &   6\\\\\n",
       "\t Terrosa                  & TERIPARATIDE                                           & Gedeon Richter Plc.                     & Authorised & 02/10/2018 & Initial marketing authorisation & H05AA02 & No  & Yes & No  & No & No  & No & No  & EMEA/H/C/003916/0000         &   6\\\\\n",
       "\t Jardiance                & EMPAGLIFLOZIN                                          & Boehringer Ingelheim International GmbH & Authorised & 01/10/2018 & Extension of indication         & A10BK03 & No  & No  & No  & No & No  & No & No  & EMEA/H/C/002677/II/0014      &  16\\\\\n",
       "\t LEDAGA                   & CHLORMETHINE                                           & Actelion Registration Limited           & Authorised & 28/09/2018 & Initial marketing authorisation & L01AA05 & No  & No  & No  & No & Yes & No & No  & EMEA/H/C/002826/0000         &  22\\\\\n",
       "\t Ivabradine Accord        & IVABRADINE                                             & Accord Healthcare Limited               & Authorised & 27/09/2018 & Initial marketing authorisation & C01EB17 & Yes & No  & No  & No & No  & No & No  & EMEA/H/C/004241/0000         &   4\\\\\n",
       "\t Pregabalin Zentiva k.s.  & PREGABALIN                                             & Zentiva k.s.                            & Authorised & 18/09/2018 & Initial marketing authorisation & N03AX16 & Yes & No  & No  & No & No  & No & No  & EMEA/H/C/004277/0000         &   4\\\\\n",
       "\t Kepnetic (WD)            & ACENEURAMIC ACID                                       & Ultragenyx UK Limited                   & Withdrawn  & 18/09/2018 & Initial marketing authorisation & M09AX   & No  & No  & No  & No & No  & No & Yes & EMEA/H/C/004176/0000         &  33\\\\\n",
       "\t Keytruda                 & PEMBROLIZUMAB                                          & Merck Sharp \\& Dohme B.V.                & Authorised & 14/09/2018 & Extension of indication         & L01XC18 & No  & No  & No  & No & No  & No & No  & EMEA/H/C/003820/II/0011      &  15\\\\\n",
       "\t Darunavir Mylan          & DARUNAVIR                                              & Mylan S.A.S                             & Authorised & 13/09/2018 & Initial marketing authorisation & J05AE10 & Yes & No  & No  & No & No  & No & No  & EMEA/H/C/004068/0000         &  21\\\\\n",
       "\t Humira                   & ADALIMUMAB                                             & AbbVie Deutschland GmbH \\& Co. KG        & Authorised & 13/09/2018 & Extension of indication         & L04AB04 & No  & No  & No  & No & No  & No & No  & EMEA/H/C/000481/II/0154      &  13\\\\\n",
       "\t OCALIVA                  & OBETICHOLIC ACID                                       & Intercept Pharma Ltd                    & Authorised & 12/09/2018 & Initial marketing authorisation & A05AA04 & No  & No  & Yes & No & Yes & No & No  & EMEA/H/C/004093/0000         & 160\\\\\n",
       "\t LUSDUNA                  & INSULIN GLARGINE                                       & Merck Sharp \\& Dohme Limited             & Authorised & 05/09/2018 & Initial marketing authorisation & A10AE04 & No  & Yes & No  & No & No  & No & No  & EMEA/H/C/004101/0000         &  55\\\\\n",
       "\t Vimpat                   & LACOSAMIDE                                             & UCB Pharma S.A.                         & Authorised & 03/09/2018 & Extension of indication         & N03AX18 & No  & No  & No  & No & No  & No & No  & EMEA/H/C/000863/II/0060/G    &   9\\\\\n",
       "\t Afstyla                  & LONOCTOCOG ALFA                                        & CSL Behring GmbH                        & Authorised & 30/08/2018 & Initial marketing authorisation & B02BD02 & No  & No  & No  & No & No  & No & No  & EMEA/H/C/004075/0000         &  38\\\\\n",
       "\t Nimenrix                 & MENINGOCOCCAL GROUP A  C  W135 AND Y CONJUGATE VACCINE & Pfizer Limited                          & Authorised & 29/08/2018 & Extension of indication         & J07AH08 & No  & No  & No  & No & No  & No & No  & EMEA/H/C/002226/II/0049      &   9\\\\\n",
       "\t Jentadueto               & LINAGLIPTIN / METFORMIN                                & Boehringer Ingelheim International GmbH & Authorised & 24/08/2018 & Workshare                       & A10BD11 & No  & No  & No  & No & No  & No & No  & EMEA/H/C/002279/WS0915       &  21\\\\\n",
       "\t Trajenta                 & LINAGLIPTIN                                            & Boehringer Ingelheim International GmbH & Authorised & 24/08/2018 & Workshare                       & A10BH05 & No  & No  & No  & No & No  & No & No  & EMEA/H/C/002110/WS0915       &  21\\\\\n",
       "\t Olumiant                 & BARICITINIB                                            & Eli Lilly Nederland B.V.                & Authorised & 14/08/2018 & Initial marketing authorisation & L04AA37 & No  & No  & No  & No & No  & No & No  & EMEA/H/C/004085/0000         & 145\\\\\n",
       "\t Cinryze                  & C1 ESTERASE INHIBITOR (HUMAN)                          & Shire Services BVBA                     & Authorised & 07/08/2018 & Extension of indication         & B06AC01 & No  & No  & No  & No & No  & No & No  & EMEA/H/C/001207/II/0045      &  30\\\\\n",
       "\t Stelara                  & USTEKINUMAB                                            & Janssen-Cilag International NV          & Authorised & 03/08/2018 & Line Extension                  & L04AC05 & No  & No  & No  & No & No  & No & No  & EMEA/H/C/000958/X/0049/G     &  36\\\\\n",
       "\t ⋮ & ⋮ & ⋮ & ⋮ & ⋮ & ⋮ & ⋮ & ⋮ & ⋮ & ⋮ & ⋮ & ⋮ & ⋮ & ⋮ & ⋮ & ⋮\\\\\n",
       "\t Lonsurf                    & TRIFLURIDINE / TIPIRACIL                                                                                                                         & Les Laboratoires Servier                & Authorised & 07/07/2017 & Initial marketing authorisation & L01BC   & No  & No  & No & No & No  & No & No  & EMEA/H/C/003897/0000      &  66\\\\\n",
       "\t Flixabi                    & INFLIXIMAB                                                                                                                                       & Samsung Bioepis UK Limited (SBUK)       & Authorised & 30/06/2017 & Initial marketing authorisation & L04AB02 & No  & Yes & No & No & No  & No & No  & EMEA/H/C/004020/0000      &  15\\\\\n",
       "\t Strimvelis                 & AUTOLOGOUS CD34+ ENRICHED CELL FRACTION THAT CONTAINS CD34+ CELLS TRANSDUCED WITH RETROVIRAL VECTOR THAT ENCODES FOR THE HUMAN ADA CDNA SEQUENCE & GlaxoSmithKline Trading Services        & Authorised & 29/06/2017 & Initial marketing authorisation & L03     & No  & No  & No & No & Yes & No & No  & EMEA/H/C/003854/0000      &  23\\\\\n",
       "\t Halaven                    & ERIBULIN                                                                                                                                         & Eisai Europe Ltd.                       & Authorised & 22/06/2017 & Extension of indication         & L01XX41 & No  & No  & No & No & No  & No & No  & EMEA/H/C/002084/II/0028   &  34\\\\\n",
       "\t OPDIVO                     & NIVOLUMAB                                                                                                                                        & Bristol-Myers Squibb Pharma EEIG        & Authorised & 21/06/2017 & Extension of indication         & L01XC17 & No  & No  & No & No & No  & No & No  & EMEA/H/C/003985/II/0002   &   8\\\\\n",
       "\t OPDIVO                     & NIVOLUMAB                                                                                                                                        & Bristol-Myers Squibb Pharma EEIG        & Authorised & 21/06/2017 & Extension of indication         & L01XC17 & No  & No  & No & No & No  & No & No  & EMEA/H/C/003985/II/0008   &  12\\\\\n",
       "\t Bortezomib Hospira         & BORTEZOMIB                                                                                                                                       & Hospira UK Limited                      & Authorised & 12/06/2017 & Initial marketing authorisation & L01XX32 & Yes & No  & No & No & No  & No & No  & EMEA/H/C/004207/0000      &   2\\\\\n",
       "\t Alprolix                   & EFTRENONACOG ALFA                                                                                                                                & Swedish Orphan Biovitrum AB (publ)      & Authorised & 02/06/2017 & Initial marketing authorisation & B02BD04 & No  & No  & No & No & Yes & No & No  & EMEA/H/C/004142/0000      &  16\\\\\n",
       "\t Rasagiline Mylan           & RASAGILINE                                                                                                                                       & MYLAN S.A.S                             & Authorised & 02/06/2017 & Initial marketing authorisation & N04BD02 & Yes & No  & No & No & No  & No & No  & EMEA/H/C/004064/0000      &   7\\\\\n",
       "\t EndolucinBeta              & LUTETIUM (177 LU) CHLORIDE                                                                                                                       & ITG Isotope Technologies Garching GmbH  & Authorised & 01/06/2017 & Initial marketing authorisation & V10X    & No  & No  & No & No & No  & No & No  & EMEA/H/C/003999/0000      &   2\\\\\n",
       "\t Pemetrexed Fresenius Kabi  & PEMETREXED                                                                                                                                       & Fresenius Kabi Oncology PLC             & Authorised & 18/05/2017 & Initial marketing authorisation & L01BA04 & Yes & No  & No & No & No  & No & No  & EMEA/H/C/003895/0000      &   2\\\\\n",
       "\t Giotrif                    & AFATINIB                                                                                                                                         & Boehringer Ingelheim International GmbH & Authorised & 18/05/2017 & Extension of indication         & L01XE13 & No  & No  & No & No & No  & No & No  & EMEA/H/C/002280/II/0012   &  86\\\\\n",
       "\t TAGRISSO                   & OSIMERTINIB                                                                                                                                      & AstraZeneca AB                          & Authorised & 05/05/2017 & Initial marketing authorisation & L01XE   & No  & No  & No & No & No  & No & No  & EMEA/H/C/004124/0000      & 104\\\\\n",
       "\t Ferriprox                  & DEFERIPRONE                                                                                                                                      & Apotex Europe BV                        & Authorised & 05/05/2017 & Extension of indication         & V03AC02 & No  & No  & No & No & No  & No & No  & EMEA/H/C/000236/II/0103   &   2\\\\\n",
       "\t Zonisamide Mylan           & ZONISAMIDE                                                                                                                                       & Mylan S.A.S                             & Authorised & 02/05/2017 & Initial marketing authorisation & N03AX15 & Yes & No  & No & No & No  & No & No  & EMEA/H/C/004127/0000      &   4\\\\\n",
       "\t IDELVION                   & ALBUTREPENONACOG ALFA                                                                                                                            & CSL Behring GmbH                        & Authorised & 28/04/2017 & Initial marketing authorisation & B02BD   & No  & No  & No & No & Yes & No & No  & EMEA/H/C/003955/0000      &  45\\\\\n",
       "\t Descovy                    & EMTRICITABINE / TENOFOVIR ALAFENAMIDE                                                                                                            & Gilead Sciences International Ltd       & Authorised & 21/04/2017 & Initial marketing authorisation & J05AR17 & No  & No  & No & No & No  & No & No  & EMEA/H/C/004094/0000      & 324\\\\\n",
       "\t Palonosetron Accord        & PALONOSETRON                                                                                                                                     & Accord Healthcare Ltd                   & Authorised & 16/03/2017 & Initial marketing authorisation & A04AA05 & Yes & No  & No & No & No  & No & No  & EMEA/H/C/004129/0000      &   2\\\\\n",
       "\t Amlodipine-Valsartan Mylan & AMLODIPINE / VALSARTAN                                                                                                                           & MYLAN S.A.S                             & Authorised & 16/03/2017 & Initial marketing authorisation & C09DB01 & Yes & No  & No & No & No  & No & No  & EMEA/H/C/004037/0000      &  11\\\\\n",
       "\t Empliciti                  & Elotuzumab                                                                                                                                       & Bristol-Myers Squibb Pharma EEIG        & Authorised & 28/02/2017 & Initial marketing authorisation & L01XC23 & No  & No  & No & No & No  & No & No  & EMEA/H/C/003967/0000      &  20\\\\\n",
       "\t Coagadex                   & Human coagulation factor X                                                                                                                       & Bio Products Laboratory Limited         & Authorised & 28/02/2017 & Initial marketing authorisation & B02BD13 & No  & No  & No & No & Yes & No & No  & EMEA/H/C/003855/0000      &   7\\\\\n",
       "\t Cubicin                    & Daptomycin                                                                                                                                       & Merck Sharp \\& Dohme Limited             & Authorised & 27/02/2017 & Extension of indication         & J01XX09 & No  & No  & No & No & No  & No & No  & EMEA/H/C/000637/II/0053/G &  28\\\\\n",
       "\t Aripiprazole Mylan         & Aripiprazole                                                                                                                                     & MYLAN S.A.S                             & Withdrawn  & 31/01/2017 & Initial marketing authorisation & N05AX12 & Yes & No  & No & No & No  & No & Yes & EMEA/H/C/004236/0000      &  12\\\\\n",
       "\t Palonosetron Hospira       & Palonosetron                                                                                                                                     & Hospira UK Limited                      & Authorised & 30/01/2017 & Initial marketing authorisation & A04AA05 & Yes & No  & No & No & No  & No & No  & EMEA/H/C/004069/0000      &   2\\\\\n",
       "\t Praxbind                   & Idarucizumab                                                                                                                                     & Boehringer Ingelheim International GmbH & Authorised & 21/12/2016 & Initial marketing authorisation & V03AB37 & No  & No  & No & No & No  & No & No  & EMEA/H/C/003986/0000      &  25\\\\\n",
       "\t Tarceva                    & Erlotinib                                                                                                                                        & Roche Registration Limited              & Authorised & 21/12/2016 & Extension of indication         & L01XE03 & No  & No  & No & No & No  & No & No  & EMEA/H/C/000618/II/0043   &   7\\\\\n",
       "\t Armisarte                  & Pemetrexed diacid monohydrate                                                                                                                    & Actavis Group PTC ehf                   & Authorised & 24/11/2016 & Initial marketing authorisation & L01BA04 & No  & No  & No & No & No  & No & No  & EMEA/H/C/004109/0000      &  19\\\\\n",
       "\t Caspofungin Accord         & Caspofungin acetate                                                                                                                              & Accord Healthcare Ltd                   & Authorised & 24/11/2016 & Initial marketing authorisation & J02AX04 & Yes & No  & No & No & No  & No & No  & EMEA/H/C/004134/0000      &   2\\\\\n",
       "\t Zurampic                   & Lesinurad                                                                                                                                        & Grunenthal GmbH                         & Authorised & 20/10/2016 & Initial marketing authorisation & M04AB05 & No  & No  & No & No & No  & No & No  & EMEA/H/C/003932/0000      & 246\\\\\n",
       "\t Kyprolis                   & CARFILZOMIB                                                                                                                                      & Amgen Europe B.V.                       & Authorised & 20/10/2016 & Initial marketing authorisation & L01XX45 & No  & No  & No & No & Yes & No & No  & EMEA/H/C/003790/0000      & 115\\\\\n",
       "\\end{tabular}\n"
      ],
      "text/markdown": [
       "\n",
       "A data.table: 147 × 16\n",
       "\n",
       "| ProductName &lt;chr&gt; | ActiveSubstance &lt;chr&gt; | Mah &lt;chr&gt; | ProductStatus &lt;chr&gt; | PublicationDate &lt;chr&gt; | ProcedureType &lt;chr&gt; | AtcCode &lt;chr&gt; | Generic &lt;chr&gt; | Biosimilar &lt;chr&gt; | ConditionalApproval &lt;chr&gt; | ExceptionalCircumstances &lt;chr&gt; | Orphan &lt;chr&gt; | article58 &lt;chr&gt; | WithdrawnProcedure &lt;chr&gt; | ProcedureNumber &lt;chr&gt; | numberOfDocuments &lt;int&gt; |\n",
       "|---|---|---|---|---|---|---|---|---|---|---|---|---|---|---|---|\n",
       "| Dexamethasone Taw (WD)   | DEXAMETHASONE PHOSPHATE                                | Taw Pharma (Ireland) Ltd                | Withdrawn  | 19/03/2021 | Initial marketing authorisation | H02AB02 | No  | No  | No  | No | No  | No | Yes | EMEA/H/C/005740/0000         |   2 |\n",
       "| COMIRNATY                | COVID-19 mRNA vaccine (nucleoside-modified)            | BioNTech Manufacturing GmbH             | Authorised | 11/03/2021 | Initial marketing authorisation | J07BX03 | No  | No  | Yes | No | No  | No | No  | EMEA/H/C/005735/0000         |  18 |\n",
       "| COVID-19 Vaccine Moderna | COVID-19 mRNA vaccine (nucleoside-modified)            | Moderna Biotech Spain  S.L.             | Authorised | 02/03/2021 | Initial marketing authorisation | J07BX03 | No  | No  | Yes | No | No  | No | No  | EMEA/H/C/005791/0000         |  26 |\n",
       "| Veklury                  | REMDESIVIR                                             | Gilead Sciences Ireland UC              | Authorised | 25/02/2021 | Extension of indication         | J05AB16 | No  | No  | No  | No | No  | No | No  | EMEA/H/C/005622/0000/II/0012 |   3 |\n",
       "| Veklury                  | REMDESIVIR                                             | Gilead Sciences Ireland UC              | Authorised | 30/10/2020 | Initial marketing authorisation | N/A     | No  | No  | Yes | No | No  | No | No  | EMEA/H/C/005622/0000         |  64 |\n",
       "| Inovelon                 | RUFINAMIDE                                             | Eisai GmbH                              | Authorised | 04/12/2018 | Extension of indication         | N03AF03 | No  | No  | No  | No | Yes | No | No  | EMEA/H/C/000660/II/0037      |  21 |\n",
       "| Ameluz                   | 5-AMINOLEVULINIC ACID                                  | Biofrontera Bioscience GmbH             | Authorised | 12/11/2018 | Extension of indication         | L01XD04 | No  | No  | No  | No | No  | No | No  | EMEA/H/C/002204/II/0020      |  25 |\n",
       "| Truxima                  | RITUXIMAB                                              | Celltrion Healthcare Hungary Kft.       | Authorised | 09/11/2018 | Initial marketing authorisation | L01XC02 | No  | Yes | No  | No | No  | No | No  | EMEA/H/C/004112/0000         |  32 |\n",
       "| Alecensa                 | ALECTINIB                                              | Roche Registration GmbH                 | Authorised | 17/10/2018 | Initial marketing authorisation | L01XE36 | No  | No  | No  | No | No  | No | No  | EMEA/H/C/004164/0000         |  44 |\n",
       "| Lucentis                 | RANIBIZUMAB                                            | Novartis Europharm Limited              | Authorised | 09/10/2018 | Extension of indication         | S01LA04 | No  | No  | No  | No | No  | No | No  | EMEA/H/C/000715/II/0061      |  14 |\n",
       "| Movymia                  | TERIPARATIDE                                           | STADA Arzneimittel AG                   | Authorised | 02/10/2018 | Initial marketing authorisation | H05AA02 | No  | Yes | No  | No | No  | No | No  | EMEA/H/C/004368/0000         |   6 |\n",
       "| Terrosa                  | TERIPARATIDE                                           | Gedeon Richter Plc.                     | Authorised | 02/10/2018 | Initial marketing authorisation | H05AA02 | No  | Yes | No  | No | No  | No | No  | EMEA/H/C/003916/0000         |   6 |\n",
       "| Jardiance                | EMPAGLIFLOZIN                                          | Boehringer Ingelheim International GmbH | Authorised | 01/10/2018 | Extension of indication         | A10BK03 | No  | No  | No  | No | No  | No | No  | EMEA/H/C/002677/II/0014      |  16 |\n",
       "| LEDAGA                   | CHLORMETHINE                                           | Actelion Registration Limited           | Authorised | 28/09/2018 | Initial marketing authorisation | L01AA05 | No  | No  | No  | No | Yes | No | No  | EMEA/H/C/002826/0000         |  22 |\n",
       "| Ivabradine Accord        | IVABRADINE                                             | Accord Healthcare Limited               | Authorised | 27/09/2018 | Initial marketing authorisation | C01EB17 | Yes | No  | No  | No | No  | No | No  | EMEA/H/C/004241/0000         |   4 |\n",
       "| Pregabalin Zentiva k.s.  | PREGABALIN                                             | Zentiva k.s.                            | Authorised | 18/09/2018 | Initial marketing authorisation | N03AX16 | Yes | No  | No  | No | No  | No | No  | EMEA/H/C/004277/0000         |   4 |\n",
       "| Kepnetic (WD)            | ACENEURAMIC ACID                                       | Ultragenyx UK Limited                   | Withdrawn  | 18/09/2018 | Initial marketing authorisation | M09AX   | No  | No  | No  | No | No  | No | Yes | EMEA/H/C/004176/0000         |  33 |\n",
       "| Keytruda                 | PEMBROLIZUMAB                                          | Merck Sharp &amp; Dohme B.V.                | Authorised | 14/09/2018 | Extension of indication         | L01XC18 | No  | No  | No  | No | No  | No | No  | EMEA/H/C/003820/II/0011      |  15 |\n",
       "| Darunavir Mylan          | DARUNAVIR                                              | Mylan S.A.S                             | Authorised | 13/09/2018 | Initial marketing authorisation | J05AE10 | Yes | No  | No  | No | No  | No | No  | EMEA/H/C/004068/0000         |  21 |\n",
       "| Humira                   | ADALIMUMAB                                             | AbbVie Deutschland GmbH &amp; Co. KG        | Authorised | 13/09/2018 | Extension of indication         | L04AB04 | No  | No  | No  | No | No  | No | No  | EMEA/H/C/000481/II/0154      |  13 |\n",
       "| OCALIVA                  | OBETICHOLIC ACID                                       | Intercept Pharma Ltd                    | Authorised | 12/09/2018 | Initial marketing authorisation | A05AA04 | No  | No  | Yes | No | Yes | No | No  | EMEA/H/C/004093/0000         | 160 |\n",
       "| LUSDUNA                  | INSULIN GLARGINE                                       | Merck Sharp &amp; Dohme Limited             | Authorised | 05/09/2018 | Initial marketing authorisation | A10AE04 | No  | Yes | No  | No | No  | No | No  | EMEA/H/C/004101/0000         |  55 |\n",
       "| Vimpat                   | LACOSAMIDE                                             | UCB Pharma S.A.                         | Authorised | 03/09/2018 | Extension of indication         | N03AX18 | No  | No  | No  | No | No  | No | No  | EMEA/H/C/000863/II/0060/G    |   9 |\n",
       "| Afstyla                  | LONOCTOCOG ALFA                                        | CSL Behring GmbH                        | Authorised | 30/08/2018 | Initial marketing authorisation | B02BD02 | No  | No  | No  | No | No  | No | No  | EMEA/H/C/004075/0000         |  38 |\n",
       "| Nimenrix                 | MENINGOCOCCAL GROUP A  C  W135 AND Y CONJUGATE VACCINE | Pfizer Limited                          | Authorised | 29/08/2018 | Extension of indication         | J07AH08 | No  | No  | No  | No | No  | No | No  | EMEA/H/C/002226/II/0049      |   9 |\n",
       "| Jentadueto               | LINAGLIPTIN / METFORMIN                                | Boehringer Ingelheim International GmbH | Authorised | 24/08/2018 | Workshare                       | A10BD11 | No  | No  | No  | No | No  | No | No  | EMEA/H/C/002279/WS0915       |  21 |\n",
       "| Trajenta                 | LINAGLIPTIN                                            | Boehringer Ingelheim International GmbH | Authorised | 24/08/2018 | Workshare                       | A10BH05 | No  | No  | No  | No | No  | No | No  | EMEA/H/C/002110/WS0915       |  21 |\n",
       "| Olumiant                 | BARICITINIB                                            | Eli Lilly Nederland B.V.                | Authorised | 14/08/2018 | Initial marketing authorisation | L04AA37 | No  | No  | No  | No | No  | No | No  | EMEA/H/C/004085/0000         | 145 |\n",
       "| Cinryze                  | C1 ESTERASE INHIBITOR (HUMAN)                          | Shire Services BVBA                     | Authorised | 07/08/2018 | Extension of indication         | B06AC01 | No  | No  | No  | No | No  | No | No  | EMEA/H/C/001207/II/0045      |  30 |\n",
       "| Stelara                  | USTEKINUMAB                                            | Janssen-Cilag International NV          | Authorised | 03/08/2018 | Line Extension                  | L04AC05 | No  | No  | No  | No | No  | No | No  | EMEA/H/C/000958/X/0049/G     |  36 |\n",
       "| ⋮ | ⋮ | ⋮ | ⋮ | ⋮ | ⋮ | ⋮ | ⋮ | ⋮ | ⋮ | ⋮ | ⋮ | ⋮ | ⋮ | ⋮ | ⋮ |\n",
       "| Lonsurf                    | TRIFLURIDINE / TIPIRACIL                                                                                                                         | Les Laboratoires Servier                | Authorised | 07/07/2017 | Initial marketing authorisation | L01BC   | No  | No  | No | No | No  | No | No  | EMEA/H/C/003897/0000      |  66 |\n",
       "| Flixabi                    | INFLIXIMAB                                                                                                                                       | Samsung Bioepis UK Limited (SBUK)       | Authorised | 30/06/2017 | Initial marketing authorisation | L04AB02 | No  | Yes | No | No | No  | No | No  | EMEA/H/C/004020/0000      |  15 |\n",
       "| Strimvelis                 | AUTOLOGOUS CD34+ ENRICHED CELL FRACTION THAT CONTAINS CD34+ CELLS TRANSDUCED WITH RETROVIRAL VECTOR THAT ENCODES FOR THE HUMAN ADA CDNA SEQUENCE | GlaxoSmithKline Trading Services        | Authorised | 29/06/2017 | Initial marketing authorisation | L03     | No  | No  | No | No | Yes | No | No  | EMEA/H/C/003854/0000      |  23 |\n",
       "| Halaven                    | ERIBULIN                                                                                                                                         | Eisai Europe Ltd.                       | Authorised | 22/06/2017 | Extension of indication         | L01XX41 | No  | No  | No | No | No  | No | No  | EMEA/H/C/002084/II/0028   |  34 |\n",
       "| OPDIVO                     | NIVOLUMAB                                                                                                                                        | Bristol-Myers Squibb Pharma EEIG        | Authorised | 21/06/2017 | Extension of indication         | L01XC17 | No  | No  | No | No | No  | No | No  | EMEA/H/C/003985/II/0002   |   8 |\n",
       "| OPDIVO                     | NIVOLUMAB                                                                                                                                        | Bristol-Myers Squibb Pharma EEIG        | Authorised | 21/06/2017 | Extension of indication         | L01XC17 | No  | No  | No | No | No  | No | No  | EMEA/H/C/003985/II/0008   |  12 |\n",
       "| Bortezomib Hospira         | BORTEZOMIB                                                                                                                                       | Hospira UK Limited                      | Authorised | 12/06/2017 | Initial marketing authorisation | L01XX32 | Yes | No  | No | No | No  | No | No  | EMEA/H/C/004207/0000      |   2 |\n",
       "| Alprolix                   | EFTRENONACOG ALFA                                                                                                                                | Swedish Orphan Biovitrum AB (publ)      | Authorised | 02/06/2017 | Initial marketing authorisation | B02BD04 | No  | No  | No | No | Yes | No | No  | EMEA/H/C/004142/0000      |  16 |\n",
       "| Rasagiline Mylan           | RASAGILINE                                                                                                                                       | MYLAN S.A.S                             | Authorised | 02/06/2017 | Initial marketing authorisation | N04BD02 | Yes | No  | No | No | No  | No | No  | EMEA/H/C/004064/0000      |   7 |\n",
       "| EndolucinBeta              | LUTETIUM (177 LU) CHLORIDE                                                                                                                       | ITG Isotope Technologies Garching GmbH  | Authorised | 01/06/2017 | Initial marketing authorisation | V10X    | No  | No  | No | No | No  | No | No  | EMEA/H/C/003999/0000      |   2 |\n",
       "| Pemetrexed Fresenius Kabi  | PEMETREXED                                                                                                                                       | Fresenius Kabi Oncology PLC             | Authorised | 18/05/2017 | Initial marketing authorisation | L01BA04 | Yes | No  | No | No | No  | No | No  | EMEA/H/C/003895/0000      |   2 |\n",
       "| Giotrif                    | AFATINIB                                                                                                                                         | Boehringer Ingelheim International GmbH | Authorised | 18/05/2017 | Extension of indication         | L01XE13 | No  | No  | No | No | No  | No | No  | EMEA/H/C/002280/II/0012   |  86 |\n",
       "| TAGRISSO                   | OSIMERTINIB                                                                                                                                      | AstraZeneca AB                          | Authorised | 05/05/2017 | Initial marketing authorisation | L01XE   | No  | No  | No | No | No  | No | No  | EMEA/H/C/004124/0000      | 104 |\n",
       "| Ferriprox                  | DEFERIPRONE                                                                                                                                      | Apotex Europe BV                        | Authorised | 05/05/2017 | Extension of indication         | V03AC02 | No  | No  | No | No | No  | No | No  | EMEA/H/C/000236/II/0103   |   2 |\n",
       "| Zonisamide Mylan           | ZONISAMIDE                                                                                                                                       | Mylan S.A.S                             | Authorised | 02/05/2017 | Initial marketing authorisation | N03AX15 | Yes | No  | No | No | No  | No | No  | EMEA/H/C/004127/0000      |   4 |\n",
       "| IDELVION                   | ALBUTREPENONACOG ALFA                                                                                                                            | CSL Behring GmbH                        | Authorised | 28/04/2017 | Initial marketing authorisation | B02BD   | No  | No  | No | No | Yes | No | No  | EMEA/H/C/003955/0000      |  45 |\n",
       "| Descovy                    | EMTRICITABINE / TENOFOVIR ALAFENAMIDE                                                                                                            | Gilead Sciences International Ltd       | Authorised | 21/04/2017 | Initial marketing authorisation | J05AR17 | No  | No  | No | No | No  | No | No  | EMEA/H/C/004094/0000      | 324 |\n",
       "| Palonosetron Accord        | PALONOSETRON                                                                                                                                     | Accord Healthcare Ltd                   | Authorised | 16/03/2017 | Initial marketing authorisation | A04AA05 | Yes | No  | No | No | No  | No | No  | EMEA/H/C/004129/0000      |   2 |\n",
       "| Amlodipine-Valsartan Mylan | AMLODIPINE / VALSARTAN                                                                                                                           | MYLAN S.A.S                             | Authorised | 16/03/2017 | Initial marketing authorisation | C09DB01 | Yes | No  | No | No | No  | No | No  | EMEA/H/C/004037/0000      |  11 |\n",
       "| Empliciti                  | Elotuzumab                                                                                                                                       | Bristol-Myers Squibb Pharma EEIG        | Authorised | 28/02/2017 | Initial marketing authorisation | L01XC23 | No  | No  | No | No | No  | No | No  | EMEA/H/C/003967/0000      |  20 |\n",
       "| Coagadex                   | Human coagulation factor X                                                                                                                       | Bio Products Laboratory Limited         | Authorised | 28/02/2017 | Initial marketing authorisation | B02BD13 | No  | No  | No | No | Yes | No | No  | EMEA/H/C/003855/0000      |   7 |\n",
       "| Cubicin                    | Daptomycin                                                                                                                                       | Merck Sharp &amp; Dohme Limited             | Authorised | 27/02/2017 | Extension of indication         | J01XX09 | No  | No  | No | No | No  | No | No  | EMEA/H/C/000637/II/0053/G |  28 |\n",
       "| Aripiprazole Mylan         | Aripiprazole                                                                                                                                     | MYLAN S.A.S                             | Withdrawn  | 31/01/2017 | Initial marketing authorisation | N05AX12 | Yes | No  | No | No | No  | No | Yes | EMEA/H/C/004236/0000      |  12 |\n",
       "| Palonosetron Hospira       | Palonosetron                                                                                                                                     | Hospira UK Limited                      | Authorised | 30/01/2017 | Initial marketing authorisation | A04AA05 | Yes | No  | No | No | No  | No | No  | EMEA/H/C/004069/0000      |   2 |\n",
       "| Praxbind                   | Idarucizumab                                                                                                                                     | Boehringer Ingelheim International GmbH | Authorised | 21/12/2016 | Initial marketing authorisation | V03AB37 | No  | No  | No | No | No  | No | No  | EMEA/H/C/003986/0000      |  25 |\n",
       "| Tarceva                    | Erlotinib                                                                                                                                        | Roche Registration Limited              | Authorised | 21/12/2016 | Extension of indication         | L01XE03 | No  | No  | No | No | No  | No | No  | EMEA/H/C/000618/II/0043   |   7 |\n",
       "| Armisarte                  | Pemetrexed diacid monohydrate                                                                                                                    | Actavis Group PTC ehf                   | Authorised | 24/11/2016 | Initial marketing authorisation | L01BA04 | No  | No  | No | No | No  | No | No  | EMEA/H/C/004109/0000      |  19 |\n",
       "| Caspofungin Accord         | Caspofungin acetate                                                                                                                              | Accord Healthcare Ltd                   | Authorised | 24/11/2016 | Initial marketing authorisation | J02AX04 | Yes | No  | No | No | No  | No | No  | EMEA/H/C/004134/0000      |   2 |\n",
       "| Zurampic                   | Lesinurad                                                                                                                                        | Grunenthal GmbH                         | Authorised | 20/10/2016 | Initial marketing authorisation | M04AB05 | No  | No  | No | No | No  | No | No  | EMEA/H/C/003932/0000      | 246 |\n",
       "| Kyprolis                   | CARFILZOMIB                                                                                                                                      | Amgen Europe B.V.                       | Authorised | 20/10/2016 | Initial marketing authorisation | L01XX45 | No  | No  | No | No | Yes | No | No  | EMEA/H/C/003790/0000      | 115 |\n",
       "\n"
      ],
      "text/plain": [
       "    ProductName               \n",
       "1   Dexamethasone Taw (WD)    \n",
       "2   COMIRNATY                 \n",
       "3   COVID-19 Vaccine Moderna  \n",
       "4   Veklury                   \n",
       "5   Veklury                   \n",
       "6   Inovelon                  \n",
       "7   Ameluz                    \n",
       "8   Truxima                   \n",
       "9   Alecensa                  \n",
       "10  Lucentis                  \n",
       "11  Movymia                   \n",
       "12  Terrosa                   \n",
       "13  Jardiance                 \n",
       "14  LEDAGA                    \n",
       "15  Ivabradine Accord         \n",
       "16  Pregabalin Zentiva k.s.   \n",
       "17  Kepnetic (WD)             \n",
       "18  Keytruda                  \n",
       "19  Darunavir Mylan           \n",
       "20  Humira                    \n",
       "21  OCALIVA                   \n",
       "22  LUSDUNA                   \n",
       "23  Vimpat                    \n",
       "24  Afstyla                   \n",
       "25  Nimenrix                  \n",
       "26  Jentadueto                \n",
       "27  Trajenta                  \n",
       "28  Olumiant                  \n",
       "29  Cinryze                   \n",
       "30  Stelara                   \n",
       "⋮   ⋮                         \n",
       "118 Lonsurf                   \n",
       "119 Flixabi                   \n",
       "120 Strimvelis                \n",
       "121 Halaven                   \n",
       "122 OPDIVO                    \n",
       "123 OPDIVO                    \n",
       "124 Bortezomib Hospira        \n",
       "125 Alprolix                  \n",
       "126 Rasagiline Mylan          \n",
       "127 EndolucinBeta             \n",
       "128 Pemetrexed Fresenius Kabi \n",
       "129 Giotrif                   \n",
       "130 TAGRISSO                  \n",
       "131 Ferriprox                 \n",
       "132 Zonisamide Mylan          \n",
       "133 IDELVION                  \n",
       "134 Descovy                   \n",
       "135 Palonosetron Accord       \n",
       "136 Amlodipine-Valsartan Mylan\n",
       "137 Empliciti                 \n",
       "138 Coagadex                  \n",
       "139 Cubicin                   \n",
       "140 Aripiprazole Mylan        \n",
       "141 Palonosetron Hospira      \n",
       "142 Praxbind                  \n",
       "143 Tarceva                   \n",
       "144 Armisarte                 \n",
       "145 Caspofungin Accord        \n",
       "146 Zurampic                  \n",
       "147 Kyprolis                  \n",
       "    ActiveSubstance                                                                                                                                 \n",
       "1   DEXAMETHASONE PHOSPHATE                                                                                                                         \n",
       "2   COVID-19 mRNA vaccine (nucleoside-modified)                                                                                                     \n",
       "3   COVID-19 mRNA vaccine (nucleoside-modified)                                                                                                     \n",
       "4   REMDESIVIR                                                                                                                                      \n",
       "5   REMDESIVIR                                                                                                                                      \n",
       "6   RUFINAMIDE                                                                                                                                      \n",
       "7   5-AMINOLEVULINIC ACID                                                                                                                           \n",
       "8   RITUXIMAB                                                                                                                                       \n",
       "9   ALECTINIB                                                                                                                                       \n",
       "10  RANIBIZUMAB                                                                                                                                     \n",
       "11  TERIPARATIDE                                                                                                                                    \n",
       "12  TERIPARATIDE                                                                                                                                    \n",
       "13  EMPAGLIFLOZIN                                                                                                                                   \n",
       "14  CHLORMETHINE                                                                                                                                    \n",
       "15  IVABRADINE                                                                                                                                      \n",
       "16  PREGABALIN                                                                                                                                      \n",
       "17  ACENEURAMIC ACID                                                                                                                                \n",
       "18  PEMBROLIZUMAB                                                                                                                                   \n",
       "19  DARUNAVIR                                                                                                                                       \n",
       "20  ADALIMUMAB                                                                                                                                      \n",
       "21  OBETICHOLIC ACID                                                                                                                                \n",
       "22  INSULIN GLARGINE                                                                                                                                \n",
       "23  LACOSAMIDE                                                                                                                                      \n",
       "24  LONOCTOCOG ALFA                                                                                                                                 \n",
       "25  MENINGOCOCCAL GROUP A  C  W135 AND Y CONJUGATE VACCINE                                                                                          \n",
       "26  LINAGLIPTIN / METFORMIN                                                                                                                         \n",
       "27  LINAGLIPTIN                                                                                                                                     \n",
       "28  BARICITINIB                                                                                                                                     \n",
       "29  C1 ESTERASE INHIBITOR (HUMAN)                                                                                                                   \n",
       "30  USTEKINUMAB                                                                                                                                     \n",
       "⋮   ⋮                                                                                                                                               \n",
       "118 TRIFLURIDINE / TIPIRACIL                                                                                                                        \n",
       "119 INFLIXIMAB                                                                                                                                      \n",
       "120 AUTOLOGOUS CD34+ ENRICHED CELL FRACTION THAT CONTAINS CD34+ CELLS TRANSDUCED WITH RETROVIRAL VECTOR THAT ENCODES FOR THE HUMAN ADA CDNA SEQUENCE\n",
       "121 ERIBULIN                                                                                                                                        \n",
       "122 NIVOLUMAB                                                                                                                                       \n",
       "123 NIVOLUMAB                                                                                                                                       \n",
       "124 BORTEZOMIB                                                                                                                                      \n",
       "125 EFTRENONACOG ALFA                                                                                                                               \n",
       "126 RASAGILINE                                                                                                                                      \n",
       "127 LUTETIUM (177 LU) CHLORIDE                                                                                                                      \n",
       "128 PEMETREXED                                                                                                                                      \n",
       "129 AFATINIB                                                                                                                                        \n",
       "130 OSIMERTINIB                                                                                                                                     \n",
       "131 DEFERIPRONE                                                                                                                                     \n",
       "132 ZONISAMIDE                                                                                                                                      \n",
       "133 ALBUTREPENONACOG ALFA                                                                                                                           \n",
       "134 EMTRICITABINE / TENOFOVIR ALAFENAMIDE                                                                                                           \n",
       "135 PALONOSETRON                                                                                                                                    \n",
       "136 AMLODIPINE / VALSARTAN                                                                                                                          \n",
       "137 Elotuzumab                                                                                                                                      \n",
       "138 Human coagulation factor X                                                                                                                      \n",
       "139 Daptomycin                                                                                                                                      \n",
       "140 Aripiprazole                                                                                                                                    \n",
       "141 Palonosetron                                                                                                                                    \n",
       "142 Idarucizumab                                                                                                                                    \n",
       "143 Erlotinib                                                                                                                                       \n",
       "144 Pemetrexed diacid monohydrate                                                                                                                   \n",
       "145 Caspofungin acetate                                                                                                                             \n",
       "146 Lesinurad                                                                                                                                       \n",
       "147 CARFILZOMIB                                                                                                                                     \n",
       "    Mah                                     ProductStatus PublicationDate\n",
       "1   Taw Pharma (Ireland) Ltd                Withdrawn     19/03/2021     \n",
       "2   BioNTech Manufacturing GmbH             Authorised    11/03/2021     \n",
       "3   Moderna Biotech Spain  S.L.             Authorised    02/03/2021     \n",
       "4   Gilead Sciences Ireland UC              Authorised    25/02/2021     \n",
       "5   Gilead Sciences Ireland UC              Authorised    30/10/2020     \n",
       "6   Eisai GmbH                              Authorised    04/12/2018     \n",
       "7   Biofrontera Bioscience GmbH             Authorised    12/11/2018     \n",
       "8   Celltrion Healthcare Hungary Kft.       Authorised    09/11/2018     \n",
       "9   Roche Registration GmbH                 Authorised    17/10/2018     \n",
       "10  Novartis Europharm Limited              Authorised    09/10/2018     \n",
       "11  STADA Arzneimittel AG                   Authorised    02/10/2018     \n",
       "12  Gedeon Richter Plc.                     Authorised    02/10/2018     \n",
       "13  Boehringer Ingelheim International GmbH Authorised    01/10/2018     \n",
       "14  Actelion Registration Limited           Authorised    28/09/2018     \n",
       "15  Accord Healthcare Limited               Authorised    27/09/2018     \n",
       "16  Zentiva k.s.                            Authorised    18/09/2018     \n",
       "17  Ultragenyx UK Limited                   Withdrawn     18/09/2018     \n",
       "18  Merck Sharp & Dohme B.V.                Authorised    14/09/2018     \n",
       "19  Mylan S.A.S                             Authorised    13/09/2018     \n",
       "20  AbbVie Deutschland GmbH & Co. KG        Authorised    13/09/2018     \n",
       "21  Intercept Pharma Ltd                    Authorised    12/09/2018     \n",
       "22  Merck Sharp & Dohme Limited             Authorised    05/09/2018     \n",
       "23  UCB Pharma S.A.                         Authorised    03/09/2018     \n",
       "24  CSL Behring GmbH                        Authorised    30/08/2018     \n",
       "25  Pfizer Limited                          Authorised    29/08/2018     \n",
       "26  Boehringer Ingelheim International GmbH Authorised    24/08/2018     \n",
       "27  Boehringer Ingelheim International GmbH Authorised    24/08/2018     \n",
       "28  Eli Lilly Nederland B.V.                Authorised    14/08/2018     \n",
       "29  Shire Services BVBA                     Authorised    07/08/2018     \n",
       "30  Janssen-Cilag International NV          Authorised    03/08/2018     \n",
       "⋮   ⋮                                       ⋮             ⋮              \n",
       "118 Les Laboratoires Servier                Authorised    07/07/2017     \n",
       "119 Samsung Bioepis UK Limited (SBUK)       Authorised    30/06/2017     \n",
       "120 GlaxoSmithKline Trading Services        Authorised    29/06/2017     \n",
       "121 Eisai Europe Ltd.                       Authorised    22/06/2017     \n",
       "122 Bristol-Myers Squibb Pharma EEIG        Authorised    21/06/2017     \n",
       "123 Bristol-Myers Squibb Pharma EEIG        Authorised    21/06/2017     \n",
       "124 Hospira UK Limited                      Authorised    12/06/2017     \n",
       "125 Swedish Orphan Biovitrum AB (publ)      Authorised    02/06/2017     \n",
       "126 MYLAN S.A.S                             Authorised    02/06/2017     \n",
       "127 ITG Isotope Technologies Garching GmbH  Authorised    01/06/2017     \n",
       "128 Fresenius Kabi Oncology PLC             Authorised    18/05/2017     \n",
       "129 Boehringer Ingelheim International GmbH Authorised    18/05/2017     \n",
       "130 AstraZeneca AB                          Authorised    05/05/2017     \n",
       "131 Apotex Europe BV                        Authorised    05/05/2017     \n",
       "132 Mylan S.A.S                             Authorised    02/05/2017     \n",
       "133 CSL Behring GmbH                        Authorised    28/04/2017     \n",
       "134 Gilead Sciences International Ltd       Authorised    21/04/2017     \n",
       "135 Accord Healthcare Ltd                   Authorised    16/03/2017     \n",
       "136 MYLAN S.A.S                             Authorised    16/03/2017     \n",
       "137 Bristol-Myers Squibb Pharma EEIG        Authorised    28/02/2017     \n",
       "138 Bio Products Laboratory Limited         Authorised    28/02/2017     \n",
       "139 Merck Sharp & Dohme Limited             Authorised    27/02/2017     \n",
       "140 MYLAN S.A.S                             Withdrawn     31/01/2017     \n",
       "141 Hospira UK Limited                      Authorised    30/01/2017     \n",
       "142 Boehringer Ingelheim International GmbH Authorised    21/12/2016     \n",
       "143 Roche Registration Limited              Authorised    21/12/2016     \n",
       "144 Actavis Group PTC ehf                   Authorised    24/11/2016     \n",
       "145 Accord Healthcare Ltd                   Authorised    24/11/2016     \n",
       "146 Grunenthal GmbH                         Authorised    20/10/2016     \n",
       "147 Amgen Europe B.V.                       Authorised    20/10/2016     \n",
       "    ProcedureType                   AtcCode Generic Biosimilar\n",
       "1   Initial marketing authorisation H02AB02 No      No        \n",
       "2   Initial marketing authorisation J07BX03 No      No        \n",
       "3   Initial marketing authorisation J07BX03 No      No        \n",
       "4   Extension of indication         J05AB16 No      No        \n",
       "5   Initial marketing authorisation N/A     No      No        \n",
       "6   Extension of indication         N03AF03 No      No        \n",
       "7   Extension of indication         L01XD04 No      No        \n",
       "8   Initial marketing authorisation L01XC02 No      Yes       \n",
       "9   Initial marketing authorisation L01XE36 No      No        \n",
       "10  Extension of indication         S01LA04 No      No        \n",
       "11  Initial marketing authorisation H05AA02 No      Yes       \n",
       "12  Initial marketing authorisation H05AA02 No      Yes       \n",
       "13  Extension of indication         A10BK03 No      No        \n",
       "14  Initial marketing authorisation L01AA05 No      No        \n",
       "15  Initial marketing authorisation C01EB17 Yes     No        \n",
       "16  Initial marketing authorisation N03AX16 Yes     No        \n",
       "17  Initial marketing authorisation M09AX   No      No        \n",
       "18  Extension of indication         L01XC18 No      No        \n",
       "19  Initial marketing authorisation J05AE10 Yes     No        \n",
       "20  Extension of indication         L04AB04 No      No        \n",
       "21  Initial marketing authorisation A05AA04 No      No        \n",
       "22  Initial marketing authorisation A10AE04 No      Yes       \n",
       "23  Extension of indication         N03AX18 No      No        \n",
       "24  Initial marketing authorisation B02BD02 No      No        \n",
       "25  Extension of indication         J07AH08 No      No        \n",
       "26  Workshare                       A10BD11 No      No        \n",
       "27  Workshare                       A10BH05 No      No        \n",
       "28  Initial marketing authorisation L04AA37 No      No        \n",
       "29  Extension of indication         B06AC01 No      No        \n",
       "30  Line Extension                  L04AC05 No      No        \n",
       "⋮   ⋮                               ⋮       ⋮       ⋮         \n",
       "118 Initial marketing authorisation L01BC   No      No        \n",
       "119 Initial marketing authorisation L04AB02 No      Yes       \n",
       "120 Initial marketing authorisation L03     No      No        \n",
       "121 Extension of indication         L01XX41 No      No        \n",
       "122 Extension of indication         L01XC17 No      No        \n",
       "123 Extension of indication         L01XC17 No      No        \n",
       "124 Initial marketing authorisation L01XX32 Yes     No        \n",
       "125 Initial marketing authorisation B02BD04 No      No        \n",
       "126 Initial marketing authorisation N04BD02 Yes     No        \n",
       "127 Initial marketing authorisation V10X    No      No        \n",
       "128 Initial marketing authorisation L01BA04 Yes     No        \n",
       "129 Extension of indication         L01XE13 No      No        \n",
       "130 Initial marketing authorisation L01XE   No      No        \n",
       "131 Extension of indication         V03AC02 No      No        \n",
       "132 Initial marketing authorisation N03AX15 Yes     No        \n",
       "133 Initial marketing authorisation B02BD   No      No        \n",
       "134 Initial marketing authorisation J05AR17 No      No        \n",
       "135 Initial marketing authorisation A04AA05 Yes     No        \n",
       "136 Initial marketing authorisation C09DB01 Yes     No        \n",
       "137 Initial marketing authorisation L01XC23 No      No        \n",
       "138 Initial marketing authorisation B02BD13 No      No        \n",
       "139 Extension of indication         J01XX09 No      No        \n",
       "140 Initial marketing authorisation N05AX12 Yes     No        \n",
       "141 Initial marketing authorisation A04AA05 Yes     No        \n",
       "142 Initial marketing authorisation V03AB37 No      No        \n",
       "143 Extension of indication         L01XE03 No      No        \n",
       "144 Initial marketing authorisation L01BA04 No      No        \n",
       "145 Initial marketing authorisation J02AX04 Yes     No        \n",
       "146 Initial marketing authorisation M04AB05 No      No        \n",
       "147 Initial marketing authorisation L01XX45 No      No        \n",
       "    ConditionalApproval ExceptionalCircumstances Orphan article58\n",
       "1   No                  No                       No     No       \n",
       "2   Yes                 No                       No     No       \n",
       "3   Yes                 No                       No     No       \n",
       "4   No                  No                       No     No       \n",
       "5   Yes                 No                       No     No       \n",
       "6   No                  No                       Yes    No       \n",
       "7   No                  No                       No     No       \n",
       "8   No                  No                       No     No       \n",
       "9   No                  No                       No     No       \n",
       "10  No                  No                       No     No       \n",
       "11  No                  No                       No     No       \n",
       "12  No                  No                       No     No       \n",
       "13  No                  No                       No     No       \n",
       "14  No                  No                       Yes    No       \n",
       "15  No                  No                       No     No       \n",
       "16  No                  No                       No     No       \n",
       "17  No                  No                       No     No       \n",
       "18  No                  No                       No     No       \n",
       "19  No                  No                       No     No       \n",
       "20  No                  No                       No     No       \n",
       "21  Yes                 No                       Yes    No       \n",
       "22  No                  No                       No     No       \n",
       "23  No                  No                       No     No       \n",
       "24  No                  No                       No     No       \n",
       "25  No                  No                       No     No       \n",
       "26  No                  No                       No     No       \n",
       "27  No                  No                       No     No       \n",
       "28  No                  No                       No     No       \n",
       "29  No                  No                       No     No       \n",
       "30  No                  No                       No     No       \n",
       "⋮   ⋮                   ⋮                        ⋮      ⋮        \n",
       "118 No                  No                       No     No       \n",
       "119 No                  No                       No     No       \n",
       "120 No                  No                       Yes    No       \n",
       "121 No                  No                       No     No       \n",
       "122 No                  No                       No     No       \n",
       "123 No                  No                       No     No       \n",
       "124 No                  No                       No     No       \n",
       "125 No                  No                       Yes    No       \n",
       "126 No                  No                       No     No       \n",
       "127 No                  No                       No     No       \n",
       "128 No                  No                       No     No       \n",
       "129 No                  No                       No     No       \n",
       "130 No                  No                       No     No       \n",
       "131 No                  No                       No     No       \n",
       "132 No                  No                       No     No       \n",
       "133 No                  No                       Yes    No       \n",
       "134 No                  No                       No     No       \n",
       "135 No                  No                       No     No       \n",
       "136 No                  No                       No     No       \n",
       "137 No                  No                       No     No       \n",
       "138 No                  No                       Yes    No       \n",
       "139 No                  No                       No     No       \n",
       "140 No                  No                       No     No       \n",
       "141 No                  No                       No     No       \n",
       "142 No                  No                       No     No       \n",
       "143 No                  No                       No     No       \n",
       "144 No                  No                       No     No       \n",
       "145 No                  No                       No     No       \n",
       "146 No                  No                       No     No       \n",
       "147 No                  No                       Yes    No       \n",
       "    WithdrawnProcedure ProcedureNumber              numberOfDocuments\n",
       "1   Yes                EMEA/H/C/005740/0000           2              \n",
       "2   No                 EMEA/H/C/005735/0000          18              \n",
       "3   No                 EMEA/H/C/005791/0000          26              \n",
       "4   No                 EMEA/H/C/005622/0000/II/0012   3              \n",
       "5   No                 EMEA/H/C/005622/0000          64              \n",
       "6   No                 EMEA/H/C/000660/II/0037       21              \n",
       "7   No                 EMEA/H/C/002204/II/0020       25              \n",
       "8   No                 EMEA/H/C/004112/0000          32              \n",
       "9   No                 EMEA/H/C/004164/0000          44              \n",
       "10  No                 EMEA/H/C/000715/II/0061       14              \n",
       "11  No                 EMEA/H/C/004368/0000           6              \n",
       "12  No                 EMEA/H/C/003916/0000           6              \n",
       "13  No                 EMEA/H/C/002677/II/0014       16              \n",
       "14  No                 EMEA/H/C/002826/0000          22              \n",
       "15  No                 EMEA/H/C/004241/0000           4              \n",
       "16  No                 EMEA/H/C/004277/0000           4              \n",
       "17  Yes                EMEA/H/C/004176/0000          33              \n",
       "18  No                 EMEA/H/C/003820/II/0011       15              \n",
       "19  No                 EMEA/H/C/004068/0000          21              \n",
       "20  No                 EMEA/H/C/000481/II/0154       13              \n",
       "21  No                 EMEA/H/C/004093/0000         160              \n",
       "22  No                 EMEA/H/C/004101/0000          55              \n",
       "23  No                 EMEA/H/C/000863/II/0060/G      9              \n",
       "24  No                 EMEA/H/C/004075/0000          38              \n",
       "25  No                 EMEA/H/C/002226/II/0049        9              \n",
       "26  No                 EMEA/H/C/002279/WS0915        21              \n",
       "27  No                 EMEA/H/C/002110/WS0915        21              \n",
       "28  No                 EMEA/H/C/004085/0000         145              \n",
       "29  No                 EMEA/H/C/001207/II/0045       30              \n",
       "30  No                 EMEA/H/C/000958/X/0049/G      36              \n",
       "⋮   ⋮                  ⋮                            ⋮                \n",
       "118 No                 EMEA/H/C/003897/0000          66              \n",
       "119 No                 EMEA/H/C/004020/0000          15              \n",
       "120 No                 EMEA/H/C/003854/0000          23              \n",
       "121 No                 EMEA/H/C/002084/II/0028       34              \n",
       "122 No                 EMEA/H/C/003985/II/0002        8              \n",
       "123 No                 EMEA/H/C/003985/II/0008       12              \n",
       "124 No                 EMEA/H/C/004207/0000           2              \n",
       "125 No                 EMEA/H/C/004142/0000          16              \n",
       "126 No                 EMEA/H/C/004064/0000           7              \n",
       "127 No                 EMEA/H/C/003999/0000           2              \n",
       "128 No                 EMEA/H/C/003895/0000           2              \n",
       "129 No                 EMEA/H/C/002280/II/0012       86              \n",
       "130 No                 EMEA/H/C/004124/0000         104              \n",
       "131 No                 EMEA/H/C/000236/II/0103        2              \n",
       "132 No                 EMEA/H/C/004127/0000           4              \n",
       "133 No                 EMEA/H/C/003955/0000          45              \n",
       "134 No                 EMEA/H/C/004094/0000         324              \n",
       "135 No                 EMEA/H/C/004129/0000           2              \n",
       "136 No                 EMEA/H/C/004037/0000          11              \n",
       "137 No                 EMEA/H/C/003967/0000          20              \n",
       "138 No                 EMEA/H/C/003855/0000           7              \n",
       "139 No                 EMEA/H/C/000637/II/0053/G     28              \n",
       "140 Yes                EMEA/H/C/004236/0000          12              \n",
       "141 No                 EMEA/H/C/004069/0000           2              \n",
       "142 No                 EMEA/H/C/003986/0000          25              \n",
       "143 No                 EMEA/H/C/000618/II/0043        7              \n",
       "144 No                 EMEA/H/C/004109/0000          19              \n",
       "145 No                 EMEA/H/C/004134/0000           2              \n",
       "146 No                 EMEA/H/C/003932/0000         246              \n",
       "147 No                 EMEA/H/C/003790/0000         115              "
      ]
     },
     "metadata": {},
     "output_type": "display_data"
    }
   ],
   "source": [
    "data <- data.table::fread('Clinicaldata_Results_Table-20210618131131.csv')\n",
    "data"
   ]
  },
  {
   "cell_type": "code",
   "execution_count": 10,
   "id": "a3b4fed5",
   "metadata": {},
   "outputs": [
    {
     "name": "stderr",
     "output_type": "stream",
     "text": [
      "Installing package into ‘/home/alireza/R/x86_64-pc-linux-gnu-library/4.1’\n",
      "(as ‘lib’ is unspecified)\n",
      "\n",
      "also installing the dependencies ‘gargle’, ‘ids’, ‘openssl’, ‘googledrive’, ‘googlesheets4’, ‘haven’, ‘httr’, ‘rvest’\n",
      "\n",
      "\n",
      "Warning message in install.packages(\"tidyverse\"):\n",
      "“installation of package ‘haven’ had non-zero exit status”\n",
      "Warning message in install.packages(\"tidyverse\"):\n",
      "“installation of package ‘tidyverse’ had non-zero exit status”\n"
     ]
    }
   ],
   "source": [
    "install.packages('tidyverse')"
   ]
  },
  {
   "cell_type": "code",
   "execution_count": 22,
   "id": "a5647ff8",
   "metadata": {},
   "outputs": [
    {
     "ename": "ERROR",
     "evalue": "Error in library(R2jags): there is no package called ‘R2jags’\n",
     "output_type": "error",
     "traceback": [
      "Error in library(R2jags): there is no package called ‘R2jags’\nTraceback:\n",
      "1. library(R2jags)"
     ]
    }
   ],
   "source": [
    "#library(rjags)\n",
    "library(R2jags)"
   ]
  },
  {
   "cell_type": "code",
   "execution_count": 13,
   "id": "2ca32d0e",
   "metadata": {},
   "outputs": [
    {
     "data": {
      "text/plain": [
       "         \n",
       "            Neg   Pos\n",
       "  Placebo 21453    86\n",
       "  Vaccine 21991     8"
      ]
     },
     "metadata": {},
     "output_type": "display_data"
    }
   ],
   "source": [
    "tot_vaccine <- 21999\n",
    "tot_placebo <- 21539\n",
    "patient <- c(rep(\"Vaccine\", tot_vaccine),\n",
    "             rep(\"Placebo\", tot_placebo))\n",
    "# Number of patients tested postive after RCT:\n",
    "pos_vaccine <- 8\n",
    "pos_placebo <- 86\n",
    "tested   <- c(rep(\"Pos\", pos_vaccine),\n",
    "              rep(\"Neg\", tot_vaccine - pos_vaccine),\n",
    "              rep(\"Pos\", pos_placebo),\n",
    "              rep(\"Neg\", tot_placebo - pos_placebo))\n",
    "pfizer.tb <- tibble::tibble(tested = tested, patient=patient)\n",
    "table(pfizer.tb[[2]], pfizer.tb[[1]])"
   ]
  },
  {
   "cell_type": "code",
   "execution_count": 14,
   "id": "bca5d8d8",
   "metadata": {},
   "outputs": [],
   "source": [
    "modelString <- \"\n",
    "  model {\n",
    "    for ( i in 1:Ntot ) {\n",
    "      tested[i]  ̃ dbern( theta[patient[i]] );\n",
    "    }\n",
    "    for ( k in 1:Nclass ) {\n",
    "      theta[k]  ̃ dbeta(3 , 100);\n",
    "    }\n",
    "  }\""
   ]
  },
  {
   "cell_type": "code",
   "execution_count": 15,
   "id": "55320a5f",
   "metadata": {},
   "outputs": [],
   "source": [
    "dataList = list(tested = ifelse(pfizer.tb$tested == \"Neg\", 0, 1),patient = as.integer(factor(pfizer.tb$patient)),Ntot = nrow(pfizer.tb) ,Nclass = nlevels(factor(pfizer.tb$patient)))"
   ]
  },
  {
   "cell_type": "code",
   "execution_count": 17,
   "id": "ae0ce36d",
   "metadata": {},
   "outputs": [
    {
     "ename": "ERROR",
     "evalue": "Error in loadNamespace(x): there is no package called ‘jags’\n",
     "output_type": "error",
     "traceback": [
      "Error in loadNamespace(x): there is no package called ‘jags’\nTraceback:\n",
      "1. loadNamespace(x)",
      "2. withRestarts(stop(cond), retry_loadNamespace = function() NULL)",
      "3. withOneRestart(expr, restarts[[1L]])",
      "4. doWithOneRestart(return(expr), restart)"
     ]
    }
   ],
   "source": [
    "pfizer_chains <- jags::run.jags(modelString ,\n",
    "                          sample = 15000,\n",
    "                          n.chains = 4,\n",
    "                          method = \"parallel\",\n",
    "                          monitor = \"theta\",\n",
    "                          data = dataList)"
   ]
  },
  {
   "cell_type": "code",
   "execution_count": 19,
   "id": "7ba15e8f",
   "metadata": {},
   "outputs": [
    {
     "data": {
      "text/plain": [
       "No vignettes or demos or help files found with alias or concept or\n",
       "title matching ‘run.jags’ using regular expression matching."
      ]
     },
     "metadata": {},
     "output_type": "display_data"
    }
   ],
   "source": [
    "??run.jags"
   ]
  },
  {
   "cell_type": "code",
   "execution_count": 1,
   "id": "4f266bea",
   "metadata": {},
   "outputs": [
    {
     "name": "stderr",
     "output_type": "stream",
     "text": [
      "Loading required package: StanHeaders\n",
      "\n",
      "Loading required package: ggplot2\n",
      "\n",
      "rstan (Version 2.21.2, GitRev: 2e1f913d3ca3)\n",
      "\n",
      "For execution on a local, multicore CPU with excess RAM we recommend calling\n",
      "options(mc.cores = parallel::detectCores()).\n",
      "To avoid recompilation of unchanged Stan programs, we recommend calling\n",
      "rstan_options(auto_write = TRUE)\n",
      "\n"
     ]
    }
   ],
   "source": [
    "library(rstan)"
   ]
  },
  {
   "cell_type": "code",
   "execution_count": 6,
   "id": "1da2bff8",
   "metadata": {},
   "outputs": [
    {
     "data": {
      "text/plain": [
       "         \n",
       "            Neg   Pos\n",
       "  Placebo 21453    86\n",
       "  Vaccine 21991     8"
      ]
     },
     "metadata": {},
     "output_type": "display_data"
    }
   ],
   "source": [
    "tot_vaccine <- 21999\n",
    "tot_placebo <- 21539\n",
    "patient <- c(rep(\"Vaccine\", tot_vaccine),\n",
    "             rep(\"Placebo\", tot_placebo))\n",
    "# Number of patients tested postive after RCT:\n",
    "pos_vaccine <- 8\n",
    "pos_placebo <- 86\n",
    "tested   <- c(rep(\"Pos\", pos_vaccine),\n",
    "              rep(\"Neg\", tot_vaccine - pos_vaccine),\n",
    "              rep(\"Pos\", pos_placebo),\n",
    "              rep(\"Neg\", tot_placebo - pos_placebo))\n",
    "pfizer.tb <- tibble::tibble(tested = tested, patient=patient)\n",
    "table(pfizer.tb[[2]], pfizer.tb[[1]])"
   ]
  },
  {
   "cell_type": "code",
   "execution_count": 7,
   "id": "9d5ea89a",
   "metadata": {},
   "outputs": [],
   "source": [
    "modelString <- \"\n",
    "  model {\n",
    "    for ( i in 1:Ntot ) {\n",
    "      tested[i]  ̃ dbern( theta[patient[i]] );\n",
    "    }\n",
    "    for ( k in 1:Nclass ) {\n",
    "      theta[k]  ̃ dbeta(3 , 100);\n",
    "    }\n",
    "  }\""
   ]
  },
  {
   "cell_type": "code",
   "execution_count": null,
   "id": "090f08bf",
   "metadata": {},
   "outputs": [],
   "source": [
    "writeLines(modelString , con=\"stan_bern01_model.txt\")"
   ]
  },
  {
   "cell_type": "code",
   "execution_count": 8,
   "id": "556164fc",
   "metadata": {},
   "outputs": [],
   "source": [
    "dataList = list(\n",
    "    tested = ifelse(pfizer.tb$tested == \"Neg\", 0, 1),\n",
    "    patient = as.integer(factor(pfizer.tb$patient)),\n",
    "    Ntot = nrow(pfizer.tb) ,\n",
    "    Nclass = nlevels(factor(pfizer.tb$patient))\n",
    ")"
   ]
  },
  {
   "cell_type": "code",
   "execution_count": 9,
   "id": "af3f2e6b",
   "metadata": {},
   "outputs": [
    {
     "name": "stderr",
     "output_type": "stream",
     "text": [
      "SYNTAX ERROR, MESSAGE(S) FROM PARSER:\n",
      "\n",
      "Variable \"Ntot\" does not exist.\n",
      "\n",
      " error in 'model818b43d9edeb_59059b24ed600d59a7101baff59fd8c3' at line 3, column 21\n",
      "\n",
      "  -------------------------------------------------\n",
      "\n",
      "     1: \n",
      "\n",
      "     2:   model {\n",
      "\n",
      "     3:     for ( i in 1:Ntot ) {\n",
      "\n",
      "                            ^\n",
      "\n",
      "     4:       tested[i]  ̃ dbern( theta[patient[i]] );\n",
      "\n",
      "  -------------------------------------------------\n",
      "\n",
      "\n",
      "\n"
     ]
    },
    {
     "ename": "ERROR",
     "evalue": "Error in stanc(file = file, model_code = model_code, model_name = model_name, : failed to parse Stan model '59059b24ed600d59a7101baff59fd8c3' due to the above error.\n",
     "output_type": "error",
     "traceback": [
      "Error in stanc(file = file, model_code = model_code, model_name = model_name, : failed to parse Stan model '59059b24ed600d59a7101baff59fd8c3' due to the above error.\nTraceback:\n",
      "1. stan_model(model_code = modelString)",
      "2. stanc(file = file, model_code = model_code, model_name = model_name, \n .     verbose = verbose, obfuscate_model_name = obfuscate_model_name, \n .     allow_undefined = allow_undefined, isystem = isystem)",
      "3. stop(error_msg)"
     ]
    }
   ],
   "source": [
    "stanDso <- stan_model(model_code = modelString)"
   ]
  },
  {
   "cell_type": "code",
   "execution_count": 10,
   "id": "3223c563",
   "metadata": {},
   "outputs": [
    {
     "ename": "ERROR",
     "evalue": "Error in h(simpleError(msg, call)): error in evaluating the argument 'object' in selecting a method for function 'sampling': object 'stanDso' not found\n",
     "output_type": "error",
     "traceback": [
      "Error in h(simpleError(msg, call)): error in evaluating the argument 'object' in selecting a method for function 'sampling': object 'stanDso' not found\nTraceback:\n",
      "1. sampling(object = stanDso, data = dataList, chains = 3, iter = 1000, \n .     warmup = 200, thin = 1)",
      "2. .handleSimpleError(function (cond) \n . .Internal(C_tryCatchHelper(addr, 1L, cond)), \"object 'stanDso' not found\", \n .     base::quote(sampling(object = stanDso, data = dataList, chains = 3, \n .         iter = 1000, warmup = 200, thin = 1)))",
      "3. h(simpleError(msg, call))"
     ]
    }
   ],
   "source": [
    "stanFit <- sampling(object=stanDso ,\n",
    "                    data = dataList ,\n",
    "                    chains = 3 ,\n",
    "                    iter = 1000 ,\n",
    "                    warmup = 200 ,\n",
    "                    thin = 1)"
   ]
  },
  {
   "cell_type": "code",
   "execution_count": 1,
   "id": "5ce21aef",
   "metadata": {},
   "outputs": [
    {
     "ename": "ERROR",
     "evalue": "Error in library(brms): there is no package called ‘brms’\n",
     "output_type": "error",
     "traceback": [
      "Error in library(brms): there is no package called ‘brms’\nTraceback:\n",
      "1. library(brms)"
     ]
    }
   ],
   "source": [
    "library(brms)"
   ]
  },
  {
   "cell_type": "code",
   "execution_count": null,
   "id": "52862267",
   "metadata": {},
   "outputs": [],
   "source": []
  },
  {
   "cell_type": "code",
   "execution_count": null,
   "id": "7df45a9b",
   "metadata": {},
   "outputs": [],
   "source": []
  },
  {
   "cell_type": "code",
   "execution_count": null,
   "id": "bd9d16df",
   "metadata": {},
   "outputs": [],
   "source": []
  },
  {
   "cell_type": "code",
   "execution_count": null,
   "id": "4678ca0c",
   "metadata": {},
   "outputs": [],
   "source": []
  },
  {
   "cell_type": "code",
   "execution_count": 1,
   "id": "4527bf0f",
   "metadata": {},
   "outputs": [
    {
     "name": "stderr",
     "output_type": "stream",
     "text": [
      "\n",
      "Attaching package: ‘dplyr’\n",
      "\n",
      "\n",
      "The following objects are masked from ‘package:stats’:\n",
      "\n",
      "    filter, lag\n",
      "\n",
      "\n",
      "The following objects are masked from ‘package:base’:\n",
      "\n",
      "    intersect, setdiff, setequal, union\n",
      "\n",
      "\n"
     ]
    },
    {
     "ename": "ERROR",
     "evalue": "Error in library(brms): there is no package called ‘brms’\n",
     "output_type": "error",
     "traceback": [
      "Error in library(brms): there is no package called ‘brms’\nTraceback:\n",
      "1. library(brms)"
     ]
    }
   ],
   "source": [
    "library(dplyr)\n",
    "library(brms)\n",
    "library(ggplot2)\n",
    "library(kableExtra)\n",
    "theme_set(theme_bw())"
   ]
  },
  {
   "cell_type": "code",
   "execution_count": 2,
   "id": "d77c479a",
   "metadata": {},
   "outputs": [
    {
     "name": "stderr",
     "output_type": "stream",
     "text": [
      "Loading required package: StanHeaders\n",
      "\n",
      "Loading required package: ggplot2\n",
      "\n",
      "rstan (Version 2.21.2, GitRev: 2e1f913d3ca3)\n",
      "\n",
      "For execution on a local, multicore CPU with excess RAM we recommend calling\n",
      "options(mc.cores = parallel::detectCores()).\n",
      "To avoid recompilation of unchanged Stan programs, we recommend calling\n",
      "rstan_options(auto_write = TRUE)\n",
      "\n"
     ]
    }
   ],
   "source": [
    "library(rstan)"
   ]
  },
  {
   "cell_type": "code",
   "execution_count": 26,
   "id": "7c134367",
   "metadata": {},
   "outputs": [
    {
     "data": {
      "text/html": [
       "4"
      ],
      "text/latex": [
       "4"
      ],
      "text/markdown": [
       "4"
      ],
      "text/plain": [
       "[1] 4"
      ]
     },
     "metadata": {},
     "output_type": "display_data"
    }
   ],
   "source": [
    "parallel::detectCores()"
   ]
  },
  {
   "cell_type": "code",
   "execution_count": 27,
   "id": "7dc5121d",
   "metadata": {},
   "outputs": [
    {
     "data": {
      "text/plain": [
       "         \n",
       "            Neg   Pos\n",
       "  Placebo 21453    86\n",
       "  Vaccine 21991     8"
      ]
     },
     "metadata": {},
     "output_type": "display_data"
    }
   ],
   "source": [
    "tot_vaccine <- 21999\n",
    "tot_placebo <- 21539\n",
    "patient <- c(rep(\"Vaccine\", tot_vaccine),\n",
    "             rep(\"Placebo\", tot_placebo))\n",
    "# Number of patients tested postive after RCT:\n",
    "pos_vaccine <- 8\n",
    "pos_placebo <- 86\n",
    "tested   <- c(rep(\"Pos\", pos_vaccine),\n",
    "              rep(\"Neg\", tot_vaccine - pos_vaccine),\n",
    "              rep(\"Pos\", pos_placebo),\n",
    "              rep(\"Neg\", tot_placebo - pos_placebo))\n",
    "pfizer.tb <- tibble::tibble(tested = tested, patient=patient)\n",
    "table(pfizer.tb[[2]], pfizer.tb[[1]])"
   ]
  },
  {
   "cell_type": "code",
   "execution_count": 28,
   "id": "e1972b1c",
   "metadata": {},
   "outputs": [],
   "source": [
    "dataList = list(\n",
    "    tested = ifelse(pfizer.tb$tested == \"Neg\", 0, 1),\n",
    "    patient = as.integer(factor(pfizer.tb$patient)),\n",
    "    Ntot = nrow(pfizer.tb) ,\n",
    "    Nclass = nlevels(factor(pfizer.tb$patient))\n",
    ")"
   ]
  },
  {
   "cell_type": "code",
   "execution_count": 29,
   "id": "c9bdf09a",
   "metadata": {},
   "outputs": [],
   "source": [
    "modelString = \"\n",
    "  data {\n",
    "    int<lower=0> Ntot;\n",
    "    int tested[Ntot];\n",
    "  }\n",
    "  parameters {\n",
    "    real<lower=0,upper=1> theta;\n",
    "  }\n",
    "  model {\n",
    "    theta ~ beta(3,100);\n",
    "    tested ~ bernoulli(theta);\n",
    "  }\"\n",
    "writeLines(modelString , con=\"stan_bern01_model.txt\")"
   ]
  },
  {
   "cell_type": "code",
   "execution_count": 30,
   "id": "226930fe",
   "metadata": {},
   "outputs": [],
   "source": [
    "stanDso <- stan_model(model_code = modelString)"
   ]
  },
  {
   "cell_type": "code",
   "execution_count": 31,
   "id": "d097ac92",
   "metadata": {},
   "outputs": [],
   "source": [
    "#X <- c(0, 0, 0, 0, 0, 0, 0, 1, 0, 0,\n",
    " #      0, 0, 0, 0, 0, 0, 0, 0, 0, 0,\n",
    "  #     0, 1, 0, 1, 0, 0, 0, 0, 0, 0,\n",
    "   #    0, 0, 0, 0, 0, 0, 0, 0, 0, 0,\n",
    "    #   0, 0, 0, 1, 0, 0, 0, 0, 0, 1,\n",
    "     #  0, 1, 0, 0, 0, 0, 0, 1, 0, 0,\n",
    "      # 0, 0, 0, 0, 1, 0, 0, 0, 1, 0,\n",
    "       #0, 0, 0, 0, 0, 0, 0, 0, 1, 1,\n",
    "       #0, 1, 0, 0, 1, 0, 0, 0, 0, 0,\n",
    "       #0, 0, 0, 0, 1, 0, 0, 1, 0, 1)\n",
    "\n",
    "#data <- NULL\n",
    "#data$X <- X     # Set of observations\n",
    "#data$n <- length(X)    # those to be considered\n",
    "#data$n_next <- 10"
   ]
  },
  {
   "cell_type": "code",
   "execution_count": 32,
   "id": "ad25866c",
   "metadata": {},
   "outputs": [],
   "source": [
    "#X <- data$X\n",
    "#N <- length(X)\n",
    "#dataList <- list(y = X, N = N)"
   ]
  },
  {
   "cell_type": "code",
   "execution_count": 33,
   "id": "e1ae3147",
   "metadata": {},
   "outputs": [
    {
     "name": "stdout",
     "output_type": "stream",
     "text": [
      "\n",
      "SAMPLING FOR MODEL 'cf7c1ba378e7c8a192065ca4c899770d' NOW (CHAIN 1).\n",
      "Chain 1: \n",
      "Chain 1: Gradient evaluation took 0.000209 seconds\n",
      "Chain 1: 1000 transitions using 10 leapfrog steps per transition would take 2.09 seconds.\n",
      "Chain 1: Adjust your expectations accordingly!\n",
      "Chain 1: \n",
      "Chain 1: \n",
      "Chain 1: Iteration:   1 / 1000 [  0%]  (Warmup)\n",
      "Chain 1: Iteration: 100 / 1000 [ 10%]  (Warmup)\n",
      "Chain 1: Iteration: 200 / 1000 [ 20%]  (Warmup)\n",
      "Chain 1: Iteration: 201 / 1000 [ 20%]  (Sampling)\n",
      "Chain 1: Iteration: 300 / 1000 [ 30%]  (Sampling)\n",
      "Chain 1: Iteration: 400 / 1000 [ 40%]  (Sampling)\n",
      "Chain 1: Iteration: 500 / 1000 [ 50%]  (Sampling)\n",
      "Chain 1: Iteration: 600 / 1000 [ 60%]  (Sampling)\n",
      "Chain 1: Iteration: 700 / 1000 [ 70%]  (Sampling)\n",
      "Chain 1: Iteration: 800 / 1000 [ 80%]  (Sampling)\n",
      "Chain 1: Iteration: 900 / 1000 [ 90%]  (Sampling)\n",
      "Chain 1: Iteration: 1000 / 1000 [100%]  (Sampling)\n",
      "Chain 1: \n",
      "Chain 1:  Elapsed Time: 0.079568 seconds (Warm-up)\n",
      "Chain 1:                0.269609 seconds (Sampling)\n",
      "Chain 1:                0.349177 seconds (Total)\n",
      "Chain 1: \n",
      "\n",
      "SAMPLING FOR MODEL 'cf7c1ba378e7c8a192065ca4c899770d' NOW (CHAIN 2).\n",
      "Chain 2: \n",
      "Chain 2: Gradient evaluation took 0.000106 seconds\n",
      "Chain 2: 1000 transitions using 10 leapfrog steps per transition would take 1.06 seconds.\n",
      "Chain 2: Adjust your expectations accordingly!\n",
      "Chain 2: \n",
      "Chain 2: \n",
      "Chain 2: Iteration:   1 / 1000 [  0%]  (Warmup)\n",
      "Chain 2: Iteration: 100 / 1000 [ 10%]  (Warmup)\n",
      "Chain 2: Iteration: 200 / 1000 [ 20%]  (Warmup)\n",
      "Chain 2: Iteration: 201 / 1000 [ 20%]  (Sampling)\n",
      "Chain 2: Iteration: 300 / 1000 [ 30%]  (Sampling)\n",
      "Chain 2: Iteration: 400 / 1000 [ 40%]  (Sampling)\n",
      "Chain 2: Iteration: 500 / 1000 [ 50%]  (Sampling)\n",
      "Chain 2: Iteration: 600 / 1000 [ 60%]  (Sampling)\n",
      "Chain 2: Iteration: 700 / 1000 [ 70%]  (Sampling)\n",
      "Chain 2: Iteration: 800 / 1000 [ 80%]  (Sampling)\n",
      "Chain 2: Iteration: 900 / 1000 [ 90%]  (Sampling)\n",
      "Chain 2: Iteration: 1000 / 1000 [100%]  (Sampling)\n",
      "Chain 2: \n",
      "Chain 2:  Elapsed Time: 0.082007 seconds (Warm-up)\n",
      "Chain 2:                0.246586 seconds (Sampling)\n",
      "Chain 2:                0.328593 seconds (Total)\n",
      "Chain 2: \n",
      "\n",
      "SAMPLING FOR MODEL 'cf7c1ba378e7c8a192065ca4c899770d' NOW (CHAIN 3).\n",
      "Chain 3: \n",
      "Chain 3: Gradient evaluation took 0.000101 seconds\n",
      "Chain 3: 1000 transitions using 10 leapfrog steps per transition would take 1.01 seconds.\n",
      "Chain 3: Adjust your expectations accordingly!\n",
      "Chain 3: \n",
      "Chain 3: \n",
      "Chain 3: Iteration:   1 / 1000 [  0%]  (Warmup)\n",
      "Chain 3: Iteration: 100 / 1000 [ 10%]  (Warmup)\n",
      "Chain 3: Iteration: 200 / 1000 [ 20%]  (Warmup)\n",
      "Chain 3: Iteration: 201 / 1000 [ 20%]  (Sampling)\n",
      "Chain 3: Iteration: 300 / 1000 [ 30%]  (Sampling)\n",
      "Chain 3: Iteration: 400 / 1000 [ 40%]  (Sampling)\n",
      "Chain 3: Iteration: 500 / 1000 [ 50%]  (Sampling)\n",
      "Chain 3: Iteration: 600 / 1000 [ 60%]  (Sampling)\n",
      "Chain 3: Iteration: 700 / 1000 [ 70%]  (Sampling)\n",
      "Chain 3: Iteration: 800 / 1000 [ 80%]  (Sampling)\n",
      "Chain 3: Iteration: 900 / 1000 [ 90%]  (Sampling)\n",
      "Chain 3: Iteration: 1000 / 1000 [100%]  (Sampling)\n",
      "Chain 3: \n",
      "Chain 3:  Elapsed Time: 0.086067 seconds (Warm-up)\n",
      "Chain 3:                0.294819 seconds (Sampling)\n",
      "Chain 3:                0.380886 seconds (Total)\n",
      "Chain 3: \n"
     ]
    }
   ],
   "source": [
    "stanFit <- sampling(object=stanDso ,\n",
    "                    data = dataList ,\n",
    "                    chains = 3 ,\n",
    "                    iter = 1000 ,\n",
    "                    warmup = 200 ,\n",
    "                    thin = 1)"
   ]
  },
  {
   "cell_type": "code",
   "execution_count": 34,
   "id": "eef4415b",
   "metadata": {},
   "outputs": [
    {
     "data": {
      "image/png": "[encoded data removed]",
      "text/plain": [
       "plot without title"
      ]
     },
     "metadata": {
      "image/png": {
       "height": 420,
       "width": 420
      }
     },
     "output_type": "display_data"
    }
   ],
   "source": [
    "rstan::traceplot(stanFit,pars=c(\"theta\"))"
   ]
  },
  {
   "cell_type": "code",
   "execution_count": 35,
   "id": "f11a51fe",
   "metadata": {},
   "outputs": [
    {
     "name": "stderr",
     "output_type": "stream",
     "text": [
      "ci_level: 0.8 (80% intervals)\n",
      "\n",
      "outer_level: 0.95 (95% intervals)\n",
      "\n"
     ]
    },
    {
     "data": {
      "image/png": "[encoded data removed]",
      "text/plain": [
       "plot without title"
      ]
     },
     "metadata": {
      "image/png": {
       "height": 420,
       "width": 420
      }
     },
     "output_type": "display_data"
    }
   ],
   "source": [
    "plot(stanFit,pars=c(\"theta\"))"
   ]
  },
  {
   "cell_type": "code",
   "execution_count": 23,
   "id": "9d1519ed",
   "metadata": {},
   "outputs": [
    {
     "name": "stderr",
     "output_type": "stream",
     "text": [
      "\n",
      "Attaching package: ‘coda’\n",
      "\n",
      "\n",
      "The following object is masked from ‘package:rstan’:\n",
      "\n",
      "    traceplot\n",
      "\n",
      "\n"
     ]
    }
   ],
   "source": [
    "library(coda)"
   ]
  },
  {
   "cell_type": "code",
   "execution_count": 44,
   "id": "b09630b6",
   "metadata": {},
   "outputs": [
    {
     "data": {
      "text/html": [
       "'mcmc.list'"
      ],
      "text/latex": [
       "'mcmc.list'"
      ],
      "text/markdown": [
       "'mcmc.list'"
      ],
      "text/plain": [
       "[1] \"mcmc.list\""
      ]
     },
     "metadata": {},
     "output_type": "display_data"
    }
   ],
   "source": [
    "mcmcCoda <- mcmc.list(lapply(1:ncol(stanFit),\n",
    "                             function(x) { mcmc(as.array(stanFit)[,x,]) }))\n",
    "class(mcmcCoda)\n",
    "#> [1] \"mcmc.list\""
   ]
  },
  {
   "cell_type": "code",
   "execution_count": 49,
   "id": "f26a37d2",
   "metadata": {},
   "outputs": [
    {
     "name": "stderr",
     "output_type": "stream",
     "text": [
      "Removing package from ‘/home/alireza/R/x86_64-pc-linux-gnu-library/4.1’\n",
      "(as ‘lib’ is unspecified)\n",
      "\n"
     ]
    },
    {
     "ename": "ERROR",
     "evalue": "Error in find.package(pkgs, lib): there is no package called ‘tidybayes’\n",
     "output_type": "error",
     "traceback": [
      "Error in find.package(pkgs, lib): there is no package called ‘tidybayes’\nTraceback:\n",
      "1. remove.packages(\"tidybayes\")",
      "2. find.package(pkgs, lib)"
     ]
    }
   ],
   "source": [
    "remove.packages('tidybayes')\n",
    "if (file.exists(\".RData\")) file.remove(\".RData\")"
   ]
  },
  {
   "cell_type": "code",
   "execution_count": 50,
   "id": "f5f82cca",
   "metadata": {},
   "outputs": [
    {
     "ename": "ERROR",
     "evalue": "Error: Can't subset columns that don't exist.\n\u001b[31m✖\u001b[39m Column `theta[1]` doesn't exist.\n",
     "output_type": "error",
     "traceback": [
      "Error: Can't subset columns that don't exist.\n\u001b[31m✖\u001b[39m Column `theta[1]` doesn't exist.\nTraceback:\n",
      "1. tidybayes::tidy_draws(mcmcCoda) %>% select(\"theta[1]\":\"theta[2]\") %>% \n .     rename(Placebo = \"theta[1]\", Vaccine = \"theta[2]\") %>% mutate(diff_rate = (Placebo - \n .     Vaccine)/Placebo * 100, Placebo_perc = Placebo * 100, Vaccine_perc = Vaccine * \n .     100)",
      "2. mutate(., diff_rate = (Placebo - Vaccine)/Placebo * 100, Placebo_perc = Placebo * \n .     100, Vaccine_perc = Vaccine * 100)",
      "3. rename(., Placebo = \"theta[1]\", Vaccine = \"theta[2]\")",
      "4. select(., \"theta[1]\":\"theta[2]\")",
      "5. select.data.frame(., \"theta[1]\":\"theta[2]\")",
      "6. tidyselect::eval_select(expr(c(...)), .data)",
      "7. eval_select_impl(data, names(data), as_quosure(expr, env), include = include, \n .     exclude = exclude, strict = strict, name_spec = name_spec, \n .     allow_rename = allow_rename)",
      "8. with_subscript_errors(vars_select_eval(vars, expr, strict, data = x, \n .     name_spec = name_spec, uniquely_named = uniquely_named, allow_rename = allow_rename, \n .     type = type), type = type)",
      "9. tryCatch(instrument_base_errors(expr), vctrs_error_subscript = function(cnd) {\n .     cnd$subscript_action <- subscript_action(type)\n .     cnd$subscript_elt <- \"column\"\n .     cnd_signal(cnd)\n . })",
      "10. tryCatchList(expr, classes, parentenv, handlers)",
      "11. tryCatchOne(expr, names, parentenv, handlers[[1L]])",
      "12. value[[3L]](cond)",
      "13. cnd_signal(cnd)",
      "14. rlang:::signal_abort(x)"
     ]
    }
   ],
   "source": [
    "library(tidybayes)\n",
    "\n",
    "pfizer_res    <- tidybayes::tidy_draws(mcmcCoda) %>%\n",
    "                    select('theta[1]':'theta[2]') %>%\n",
    "                    rename(Placebo = 'theta[1]', Vaccine = 'theta[2]') %>%\n",
    "                    mutate(diff_rate = (Placebo - Vaccine) / Placebo * 100,\n",
    "                           Placebo_perc = Placebo * 100,\n",
    "                           Vaccine_perc = Vaccine * 100)"
   ]
  },
  {
   "cell_type": "code",
   "execution_count": 47,
   "id": "9aaf916d",
   "metadata": {},
   "outputs": [
    {
     "ename": "ERROR",
     "evalue": "Error in as.mcmc(pfizer_res, vars = \"diff_rate\"): object 'pfizer_res' not found\n",
     "output_type": "error",
     "traceback": [
      "Error in as.mcmc(pfizer_res, vars = \"diff_rate\"): object 'pfizer_res' not found\nTraceback:\n",
      "1. as.mcmc(pfizer_res, vars = \"diff_rate\")"
     ]
    }
   ],
   "source": [
    "allmcmc2 <- as.mcmc(pfizer_res, vars=\"diff_rate\")\n",
    "pt3 <- plotPosterior(mcmcCoda[,\"diff_rate\"], 0.95, \"yellow\", \"Diff rate\")"
   ]
  },
  {
   "cell_type": "code",
   "execution_count": 7,
   "id": "32b5926d",
   "metadata": {},
   "outputs": [],
   "source": [
    "library(rjags)\n",
    "library(runjags)\n",
    "library(R2jags)"
   ]
  },
  {
   "cell_type": "code",
   "execution_count": 8,
   "id": "110a6466",
   "metadata": {},
   "outputs": [
    {
     "data": {
      "text/plain": [
       "         \n",
       "            Neg   Pos\n",
       "  Placebo 18163   162\n",
       "  Vaccine 18190     8"
      ]
     },
     "metadata": {},
     "output_type": "display_data"
    }
   ],
   "source": [
    "tot_vaccine <- 18198\n",
    "tot_placebo <- 18325\n",
    "patient <- c(rep(\"Vaccine\", tot_vaccine),\n",
    "             rep(\"Placebo\", tot_placebo))\n",
    "# Number of patients tested postive after RCT:\n",
    "pos_vaccine <- 8\n",
    "pos_placebo <- 162\n",
    "tested   <- c(rep(\"Pos\", pos_vaccine),\n",
    "              rep(\"Neg\", tot_vaccine - pos_vaccine),\n",
    "              rep(\"Pos\", pos_placebo),\n",
    "              rep(\"Neg\", tot_placebo - pos_placebo))\n",
    "pfizer.tb <- tibble::tibble(tested = tested, patient=patient)\n",
    "table(pfizer.tb[[2]], pfizer.tb[[1]])"
   ]
  },
  {
   "cell_type": "code",
   "execution_count": 9,
   "id": "fc4b36fb",
   "metadata": {},
   "outputs": [],
   "source": [
    "dataList = list(\n",
    "    tested = ifelse(pfizer.tb$tested == \"Neg\", 0, 1),\n",
    "    patient = as.integer(factor(pfizer.tb$patient)),\n",
    "    Ntot = nrow(pfizer.tb) ,\n",
    "    Nclass = nlevels(factor(pfizer.tb$patient))\n",
    ")"
   ]
  },
  {
   "cell_type": "code",
   "execution_count": 10,
   "id": "a5dec6f5",
   "metadata": {},
   "outputs": [],
   "source": [
    "modelString <- \"  \n",
    "  model {\n",
    "    for ( i in 1:Ntot ) {\n",
    "      tested[i] ~ dbern( theta[patient[i]] )\n",
    "    }\n",
    "  for ( k in 1:Nclass ) {\n",
    "    theta[k] ~ dbeta(3 , 100)    \n",
    "    }\n",
    "  theta[3] = (theta[1]-theta[2])/theta[1] * 100\n",
    "  }\"\n",
    "writeLines(modelString , con=\"jags_Pfizer(test)_model.txt\")"
   ]
  },
  {
   "cell_type": "code",
   "execution_count": 11,
   "id": "28619a37",
   "metadata": {},
   "outputs": [
    {
     "name": "stderr",
     "output_type": "stream",
     "text": [
      "Warning message:\n",
      "“No initial values were provided - JAGS will use the same initial values for all chains”\n",
      "Warning message:\n",
      "“You attempted to start parallel chains without setting different PRNG for each chain, which is not recommended.  Different .RNG.name values have been added to each set of initial values.”\n"
     ]
    },
    {
     "name": "stdout",
     "output_type": "stream",
     "text": [
      "Calling 4 simulations using the parallel method...\n",
      "Following the progress of chain 1 (the program will wait for all chains\n",
      "to finish before continuing):\n",
      "Welcome to JAGS 4.3.0 on Tue Jun 22 10:31:57 2021\n",
      "JAGS is free software and comes with ABSOLUTELY NO WARRANTY\n",
      "Loading module: basemod: ok\n",
      "Loading module: bugs: ok\n",
      ". . Reading data file data.txt\n",
      ". Compiling model graph\n",
      "   Resolving undeclared variables\n",
      "   Allocating nodes\n",
      "Graph information:\n",
      "   Observed stochastic nodes: 36523\n",
      "   Unobserved stochastic nodes: 2\n",
      "   Total graph size: 73055\n",
      ". Reading parameter file inits1.txt\n",
      ". Initializing model\n",
      ". Adaptation skipped: model is not in adaptive mode.\n",
      ". Updating 4000\n",
      "-------------------------------------------------| 4000\n",
      "************************************************** 100%\n",
      ". . Updating 15000\n",
      "-------------------------------------------------| 15000\n",
      "************************************************** 100%\n",
      ". . . . Updating 0\n",
      ". Deleting model\n",
      ". \n",
      "All chains have finished\n",
      "Note: the model did not require adaptation\n",
      "Simulation complete.  Reading coda files...\n",
      "Coda files loaded successfully\n",
      "Calculating summary statistics...\n",
      "Calculating the Gelman-Rubin statistic for 3 variables....\n",
      "Finished running the simulation\n"
     ]
    }
   ],
   "source": [
    "pfizer_chains <- run.jags(modelString ,\n",
    "                          sample = 15000,\n",
    "                          n.chains = 4,\n",
    "                          method = \"parallel\",\n",
    "                          monitor = \"theta\",\n",
    "                          data = dataList)"
   ]
  },
  {
   "cell_type": "code",
   "execution_count": 12,
   "id": "9e961d93",
   "metadata": {},
   "outputs": [
    {
     "data": {
      "text/html": [
       "<table class=\"dataframe\">\n",
       "<caption>A matrix: 3 × 11 of type dbl</caption>\n",
       "<thead>\n",
       "\t<tr><th></th><th scope=col>Lower95</th><th scope=col>Median</th><th scope=col>Upper95</th><th scope=col>Mean</th><th scope=col>SD</th><th scope=col>Mode</th><th scope=col>MCerr</th><th scope=col>MC%ofSD</th><th scope=col>SSeff</th><th scope=col>AC.10</th><th scope=col>psrf</th></tr>\n",
       "</thead>\n",
       "<tbody>\n",
       "\t<tr><th scope=row>theta[1]</th><td>7.58176e-03</td><td>8.92974e-03</td><td>1.02987e-02</td><td>8.945047e-03</td><td>0.0006950820</td><td>NA</td><td>3.486239e-06</td><td>0.5</td><td>39752</td><td>-0.0008332159</td><td>0.9999758</td></tr>\n",
       "\t<tr><th scope=row>theta[2]</th><td>2.75015e-04</td><td>5.83135e-04</td><td>9.64622e-04</td><td>6.001088e-04</td><td>0.0001812149</td><td>NA</td><td>9.096457e-07</td><td>0.5</td><td>39687</td><td> 0.0067568091</td><td>1.0000065</td></tr>\n",
       "\t<tr><th scope=row>theta[3]</th><td>8.90771e+01</td><td>9.34814e+01</td><td>9.71361e+01</td><td>9.324957e+01</td><td>2.1142990938</td><td>NA</td><td>1.062051e-02</td><td>0.5</td><td>39632</td><td> 0.0053951619</td><td>1.0000329</td></tr>\n",
       "</tbody>\n",
       "</table>\n"
      ],
      "text/latex": [
       "A matrix: 3 × 11 of type dbl\n",
       "\\begin{tabular}{r|lllllllllll}\n",
       "  & Lower95 & Median & Upper95 & Mean & SD & Mode & MCerr & MC\\%ofSD & SSeff & AC.10 & psrf\\\\\n",
       "\\hline\n",
       "\ttheta{[}1{]} & 7.58176e-03 & 8.92974e-03 & 1.02987e-02 & 8.945047e-03 & 0.0006950820 & NA & 3.486239e-06 & 0.5 & 39752 & -0.0008332159 & 0.9999758\\\\\n",
       "\ttheta{[}2{]} & 2.75015e-04 & 5.83135e-04 & 9.64622e-04 & 6.001088e-04 & 0.0001812149 & NA & 9.096457e-07 & 0.5 & 39687 &  0.0067568091 & 1.0000065\\\\\n",
       "\ttheta{[}3{]} & 8.90771e+01 & 9.34814e+01 & 9.71361e+01 & 9.324957e+01 & 2.1142990938 & NA & 1.062051e-02 & 0.5 & 39632 &  0.0053951619 & 1.0000329\\\\\n",
       "\\end{tabular}\n"
      ],
      "text/markdown": [
       "\n",
       "A matrix: 3 × 11 of type dbl\n",
       "\n",
       "| <!--/--> | Lower95 | Median | Upper95 | Mean | SD | Mode | MCerr | MC%ofSD | SSeff | AC.10 | psrf |\n",
       "|---|---|---|---|---|---|---|---|---|---|---|---|\n",
       "| theta[1] | 7.58176e-03 | 8.92974e-03 | 1.02987e-02 | 8.945047e-03 | 0.0006950820 | NA | 3.486239e-06 | 0.5 | 39752 | -0.0008332159 | 0.9999758 |\n",
       "| theta[2] | 2.75015e-04 | 5.83135e-04 | 9.64622e-04 | 6.001088e-04 | 0.0001812149 | NA | 9.096457e-07 | 0.5 | 39687 |  0.0067568091 | 1.0000065 |\n",
       "| theta[3] | 8.90771e+01 | 9.34814e+01 | 9.71361e+01 | 9.324957e+01 | 2.1142990938 | NA | 1.062051e-02 | 0.5 | 39632 |  0.0053951619 | 1.0000329 |\n",
       "\n"
      ],
      "text/plain": [
       "         Lower95     Median      Upper95     Mean         SD           Mode\n",
       "theta[1] 7.58176e-03 8.92974e-03 1.02987e-02 8.945047e-03 0.0006950820 NA  \n",
       "theta[2] 2.75015e-04 5.83135e-04 9.64622e-04 6.001088e-04 0.0001812149 NA  \n",
       "theta[3] 8.90771e+01 9.34814e+01 9.71361e+01 9.324957e+01 2.1142990938 NA  \n",
       "         MCerr        MC%ofSD SSeff AC.10         psrf     \n",
       "theta[1] 3.486239e-06 0.5     39752 -0.0008332159 0.9999758\n",
       "theta[2] 9.096457e-07 0.5     39687  0.0067568091 1.0000065\n",
       "theta[3] 1.062051e-02 0.5     39632  0.0053951619 1.0000329"
      ]
     },
     "metadata": {},
     "output_type": "display_data"
    }
   ],
   "source": [
    "summary(pfizer_chains)"
   ]
  },
  {
   "cell_type": "code",
   "execution_count": 13,
   "id": "96a8d39b",
   "metadata": {},
   "outputs": [
    {
     "name": "stdout",
     "output_type": "stream",
     "text": [
      "Generating plots...\n"
     ]
    }
   ],
   "source": [
    "plot(pfizer_chains)"
   ]
  },
  {
   "cell_type": "code",
   "execution_count": 15,
   "id": "fed7ddd3",
   "metadata": {},
   "outputs": [
    {
     "name": "stdout",
     "output_type": "stream",
     "text": [
      "List of 44\n",
      " $ mcmc             :List of 4\n",
      "  ..$ : 'mcmc' num [1:15000, 1:3] 0.00839 0.00903 0.00846 0.00835 0.00917 ...\n",
      "  .. ..- attr(*, \"dimnames\")=List of 2\n",
      "  .. .. ..$ : chr [1:15000] \"5001\" \"5002\" \"5003\" \"5004\" ...\n",
      "  .. .. ..$ : chr [1:3] \"theta[1]\" \"theta[2]\" \"theta[3]\"\n",
      "  .. ..- attr(*, \"mcpar\")= num [1:3] 5001 20000 1\n",
      "  ..$ : 'mcmc' num [1:15000, 1:3] 0.00875 0.00839 0.0084 0.00925 0.00913 ...\n",
      "  .. ..- attr(*, \"dimnames\")=List of 2\n",
      "  .. .. ..$ : chr [1:15000] \"5001\" \"5002\" \"5003\" \"5004\" ...\n",
      "  .. .. ..$ : chr [1:3] \"theta[1]\" \"theta[2]\" \"theta[3]\"\n",
      "  .. ..- attr(*, \"mcpar\")= num [1:3] 5001 20000 1\n",
      "  ..$ : 'mcmc' num [1:15000, 1:3] 0.00817 0.00868 0.00778 0.00883 0.00838 ...\n",
      "  .. ..- attr(*, \"dimnames\")=List of 2\n",
      "  .. .. ..$ : chr [1:15000] \"5001\" \"5002\" \"5003\" \"5004\" ...\n",
      "  .. .. ..$ : chr [1:3] \"theta[1]\" \"theta[2]\" \"theta[3]\"\n",
      "  .. ..- attr(*, \"mcpar\")= num [1:3] 5001 20000 1\n",
      "  ..$ : 'mcmc' num [1:15000, 1:3] 0.00972 0.00837 0.008 0.00765 0.00907 ...\n",
      "  .. ..- attr(*, \"dimnames\")=List of 2\n",
      "  .. .. ..$ : chr [1:15000] \"5001\" \"5002\" \"5003\" \"5004\" ...\n",
      "  .. .. ..$ : chr [1:3] \"theta[1]\" \"theta[2]\" \"theta[3]\"\n",
      "  .. ..- attr(*, \"mcpar\")= num [1:3] 5001 20000 1\n",
      "  ..- attr(*, \"class\")= chr \"mcmc.list\"\n",
      " $ deviance.table   : logi NA\n",
      " $ deviance.sum     : logi NA\n",
      " $ pd               : logi NA\n",
      " $ end.state        : 'runjagsinits' chr [1:4] \"`.RNG.name` <- \\\"base::Wichmann-Hill\\\"\\n`.RNG.state` <- \\nc(3894L,26241L,2858L)\\n`theta` <- \\nc(0.00881528,0.000577348,NA)\\n\" \"`.RNG.name` <- \\\"base::Marsaglia-Multicarry\\\"\\n`.RNG.state` <- \\nc(1576863958L,709848473L)\\n`theta` <- \\nc(0.00\"| __truncated__ \"`.RNG.name` <- \\\"base::Super-Duper\\\"\\n`.RNG.state` <- \\nc(234337930L,-1406610235L)\\n`theta` <- \\nc(0.00933465,0\"| __truncated__ \"`.RNG.name` <- \\\"base::Mersenne-Twister\\\"\\n`.RNG.state` <- \\nc(246L,568469535L,1726215176L,-789681711L,-7390855\"| __truncated__\n",
      " $ samplers         :'data.frame':\t2 obs. of  3 variables:\n",
      "  ..$ Index.No: num [1:2] 1 2\n",
      "  ..$ Sampler : chr [1:2] \"bugs::ConjugateBeta\" \"bugs::ConjugateBeta\"\n",
      "  ..$ Node    : chr [1:2] \"theta[2]\" \"theta[1]\"\n",
      " $ burnin           : num 5000\n",
      " $ sample           : int 15000\n",
      " $ thin             : num 1\n",
      " $ model            : 'runjagsmodel' chr \"model{\\nfor ( i in 1:Ntot ) {\\ntested[i] ~ dbern( theta[patient[i]] )\\n}\\nfor ( k in 1:Nclass ) {\\ntheta[k] ~ d\"| __truncated__\n",
      " $ data             : 'runjagsdata' chr \"\\\"tested\\\" <- c(1, 1, 1, 1, 1, 1, 1, 1, 0, 0, 0, 0, 0, 0, 0, 0, 0, 0, 0, 0, 0, 0, 0, 0, 0, 0, 0, 0, 0, 0, 0, 0,\"| __truncated__\n",
      " $ monitor          : chr \"theta\"\n",
      " $ noread.monitor   : chr(0) \n",
      " $ modules          : chr \"\"\n",
      " $ factories        : chr \"\"\n",
      " $ response         : logi NA\n",
      " $ residual         : logi NA\n",
      " $ fitted           : logi NA\n",
      " $ method           : chr \"parallel\"\n",
      " $ method.options   :List of 9\n",
      "  ..$ n.sims      : logi NA\n",
      "  ..$ cl          : logi NA\n",
      "  ..$ remote.jags : chr \"*//*usefindjags*//*\"\n",
      "  ..$ by          : logi NA\n",
      "  ..$ progress.bar: Named chr \"text\"\n",
      "  .. ..- attr(*, \"names\")= chr \"jags.pb\"\n",
      "  ..$ jags        : chr \"/usr/bin/jags\"\n",
      "  ..$ silent.jags : logi FALSE\n",
      "  ..$ jags.refresh: num 0.1\n",
      "  ..$ batch.jags  : logi FALSE\n",
      " $ timetaken        : 'difftime' num 89.5878195762634\n",
      "  ..- attr(*, \"units\")= chr \"secs\"\n",
      " $ runjags.version  : chr [1:6] \"2.2.0-2\" \"R version 4.1.0 (2021-05-18)\" \"unix\" \"X11\" ...\n",
      " $ summaries        : num [1:3, 1:11] 7.58e-03 2.75e-04 8.91e+01 8.93e-03 5.83e-04 ...\n",
      "  ..- attr(*, \"dimnames\")=List of 2\n",
      "  .. ..$ : chr [1:3] \"theta[1]\" \"theta[2]\" \"theta[3]\"\n",
      "  .. ..$ : chr [1:11] \"Lower95\" \"Median\" \"Upper95\" \"Mean\" ...\n",
      " $ summary          :List of 6\n",
      "  ..$ statistics: num [1:3, 1:4] 8.95e-03 6.00e-04 9.32e+01 6.95e-04 1.81e-04 ...\n",
      "  .. ..- attr(*, \"dimnames\")=List of 2\n",
      "  .. .. ..$ : chr [1:3] \"theta[1]\" \"theta[2]\" \"theta[3]\"\n",
      "  .. .. ..$ : chr [1:4] \"Mean\" \"SD\" \"Naive SE\" \"Time-series SE\"\n",
      "  ..$ quantiles : num [1:3, 1:5] 7.62e-03 2.99e-04 8.85e+01 8.47e-03 4.70e-04 ...\n",
      "  .. ..- attr(*, \"dimnames\")=List of 2\n",
      "  .. .. ..$ : chr [1:3] \"theta[1]\" \"theta[2]\" \"theta[3]\"\n",
      "  .. .. ..$ : chr [1:5] \"2.5%\" \"25%\" \"50%\" \"75%\" ...\n",
      "  ..$ start     : num 5001\n",
      "  ..$ end       : num 15000\n",
      "  ..$ thin      : num 1\n",
      "  ..$ nchain    : int 4\n",
      "  ..- attr(*, \"class\")= chr \"summary.mcmc\"\n",
      " $ HPD              : num [1:3, 1:3] 7.58e-03 2.75e-04 8.91e+01 8.93e-03 5.83e-04 ...\n",
      "  ..- attr(*, \"dimnames\")=List of 2\n",
      "  .. ..$ : chr [1:3] \"theta[1]\" \"theta[2]\" \"theta[3]\"\n",
      "  .. ..$ : chr [1:3] \"Lower95\" \"Median\" \"Upper95\"\n",
      " $ hpd              : num [1:3, 1:3] 7.58e-03 2.75e-04 8.91e+01 8.93e-03 5.83e-04 ...\n",
      "  ..- attr(*, \"dimnames\")=List of 2\n",
      "  .. ..$ : chr [1:3] \"theta[1]\" \"theta[2]\" \"theta[3]\"\n",
      "  .. ..$ : chr [1:3] \"Lower95\" \"Median\" \"Upper95\"\n",
      " $ mcse             :List of 3\n",
      "  ..$ sseff: Named num [1:3] 39752 39687 39632\n",
      "  .. ..- attr(*, \"names\")= chr [1:3] \"theta[1]\" \"theta[2]\" \"theta[3]\"\n",
      "  ..$ ssd  : Named num [1:3] 0.000695 0.000181 2.114299\n",
      "  .. ..- attr(*, \"names\")= chr [1:3] \"theta[1]\" \"theta[2]\" \"theta[3]\"\n",
      "  ..$ mcse : Named num [1:3] 3.49e-06 9.10e-07 1.06e-02\n",
      "  .. ..- attr(*, \"names\")= chr [1:3] \"theta[1]\" \"theta[2]\" \"theta[3]\"\n",
      "  ..- attr(*, \"class\")= chr \"mcsestats\"\n",
      " $ psrf             :List of 3\n",
      "  ..$ psrf       : num [1:3, 1:2] 1 1 1 1 1 ...\n",
      "  .. ..- attr(*, \"dimnames\")=List of 2\n",
      "  .. .. ..$ : chr [1:3] \"theta[1]\" \"theta[2]\" \"theta[3]\"\n",
      "  .. .. ..$ : chr [1:2] \"Point est.\" \"Upper C.I.\"\n",
      "  ..$ mpsrf      : num 1\n",
      "  ..$ psrf.target: num 1.05\n",
      "  ..- attr(*, \"class\")= chr \"gelmanwithtarget\"\n",
      " $ autocorr         : num [1, 1:3] -0.000833 0.006757 0.005395\n",
      "  ..- attr(*, \"dimnames\")=List of 2\n",
      "  .. ..$ : chr \"Lag 10\"\n",
      "  .. ..$ : chr [1:3] \"theta[1]\" \"theta[2]\" \"theta[3]\"\n",
      " $ crosscorr        : 'crosscorrstats' num [1:3, 1:3] 1 -0.00565 0.25414 -0.00565 1 ...\n",
      "  ..- attr(*, \"dimnames\")=List of 2\n",
      "  .. ..$ : chr [1:3] \"theta[1]\" \"theta[2]\" \"theta[3]\"\n",
      "  .. ..$ : chr [1:3] \"theta[1]\" \"theta[2]\" \"theta[3]\"\n",
      " $ truestochastic   : Named logi [1:3] TRUE TRUE TRUE\n",
      "  ..- attr(*, \"names\")= chr [1:3] \"theta[1]\" \"theta[2]\" \"theta[3]\"\n",
      " $ semistochastic   : Named logi [1:3] FALSE FALSE FALSE\n",
      "  ..- attr(*, \"names\")= chr [1:3] \"theta[1]\" \"theta[2]\" \"theta[3]\"\n",
      " $ nonstochastic    : Named logi [1:3] FALSE FALSE FALSE\n",
      "  ..- attr(*, \"names\")= chr [1:3] \"theta[1]\" \"theta[2]\" \"theta[3]\"\n",
      " $ discrete         : Named logi [1:3] FALSE FALSE FALSE\n",
      "  ..- attr(*, \"names\")= chr [1:3] \"theta[1]\" \"theta[2]\" \"theta[3]\"\n",
      " $ trace            : chr \"Predrawn plots not available - see ?add.summary or ?plot.runjags\"\n",
      " $ density          : chr \"Predrawn plots not available - see ?add.summary or ?plot.runjags\"\n",
      " $ histogram        : chr \"Predrawn plots not available - see ?add.summary or ?plot.runjags\"\n",
      " $ ecdfplot         : chr \"Predrawn plots not available - see ?add.summary or ?plot.runjags\"\n",
      " $ key              : chr \"Predrawn plots not available - see ?add.summary or ?plot.runjags\"\n",
      " $ acplot           : chr \"Predrawn plots not available - see ?add.summary or ?plot.runjags\"\n",
      " $ ccplot           : chr \"Predrawn plots not available - see ?add.summary or ?plot.runjags\"\n",
      " $ summary.available: logi TRUE\n",
      " $ summary.pars     :List of 19\n",
      "  ..$ plots            : logi FALSE\n",
      "  ..$ plot.type        : chr [1:6] \"trace\" \"ecdf\" \"histogram\" \"autocorr\" ...\n",
      "  ..$ vars             : logi NA\n",
      "  ..$ mutate           : NULL\n",
      "  ..$ psrf.target      : num 1.05\n",
      "  ..$ normalise.mcmc   : logi TRUE\n",
      "  ..$ modeest.opts     : list()\n",
      "  ..$ confidence       : num 0.95\n",
      "  ..$ autocorr.lags    : num 10\n",
      "  ..$ custom           : NULL\n",
      "  ..$ silent.jags      : logi FALSE\n",
      "  ..$ col              : logi NA\n",
      "  ..$ trace.iters      : num 1000\n",
      "  ..$ separate.chains  : logi FALSE\n",
      "  ..$ trace.options    : list()\n",
      "  ..$ density.options  : list()\n",
      "  ..$ histogram.options: list()\n",
      "  ..$ ecdfplot.options : list()\n",
      "  ..$ acplot.options   : list()\n",
      " $ dic              : chr \"DIC statistics have not been stored internally - see ?extract.runjags\"\n",
      " - attr(*, \"class\")= chr \"runjags\"\n"
     ]
    }
   ],
   "source": [
    "str(pfizer_chains)"
   ]
  },
  {
   "cell_type": "code",
   "execution_count": 18,
   "id": "7db9f360",
   "metadata": {},
   "outputs": [],
   "source": [
    "?plot.runjags"
   ]
  },
  {
   "cell_type": "code",
   "execution_count": 17,
   "id": "9ba1260f",
   "metadata": {},
   "outputs": [
    {
     "name": "stdout",
     "output_type": "stream",
     "text": [
      "Calculating summary statistics...\n",
      "Calculating the Gelman-Rubin statistic for 3 variables....\n"
     ]
    },
    {
     "data": {
      "text/plain": [
       "\n",
       "JAGS model summary statistics from 60000 samples (chains = 4; adapt+burnin = 5000):\n",
       "                                                                              \n",
       "           Lower95     Median    Upper95       Mean         SD Mode      MCerr\n",
       "theta[1] 0.0076018  0.0089335   0.010329  0.0089478 0.00069569   -- 2.8414e-06\n",
       "theta[2] 0.0002677 0.00058412 0.00095971 0.00060124 0.00018175   -- 7.4197e-07\n",
       "theta[3]    89.072     93.472     97.144     93.239     2.1208   --  0.0086582\n",
       "                                       \n",
       "         MC%ofSD SSeff       AC.10 psrf\n",
       "theta[1]     0.4 59946 -0.00083322    1\n",
       "theta[2]     0.4 60000   0.0067568    1\n",
       "theta[3]     0.4 60000   0.0053952    1\n",
       "\n",
       "Total time taken: 1.5 minutes\n"
      ]
     },
     "metadata": {},
     "output_type": "display_data"
    }
   ],
   "source": [
    "add.summary(pfizer_chains)"
   ]
  },
  {
   "cell_type": "code",
   "execution_count": 19,
   "id": "b9392bab",
   "metadata": {},
   "outputs": [
    {
     "name": "stdout",
     "output_type": "stream",
     "text": [
      "Calculating summary statistics...\n",
      "Calculating the Gelman-Rubin statistic for 3 variables....\n"
     ]
    },
    {
     "data": {
      "text/plain": [
       "\n",
       "JAGS model summary statistics from 60000 samples (chains = 4; adapt+burnin = 5000):\n",
       "                                                                              \n",
       "           Lower95     Median    Upper95       Mean         SD Mode      MCerr\n",
       "theta[1] 0.0076018  0.0089335   0.010329  0.0089478 0.00069569   -- 2.8414e-06\n",
       "theta[2] 0.0002677 0.00058412 0.00095971 0.00060124 0.00018175   -- 7.4197e-07\n",
       "theta[3]    89.072     93.472     97.144     93.239     2.1208   --  0.0086582\n",
       "                                       \n",
       "         MC%ofSD SSeff       AC.10 psrf\n",
       "theta[1]     0.4 59946 -0.00083322    1\n",
       "theta[2]     0.4 60000   0.0067568    1\n",
       "theta[3]     0.4 60000   0.0053952    1\n",
       "\n",
       "Total time taken: 1.5 minutes\n"
      ]
     },
     "metadata": {},
     "output_type": "display_data"
    }
   ],
   "source": [
    "add.summary(pfizer_chains,plots = runjags.getOption(\"predraw.plots\"),\n",
    "  plot.type = c(\"trace\", \"ecdf\", \"histogram\", \"autocorr\", \"key\", \"crosscorr\"))"
   ]
  },
  {
   "cell_type": "code",
   "execution_count": 22,
   "id": "cbccc853",
   "metadata": {},
   "outputs": [
    {
     "name": "stdout",
     "output_type": "stream",
     "text": [
      "Generating plots...\n"
     ]
    },
    {
     "name": "stderr",
     "output_type": "stream",
     "text": [
      "── \u001b[1mAttaching packages\u001b[22m ─────────────────────────────────────── tidyverse 1.3.1 ──\n",
      "\n",
      "\u001b[32m✔\u001b[39m \u001b[34mggplot2\u001b[39m 3.3.3     \u001b[32m✔\u001b[39m \u001b[34mpurrr  \u001b[39m 0.3.4\n",
      "\u001b[32m✔\u001b[39m \u001b[34mtibble \u001b[39m 3.1.2     \u001b[32m✔\u001b[39m \u001b[34mdplyr  \u001b[39m 1.0.6\n",
      "\u001b[32m✔\u001b[39m \u001b[34mtidyr  \u001b[39m 1.1.3     \u001b[32m✔\u001b[39m \u001b[34mstringr\u001b[39m 1.4.0\n",
      "\u001b[32m✔\u001b[39m \u001b[34mreadr  \u001b[39m 1.4.0     \u001b[32m✔\u001b[39m \u001b[34mforcats\u001b[39m 0.5.1\n",
      "\n",
      "── \u001b[1mConflicts\u001b[22m ────────────────────────────────────────── tidyverse_conflicts() ──\n",
      "\u001b[31m✖\u001b[39m \u001b[34mtidyr\u001b[39m::\u001b[32mextract()\u001b[39m masks \u001b[34mrunjags\u001b[39m::extract()\n",
      "\u001b[31m✖\u001b[39m \u001b[34mdplyr\u001b[39m::\u001b[32mfilter()\u001b[39m  masks \u001b[34mstats\u001b[39m::filter()\n",
      "\u001b[31m✖\u001b[39m \u001b[34mdplyr\u001b[39m::\u001b[32mlag()\u001b[39m     masks \u001b[34mstats\u001b[39m::lag()\n",
      "\n"
     ]
    }
   ],
   "source": [
    "plot(pfizer_chains,plot.type='trace')\n",
    "library(tidyverse)"
   ]
  },
  {
   "cell_type": "code",
   "execution_count": 37,
   "id": "6ed495cf",
   "metadata": {},
   "outputs": [
    {
     "name": "stdout",
     "output_type": "stream",
     "text": [
      "Generating plots...\n"
     ]
    }
   ],
   "source": [
    "plot(pfizer_chains,vars=c(\"theta[3]\"),col='navy')"
   ]
  },
  {
   "cell_type": "code",
   "execution_count": 38,
   "id": "3fb7b404",
   "metadata": {},
   "outputs": [
    {
     "ename": "ERROR",
     "evalue": "Error in 1:ncol(pfizer_chains): argument of length 0\n",
     "output_type": "error",
     "traceback": [
      "Error in 1:ncol(pfizer_chains): argument of length 0\nTraceback:\n",
      "1. mcmc.list(lapply(1:ncol(pfizer_chains), function(x) {\n .     mcmc(as.array(pfiizer_chains)[, x, ])\n . }))",
      "2. lapply(1:ncol(pfizer_chains), function(x) {\n .     mcmc(as.array(pfiizer_chains)[, x, ])\n . })"
     ]
    }
   ],
   "source": [
    "mcmcCoda <- mcmc.list(lapply(1:ncol(pfizer_chains),function(x) { mcmc(as.array(pfiizer_chains)[,x,]) }))"
   ]
  },
  {
   "cell_type": "code",
   "execution_count": 1,
   "id": "e35c79ae",
   "metadata": {},
   "outputs": [
    {
     "name": "stderr",
     "output_type": "stream",
     "text": [
      "── \u001b[1mAttaching packages\u001b[22m ─────────────────────────────────────── tidyverse 1.3.1 ──\n",
      "\n",
      "\u001b[32m✔\u001b[39m \u001b[34mggplot2\u001b[39m 3.3.3     \u001b[32m✔\u001b[39m \u001b[34mpurrr  \u001b[39m 0.3.4\n",
      "\u001b[32m✔\u001b[39m \u001b[34mtibble \u001b[39m 3.1.2     \u001b[32m✔\u001b[39m \u001b[34mdplyr  \u001b[39m 1.0.6\n",
      "\u001b[32m✔\u001b[39m \u001b[34mtidyr  \u001b[39m 1.1.3     \u001b[32m✔\u001b[39m \u001b[34mstringr\u001b[39m 1.4.0\n",
      "\u001b[32m✔\u001b[39m \u001b[34mreadr  \u001b[39m 1.4.0     \u001b[32m✔\u001b[39m \u001b[34mforcats\u001b[39m 0.5.1\n",
      "\n",
      "── \u001b[1mConflicts\u001b[22m ────────────────────────────────────────── tidyverse_conflicts() ──\n",
      "\u001b[31m✖\u001b[39m \u001b[34mdplyr\u001b[39m::\u001b[32mfilter()\u001b[39m masks \u001b[34mstats\u001b[39m::filter()\n",
      "\u001b[31m✖\u001b[39m \u001b[34mdplyr\u001b[39m::\u001b[32mlag()\u001b[39m    masks \u001b[34mstats\u001b[39m::lag()\n",
      "\n"
     ]
    }
   ],
   "source": [
    "library(tidyverse)"
   ]
  },
  {
   "cell_type": "code",
   "execution_count": 6,
   "id": "fb64b66d",
   "metadata": {},
   "outputs": [],
   "source": []
  },
  {
   "cell_type": "code",
   "execution_count": 7,
   "id": "b1c1ee66",
   "metadata": {},
   "outputs": [
    {
     "data": {
      "text/html": [
       "<table class=\"dataframe\">\n",
       "<caption>A data.frame: 192 × 7</caption>\n",
       "<thead>\n",
       "\t<tr><th scope=col>X</th><th scope=col>X0</th><th scope=col>X1</th><th scope=col>X2</th><th scope=col>kl_loss</th><th scope=col>loss</th><th scope=col>reconstruction_loss</th></tr>\n",
       "\t<tr><th scope=col>&lt;int&gt;</th><th scope=col>&lt;dbl&gt;</th><th scope=col>&lt;dbl&gt;</th><th scope=col>&lt;dbl&gt;</th><th scope=col>&lt;dbl&gt;</th><th scope=col>&lt;dbl&gt;</th><th scope=col>&lt;dbl&gt;</th></tr>\n",
       "</thead>\n",
       "<tbody>\n",
       "\t<tr><td> 0</td><td>4.686300e-310</td><td>4.686295e-310</td><td>4.686295e-310</td><td>NA</td><td>NA</td><td>NA</td></tr>\n",
       "\t<tr><td> 1</td><td>4.686295e-310</td><td>4.686295e-310</td><td>4.686295e-310</td><td>NA</td><td>NA</td><td>NA</td></tr>\n",
       "\t<tr><td> 2</td><td>4.686295e-310</td><td>6.927893e-310</td><td>6.927786e-310</td><td>NA</td><td>NA</td><td>NA</td></tr>\n",
       "\t<tr><td> 3</td><td>6.927786e-310</td><td>6.927786e-310</td><td>6.927786e-310</td><td>NA</td><td>NA</td><td>NA</td></tr>\n",
       "\t<tr><td> 4</td><td>6.927810e-310</td><td>6.927786e-310</td><td>6.927786e-310</td><td>NA</td><td>NA</td><td>NA</td></tr>\n",
       "\t<tr><td> 5</td><td>6.927786e-310</td><td>6.927786e-310</td><td>6.927891e-310</td><td>NA</td><td>NA</td><td>NA</td></tr>\n",
       "\t<tr><td> 6</td><td>6.927891e-310</td><td>6.927891e-310</td><td>4.686295e-310</td><td>NA</td><td>NA</td><td>NA</td></tr>\n",
       "\t<tr><td> 7</td><td>4.686295e-310</td><td>4.686295e-310</td><td>4.686295e-310</td><td>NA</td><td>NA</td><td>NA</td></tr>\n",
       "\t<tr><td> 8</td><td>6.927887e-310</td><td>6.927892e-310</td><td>6.927891e-310</td><td>NA</td><td>NA</td><td>NA</td></tr>\n",
       "\t<tr><td> 9</td><td>6.927891e-310</td><td>6.927878e-310</td><td>6.927887e-310</td><td>NA</td><td>NA</td><td>NA</td></tr>\n",
       "\t<tr><td>10</td><td>6.927891e-310</td><td>6.927893e-310</td><td>6.927872e-310</td><td>NA</td><td>NA</td><td>NA</td></tr>\n",
       "\t<tr><td>11</td><td>6.927810e-310</td><td>6.927786e-310</td><td>6.927789e-310</td><td>NA</td><td>NA</td><td>NA</td></tr>\n",
       "\t<tr><td>12</td><td>6.927867e-310</td><td>6.927865e-310</td><td>6.927786e-310</td><td>NA</td><td>NA</td><td>NA</td></tr>\n",
       "\t<tr><td>13</td><td>6.927892e-310</td><td>6.927893e-310</td><td>6.927878e-310</td><td>NA</td><td>NA</td><td>NA</td></tr>\n",
       "\t<tr><td>14</td><td>6.927789e-310</td><td>6.927786e-310</td><td>6.927878e-310</td><td>NA</td><td>NA</td><td>NA</td></tr>\n",
       "\t<tr><td>15</td><td>6.927891e-310</td><td>6.927891e-310</td><td>6.927893e-310</td><td>NA</td><td>NA</td><td>NA</td></tr>\n",
       "\t<tr><td>16</td><td>6.927789e-310</td><td>4.686295e-310</td><td>6.927878e-310</td><td>NA</td><td>NA</td><td>NA</td></tr>\n",
       "\t<tr><td>17</td><td>6.927891e-310</td><td>6.927893e-310</td><td>6.927789e-310</td><td>NA</td><td>NA</td><td>NA</td></tr>\n",
       "\t<tr><td>18</td><td>4.686295e-310</td><td>6.927893e-310</td><td>6.927891e-310</td><td>NA</td><td>NA</td><td>NA</td></tr>\n",
       "\t<tr><td>19</td><td>6.927865e-310</td><td>6.927891e-310</td><td>6.927810e-310</td><td>NA</td><td>NA</td><td>NA</td></tr>\n",
       "\t<tr><td>20</td><td>6.927893e-310</td><td>6.927891e-310</td><td>6.927878e-310</td><td>NA</td><td>NA</td><td>NA</td></tr>\n",
       "\t<tr><td>21</td><td>6.927789e-310</td><td>6.927891e-310</td><td>6.927893e-310</td><td>NA</td><td>NA</td><td>NA</td></tr>\n",
       "\t<tr><td>22</td><td>6.927786e-310</td><td>6.927786e-310</td><td>6.927893e-310</td><td>NA</td><td>NA</td><td>NA</td></tr>\n",
       "\t<tr><td>23</td><td>6.927789e-310</td><td>6.927786e-310</td><td>6.927786e-310</td><td>NA</td><td>NA</td><td>NA</td></tr>\n",
       "\t<tr><td>24</td><td>6.927878e-310</td><td>6.927810e-310</td><td>6.927865e-310</td><td>NA</td><td>NA</td><td>NA</td></tr>\n",
       "\t<tr><td>25</td><td>6.927809e-310</td><td>6.927893e-310</td><td>6.927891e-310</td><td>NA</td><td>NA</td><td>NA</td></tr>\n",
       "\t<tr><td>26</td><td>6.927786e-310</td><td>6.927865e-310</td><td>6.927891e-310</td><td>NA</td><td>NA</td><td>NA</td></tr>\n",
       "\t<tr><td>27</td><td>6.927893e-310</td><td>6.927891e-310</td><td>4.686295e-310</td><td>NA</td><td>NA</td><td>NA</td></tr>\n",
       "\t<tr><td>28</td><td>6.927893e-310</td><td>6.927867e-310</td><td>6.927809e-310</td><td>NA</td><td>NA</td><td>NA</td></tr>\n",
       "\t<tr><td>29</td><td>4.686295e-310</td><td>4.686295e-310</td><td>6.927809e-310</td><td>NA</td><td>NA</td><td>NA</td></tr>\n",
       "\t<tr><td>⋮</td><td>⋮</td><td>⋮</td><td>⋮</td><td>⋮</td><td>⋮</td><td>⋮</td></tr>\n",
       "\t<tr><td>51</td><td>NA</td><td>NA</td><td>NA</td><td>1.178966e+00</td><td> 1.8747138</td><td> 1.2675258</td></tr>\n",
       "\t<tr><td>43</td><td>NA</td><td>NA</td><td>NA</td><td>1.251757e+00</td><td> 1.8544399</td><td> 1.3099760</td></tr>\n",
       "\t<tr><td> 4</td><td>NA</td><td>NA</td><td>NA</td><td>          NA</td><td>        NA</td><td>        NA</td></tr>\n",
       "\t<tr><td>25</td><td>NA</td><td>NA</td><td>NA</td><td>2.623409e-06</td><td> 2.1496816</td><td> 2.1496809</td></tr>\n",
       "\t<tr><td>17</td><td>NA</td><td>NA</td><td>NA</td><td>3.458606e+00</td><td> 1.0542870</td><td> 0.4488094</td></tr>\n",
       "\t<tr><td>42</td><td>NA</td><td>NA</td><td>NA</td><td>1.196571e+00</td><td> 1.8768548</td><td> 1.3681990</td></tr>\n",
       "\t<tr><td> 4</td><td>NA</td><td>NA</td><td>NA</td><td>          NA</td><td>        NA</td><td>        NA</td></tr>\n",
       "\t<tr><td>12</td><td>NA</td><td>NA</td><td>NA</td><td>4.023701e+00</td><td> 0.9249103</td><td> 0.4220117</td></tr>\n",
       "\t<tr><td>22</td><td>NA</td><td>NA</td><td>NA</td><td>2.929928e+00</td><td> 1.2533988</td><td> 0.5940017</td></tr>\n",
       "\t<tr><td>34</td><td>NA</td><td>NA</td><td>NA</td><td>1.337962e+00</td><td> 1.7854291</td><td> 1.3237343</td></tr>\n",
       "\t<tr><td> 4</td><td>NA</td><td>NA</td><td>NA</td><td>          NA</td><td>        NA</td><td>        NA</td></tr>\n",
       "\t<tr><td>10</td><td>NA</td><td>NA</td><td>NA</td><td>1.548381e-04</td><td> 2.1724536</td><td> 2.1724377</td></tr>\n",
       "\t<tr><td>26</td><td>NA</td><td>NA</td><td>NA</td><td>2.668798e+00</td><td> 1.3854749</td><td> 0.6781408</td></tr>\n",
       "\t<tr><td>37</td><td>NA</td><td>NA</td><td>NA</td><td>1.243356e+00</td><td> 1.9249691</td><td> 1.4586163</td></tr>\n",
       "\t<tr><td>99</td><td>NA</td><td>NA</td><td>NA</td><td>8.162300e+00</td><td>36.3290176</td><td>28.2072468</td></tr>\n",
       "\t<tr><td>17</td><td>NA</td><td>NA</td><td>NA</td><td>9.497769e-01</td><td> 1.7767547</td><td> 1.6105224</td></tr>\n",
       "\t<tr><td>17</td><td>NA</td><td>NA</td><td>NA</td><td>3.309392e+00</td><td> 1.3130734</td><td> 0.7339083</td></tr>\n",
       "\t<tr><td>23</td><td>NA</td><td>NA</td><td>NA</td><td>1.269050e+00</td><td> 1.9264309</td><td> 1.6281507</td></tr>\n",
       "\t<tr><td> 4</td><td>NA</td><td>NA</td><td>NA</td><td>          NA</td><td>        NA</td><td>        NA</td></tr>\n",
       "\t<tr><td>20</td><td>NA</td><td>NA</td><td>NA</td><td>2.873615e+00</td><td> 1.3100079</td><td> 0.7208968</td></tr>\n",
       "\t<tr><td>26</td><td>NA</td><td>NA</td><td>NA</td><td>2.465653e+00</td><td> 1.3780290</td><td> 0.7246066</td></tr>\n",
       "\t<tr><td>30</td><td>NA</td><td>NA</td><td>NA</td><td>8.894681e-01</td><td> 1.9708947</td><td> 1.6996958</td></tr>\n",
       "\t<tr><td> 4</td><td>NA</td><td>NA</td><td>NA</td><td>          NA</td><td>        NA</td><td>        NA</td></tr>\n",
       "\t<tr><td>20</td><td>NA</td><td>NA</td><td>NA</td><td>2.947020e+00</td><td> 1.3317485</td><td> 0.7274728</td></tr>\n",
       "\t<tr><td>19</td><td>NA</td><td>NA</td><td>NA</td><td>2.236904e+00</td><td> 1.5941585</td><td> 1.1580439</td></tr>\n",
       "\t<tr><td>32</td><td>NA</td><td>NA</td><td>NA</td><td>7.619884e-01</td><td> 2.0085583</td><td> 1.7608703</td></tr>\n",
       "\t<tr><td> 4</td><td>NA</td><td>NA</td><td>NA</td><td>          NA</td><td>        NA</td><td>        NA</td></tr>\n",
       "\t<tr><td>31</td><td>NA</td><td>NA</td><td>NA</td><td>3.492832e-07</td><td> 2.1519971</td><td> 2.1519971</td></tr>\n",
       "\t<tr><td>16</td><td>NA</td><td>NA</td><td>NA</td><td>3.566823e+00</td><td> 1.3440270</td><td> 0.7554749</td></tr>\n",
       "\t<tr><td>34</td><td>NA</td><td>NA</td><td>NA</td><td>8.026733e-01</td><td> 1.9993799</td><td> 1.7224196</td></tr>\n",
       "</tbody>\n",
       "</table>\n"
      ],
      "text/latex": [
       "A data.frame: 192 × 7\n",
       "\\begin{tabular}{lllllll}\n",
       " X & X0 & X1 & X2 & kl\\_loss & loss & reconstruction\\_loss\\\\\n",
       " <int> & <dbl> & <dbl> & <dbl> & <dbl> & <dbl> & <dbl>\\\\\n",
       "\\hline\n",
       "\t  0 & 4.686300e-310 & 4.686295e-310 & 4.686295e-310 & NA & NA & NA\\\\\n",
       "\t  1 & 4.686295e-310 & 4.686295e-310 & 4.686295e-310 & NA & NA & NA\\\\\n",
       "\t  2 & 4.686295e-310 & 6.927893e-310 & 6.927786e-310 & NA & NA & NA\\\\\n",
       "\t  3 & 6.927786e-310 & 6.927786e-310 & 6.927786e-310 & NA & NA & NA\\\\\n",
       "\t  4 & 6.927810e-310 & 6.927786e-310 & 6.927786e-310 & NA & NA & NA\\\\\n",
       "\t  5 & 6.927786e-310 & 6.927786e-310 & 6.927891e-310 & NA & NA & NA\\\\\n",
       "\t  6 & 6.927891e-310 & 6.927891e-310 & 4.686295e-310 & NA & NA & NA\\\\\n",
       "\t  7 & 4.686295e-310 & 4.686295e-310 & 4.686295e-310 & NA & NA & NA\\\\\n",
       "\t  8 & 6.927887e-310 & 6.927892e-310 & 6.927891e-310 & NA & NA & NA\\\\\n",
       "\t  9 & 6.927891e-310 & 6.927878e-310 & 6.927887e-310 & NA & NA & NA\\\\\n",
       "\t 10 & 6.927891e-310 & 6.927893e-310 & 6.927872e-310 & NA & NA & NA\\\\\n",
       "\t 11 & 6.927810e-310 & 6.927786e-310 & 6.927789e-310 & NA & NA & NA\\\\\n",
       "\t 12 & 6.927867e-310 & 6.927865e-310 & 6.927786e-310 & NA & NA & NA\\\\\n",
       "\t 13 & 6.927892e-310 & 6.927893e-310 & 6.927878e-310 & NA & NA & NA\\\\\n",
       "\t 14 & 6.927789e-310 & 6.927786e-310 & 6.927878e-310 & NA & NA & NA\\\\\n",
       "\t 15 & 6.927891e-310 & 6.927891e-310 & 6.927893e-310 & NA & NA & NA\\\\\n",
       "\t 16 & 6.927789e-310 & 4.686295e-310 & 6.927878e-310 & NA & NA & NA\\\\\n",
       "\t 17 & 6.927891e-310 & 6.927893e-310 & 6.927789e-310 & NA & NA & NA\\\\\n",
       "\t 18 & 4.686295e-310 & 6.927893e-310 & 6.927891e-310 & NA & NA & NA\\\\\n",
       "\t 19 & 6.927865e-310 & 6.927891e-310 & 6.927810e-310 & NA & NA & NA\\\\\n",
       "\t 20 & 6.927893e-310 & 6.927891e-310 & 6.927878e-310 & NA & NA & NA\\\\\n",
       "\t 21 & 6.927789e-310 & 6.927891e-310 & 6.927893e-310 & NA & NA & NA\\\\\n",
       "\t 22 & 6.927786e-310 & 6.927786e-310 & 6.927893e-310 & NA & NA & NA\\\\\n",
       "\t 23 & 6.927789e-310 & 6.927786e-310 & 6.927786e-310 & NA & NA & NA\\\\\n",
       "\t 24 & 6.927878e-310 & 6.927810e-310 & 6.927865e-310 & NA & NA & NA\\\\\n",
       "\t 25 & 6.927809e-310 & 6.927893e-310 & 6.927891e-310 & NA & NA & NA\\\\\n",
       "\t 26 & 6.927786e-310 & 6.927865e-310 & 6.927891e-310 & NA & NA & NA\\\\\n",
       "\t 27 & 6.927893e-310 & 6.927891e-310 & 4.686295e-310 & NA & NA & NA\\\\\n",
       "\t 28 & 6.927893e-310 & 6.927867e-310 & 6.927809e-310 & NA & NA & NA\\\\\n",
       "\t 29 & 4.686295e-310 & 4.686295e-310 & 6.927809e-310 & NA & NA & NA\\\\\n",
       "\t ⋮ & ⋮ & ⋮ & ⋮ & ⋮ & ⋮ & ⋮\\\\\n",
       "\t 51 & NA & NA & NA & 1.178966e+00 &  1.8747138 &  1.2675258\\\\\n",
       "\t 43 & NA & NA & NA & 1.251757e+00 &  1.8544399 &  1.3099760\\\\\n",
       "\t  4 & NA & NA & NA &           NA &         NA &         NA\\\\\n",
       "\t 25 & NA & NA & NA & 2.623409e-06 &  2.1496816 &  2.1496809\\\\\n",
       "\t 17 & NA & NA & NA & 3.458606e+00 &  1.0542870 &  0.4488094\\\\\n",
       "\t 42 & NA & NA & NA & 1.196571e+00 &  1.8768548 &  1.3681990\\\\\n",
       "\t  4 & NA & NA & NA &           NA &         NA &         NA\\\\\n",
       "\t 12 & NA & NA & NA & 4.023701e+00 &  0.9249103 &  0.4220117\\\\\n",
       "\t 22 & NA & NA & NA & 2.929928e+00 &  1.2533988 &  0.5940017\\\\\n",
       "\t 34 & NA & NA & NA & 1.337962e+00 &  1.7854291 &  1.3237343\\\\\n",
       "\t  4 & NA & NA & NA &           NA &         NA &         NA\\\\\n",
       "\t 10 & NA & NA & NA & 1.548381e-04 &  2.1724536 &  2.1724377\\\\\n",
       "\t 26 & NA & NA & NA & 2.668798e+00 &  1.3854749 &  0.6781408\\\\\n",
       "\t 37 & NA & NA & NA & 1.243356e+00 &  1.9249691 &  1.4586163\\\\\n",
       "\t 99 & NA & NA & NA & 8.162300e+00 & 36.3290176 & 28.2072468\\\\\n",
       "\t 17 & NA & NA & NA & 9.497769e-01 &  1.7767547 &  1.6105224\\\\\n",
       "\t 17 & NA & NA & NA & 3.309392e+00 &  1.3130734 &  0.7339083\\\\\n",
       "\t 23 & NA & NA & NA & 1.269050e+00 &  1.9264309 &  1.6281507\\\\\n",
       "\t  4 & NA & NA & NA &           NA &         NA &         NA\\\\\n",
       "\t 20 & NA & NA & NA & 2.873615e+00 &  1.3100079 &  0.7208968\\\\\n",
       "\t 26 & NA & NA & NA & 2.465653e+00 &  1.3780290 &  0.7246066\\\\\n",
       "\t 30 & NA & NA & NA & 8.894681e-01 &  1.9708947 &  1.6996958\\\\\n",
       "\t  4 & NA & NA & NA &           NA &         NA &         NA\\\\\n",
       "\t 20 & NA & NA & NA & 2.947020e+00 &  1.3317485 &  0.7274728\\\\\n",
       "\t 19 & NA & NA & NA & 2.236904e+00 &  1.5941585 &  1.1580439\\\\\n",
       "\t 32 & NA & NA & NA & 7.619884e-01 &  2.0085583 &  1.7608703\\\\\n",
       "\t  4 & NA & NA & NA &           NA &         NA &         NA\\\\\n",
       "\t 31 & NA & NA & NA & 3.492832e-07 &  2.1519971 &  2.1519971\\\\\n",
       "\t 16 & NA & NA & NA & 3.566823e+00 &  1.3440270 &  0.7554749\\\\\n",
       "\t 34 & NA & NA & NA & 8.026733e-01 &  1.9993799 &  1.7224196\\\\\n",
       "\\end{tabular}\n"
      ],
      "text/markdown": [
       "\n",
       "A data.frame: 192 × 7\n",
       "\n",
       "| X &lt;int&gt; | X0 &lt;dbl&gt; | X1 &lt;dbl&gt; | X2 &lt;dbl&gt; | kl_loss &lt;dbl&gt; | loss &lt;dbl&gt; | reconstruction_loss &lt;dbl&gt; |\n",
       "|---|---|---|---|---|---|---|\n",
       "|  0 | 4.686300e-310 | 4.686295e-310 | 4.686295e-310 | NA | NA | NA |\n",
       "|  1 | 4.686295e-310 | 4.686295e-310 | 4.686295e-310 | NA | NA | NA |\n",
       "|  2 | 4.686295e-310 | 6.927893e-310 | 6.927786e-310 | NA | NA | NA |\n",
       "|  3 | 6.927786e-310 | 6.927786e-310 | 6.927786e-310 | NA | NA | NA |\n",
       "|  4 | 6.927810e-310 | 6.927786e-310 | 6.927786e-310 | NA | NA | NA |\n",
       "|  5 | 6.927786e-310 | 6.927786e-310 | 6.927891e-310 | NA | NA | NA |\n",
       "|  6 | 6.927891e-310 | 6.927891e-310 | 4.686295e-310 | NA | NA | NA |\n",
       "|  7 | 4.686295e-310 | 4.686295e-310 | 4.686295e-310 | NA | NA | NA |\n",
       "|  8 | 6.927887e-310 | 6.927892e-310 | 6.927891e-310 | NA | NA | NA |\n",
       "|  9 | 6.927891e-310 | 6.927878e-310 | 6.927887e-310 | NA | NA | NA |\n",
       "| 10 | 6.927891e-310 | 6.927893e-310 | 6.927872e-310 | NA | NA | NA |\n",
       "| 11 | 6.927810e-310 | 6.927786e-310 | 6.927789e-310 | NA | NA | NA |\n",
       "| 12 | 6.927867e-310 | 6.927865e-310 | 6.927786e-310 | NA | NA | NA |\n",
       "| 13 | 6.927892e-310 | 6.927893e-310 | 6.927878e-310 | NA | NA | NA |\n",
       "| 14 | 6.927789e-310 | 6.927786e-310 | 6.927878e-310 | NA | NA | NA |\n",
       "| 15 | 6.927891e-310 | 6.927891e-310 | 6.927893e-310 | NA | NA | NA |\n",
       "| 16 | 6.927789e-310 | 4.686295e-310 | 6.927878e-310 | NA | NA | NA |\n",
       "| 17 | 6.927891e-310 | 6.927893e-310 | 6.927789e-310 | NA | NA | NA |\n",
       "| 18 | 4.686295e-310 | 6.927893e-310 | 6.927891e-310 | NA | NA | NA |\n",
       "| 19 | 6.927865e-310 | 6.927891e-310 | 6.927810e-310 | NA | NA | NA |\n",
       "| 20 | 6.927893e-310 | 6.927891e-310 | 6.927878e-310 | NA | NA | NA |\n",
       "| 21 | 6.927789e-310 | 6.927891e-310 | 6.927893e-310 | NA | NA | NA |\n",
       "| 22 | 6.927786e-310 | 6.927786e-310 | 6.927893e-310 | NA | NA | NA |\n",
       "| 23 | 6.927789e-310 | 6.927786e-310 | 6.927786e-310 | NA | NA | NA |\n",
       "| 24 | 6.927878e-310 | 6.927810e-310 | 6.927865e-310 | NA | NA | NA |\n",
       "| 25 | 6.927809e-310 | 6.927893e-310 | 6.927891e-310 | NA | NA | NA |\n",
       "| 26 | 6.927786e-310 | 6.927865e-310 | 6.927891e-310 | NA | NA | NA |\n",
       "| 27 | 6.927893e-310 | 6.927891e-310 | 4.686295e-310 | NA | NA | NA |\n",
       "| 28 | 6.927893e-310 | 6.927867e-310 | 6.927809e-310 | NA | NA | NA |\n",
       "| 29 | 4.686295e-310 | 4.686295e-310 | 6.927809e-310 | NA | NA | NA |\n",
       "| ⋮ | ⋮ | ⋮ | ⋮ | ⋮ | ⋮ | ⋮ |\n",
       "| 51 | NA | NA | NA | 1.178966e+00 |  1.8747138 |  1.2675258 |\n",
       "| 43 | NA | NA | NA | 1.251757e+00 |  1.8544399 |  1.3099760 |\n",
       "|  4 | NA | NA | NA |           NA |         NA |         NA |\n",
       "| 25 | NA | NA | NA | 2.623409e-06 |  2.1496816 |  2.1496809 |\n",
       "| 17 | NA | NA | NA | 3.458606e+00 |  1.0542870 |  0.4488094 |\n",
       "| 42 | NA | NA | NA | 1.196571e+00 |  1.8768548 |  1.3681990 |\n",
       "|  4 | NA | NA | NA |           NA |         NA |         NA |\n",
       "| 12 | NA | NA | NA | 4.023701e+00 |  0.9249103 |  0.4220117 |\n",
       "| 22 | NA | NA | NA | 2.929928e+00 |  1.2533988 |  0.5940017 |\n",
       "| 34 | NA | NA | NA | 1.337962e+00 |  1.7854291 |  1.3237343 |\n",
       "|  4 | NA | NA | NA |           NA |         NA |         NA |\n",
       "| 10 | NA | NA | NA | 1.548381e-04 |  2.1724536 |  2.1724377 |\n",
       "| 26 | NA | NA | NA | 2.668798e+00 |  1.3854749 |  0.6781408 |\n",
       "| 37 | NA | NA | NA | 1.243356e+00 |  1.9249691 |  1.4586163 |\n",
       "| 99 | NA | NA | NA | 8.162300e+00 | 36.3290176 | 28.2072468 |\n",
       "| 17 | NA | NA | NA | 9.497769e-01 |  1.7767547 |  1.6105224 |\n",
       "| 17 | NA | NA | NA | 3.309392e+00 |  1.3130734 |  0.7339083 |\n",
       "| 23 | NA | NA | NA | 1.269050e+00 |  1.9264309 |  1.6281507 |\n",
       "|  4 | NA | NA | NA |           NA |         NA |         NA |\n",
       "| 20 | NA | NA | NA | 2.873615e+00 |  1.3100079 |  0.7208968 |\n",
       "| 26 | NA | NA | NA | 2.465653e+00 |  1.3780290 |  0.7246066 |\n",
       "| 30 | NA | NA | NA | 8.894681e-01 |  1.9708947 |  1.6996958 |\n",
       "|  4 | NA | NA | NA |           NA |         NA |         NA |\n",
       "| 20 | NA | NA | NA | 2.947020e+00 |  1.3317485 |  0.7274728 |\n",
       "| 19 | NA | NA | NA | 2.236904e+00 |  1.5941585 |  1.1580439 |\n",
       "| 32 | NA | NA | NA | 7.619884e-01 |  2.0085583 |  1.7608703 |\n",
       "|  4 | NA | NA | NA |           NA |         NA |         NA |\n",
       "| 31 | NA | NA | NA | 3.492832e-07 |  2.1519971 |  2.1519971 |\n",
       "| 16 | NA | NA | NA | 3.566823e+00 |  1.3440270 |  0.7554749 |\n",
       "| 34 | NA | NA | NA | 8.026733e-01 |  1.9993799 |  1.7224196 |\n",
       "\n"
      ],
      "text/plain": [
       "    X  X0            X1            X2            kl_loss      loss      \n",
       "1    0 4.686300e-310 4.686295e-310 4.686295e-310 NA           NA        \n",
       "2    1 4.686295e-310 4.686295e-310 4.686295e-310 NA           NA        \n",
       "3    2 4.686295e-310 6.927893e-310 6.927786e-310 NA           NA        \n",
       "4    3 6.927786e-310 6.927786e-310 6.927786e-310 NA           NA        \n",
       "5    4 6.927810e-310 6.927786e-310 6.927786e-310 NA           NA        \n",
       "6    5 6.927786e-310 6.927786e-310 6.927891e-310 NA           NA        \n",
       "7    6 6.927891e-310 6.927891e-310 4.686295e-310 NA           NA        \n",
       "8    7 4.686295e-310 4.686295e-310 4.686295e-310 NA           NA        \n",
       "9    8 6.927887e-310 6.927892e-310 6.927891e-310 NA           NA        \n",
       "10   9 6.927891e-310 6.927878e-310 6.927887e-310 NA           NA        \n",
       "11  10 6.927891e-310 6.927893e-310 6.927872e-310 NA           NA        \n",
       "12  11 6.927810e-310 6.927786e-310 6.927789e-310 NA           NA        \n",
       "13  12 6.927867e-310 6.927865e-310 6.927786e-310 NA           NA        \n",
       "14  13 6.927892e-310 6.927893e-310 6.927878e-310 NA           NA        \n",
       "15  14 6.927789e-310 6.927786e-310 6.927878e-310 NA           NA        \n",
       "16  15 6.927891e-310 6.927891e-310 6.927893e-310 NA           NA        \n",
       "17  16 6.927789e-310 4.686295e-310 6.927878e-310 NA           NA        \n",
       "18  17 6.927891e-310 6.927893e-310 6.927789e-310 NA           NA        \n",
       "19  18 4.686295e-310 6.927893e-310 6.927891e-310 NA           NA        \n",
       "20  19 6.927865e-310 6.927891e-310 6.927810e-310 NA           NA        \n",
       "21  20 6.927893e-310 6.927891e-310 6.927878e-310 NA           NA        \n",
       "22  21 6.927789e-310 6.927891e-310 6.927893e-310 NA           NA        \n",
       "23  22 6.927786e-310 6.927786e-310 6.927893e-310 NA           NA        \n",
       "24  23 6.927789e-310 6.927786e-310 6.927786e-310 NA           NA        \n",
       "25  24 6.927878e-310 6.927810e-310 6.927865e-310 NA           NA        \n",
       "26  25 6.927809e-310 6.927893e-310 6.927891e-310 NA           NA        \n",
       "27  26 6.927786e-310 6.927865e-310 6.927891e-310 NA           NA        \n",
       "28  27 6.927893e-310 6.927891e-310 4.686295e-310 NA           NA        \n",
       "29  28 6.927893e-310 6.927867e-310 6.927809e-310 NA           NA        \n",
       "30  29 4.686295e-310 4.686295e-310 6.927809e-310 NA           NA        \n",
       "⋮   ⋮  ⋮             ⋮             ⋮             ⋮            ⋮         \n",
       "163 51 NA            NA            NA            1.178966e+00  1.8747138\n",
       "164 43 NA            NA            NA            1.251757e+00  1.8544399\n",
       "165  4 NA            NA            NA                      NA         NA\n",
       "166 25 NA            NA            NA            2.623409e-06  2.1496816\n",
       "167 17 NA            NA            NA            3.458606e+00  1.0542870\n",
       "168 42 NA            NA            NA            1.196571e+00  1.8768548\n",
       "169  4 NA            NA            NA                      NA         NA\n",
       "170 12 NA            NA            NA            4.023701e+00  0.9249103\n",
       "171 22 NA            NA            NA            2.929928e+00  1.2533988\n",
       "172 34 NA            NA            NA            1.337962e+00  1.7854291\n",
       "173  4 NA            NA            NA                      NA         NA\n",
       "174 10 NA            NA            NA            1.548381e-04  2.1724536\n",
       "175 26 NA            NA            NA            2.668798e+00  1.3854749\n",
       "176 37 NA            NA            NA            1.243356e+00  1.9249691\n",
       "177 99 NA            NA            NA            8.162300e+00 36.3290176\n",
       "178 17 NA            NA            NA            9.497769e-01  1.7767547\n",
       "179 17 NA            NA            NA            3.309392e+00  1.3130734\n",
       "180 23 NA            NA            NA            1.269050e+00  1.9264309\n",
       "181  4 NA            NA            NA                      NA         NA\n",
       "182 20 NA            NA            NA            2.873615e+00  1.3100079\n",
       "183 26 NA            NA            NA            2.465653e+00  1.3780290\n",
       "184 30 NA            NA            NA            8.894681e-01  1.9708947\n",
       "185  4 NA            NA            NA                      NA         NA\n",
       "186 20 NA            NA            NA            2.947020e+00  1.3317485\n",
       "187 19 NA            NA            NA            2.236904e+00  1.5941585\n",
       "188 32 NA            NA            NA            7.619884e-01  2.0085583\n",
       "189  4 NA            NA            NA                      NA         NA\n",
       "190 31 NA            NA            NA            3.492832e-07  2.1519971\n",
       "191 16 NA            NA            NA            3.566823e+00  1.3440270\n",
       "192 34 NA            NA            NA            8.026733e-01  1.9993799\n",
       "    reconstruction_loss\n",
       "1   NA                 \n",
       "2   NA                 \n",
       "3   NA                 \n",
       "4   NA                 \n",
       "5   NA                 \n",
       "6   NA                 \n",
       "7   NA                 \n",
       "8   NA                 \n",
       "9   NA                 \n",
       "10  NA                 \n",
       "11  NA                 \n",
       "12  NA                 \n",
       "13  NA                 \n",
       "14  NA                 \n",
       "15  NA                 \n",
       "16  NA                 \n",
       "17  NA                 \n",
       "18  NA                 \n",
       "19  NA                 \n",
       "20  NA                 \n",
       "21  NA                 \n",
       "22  NA                 \n",
       "23  NA                 \n",
       "24  NA                 \n",
       "25  NA                 \n",
       "26  NA                 \n",
       "27  NA                 \n",
       "28  NA                 \n",
       "29  NA                 \n",
       "30  NA                 \n",
       "⋮   ⋮                  \n",
       "163  1.2675258         \n",
       "164  1.3099760         \n",
       "165         NA         \n",
       "166  2.1496809         \n",
       "167  0.4488094         \n",
       "168  1.3681990         \n",
       "169         NA         \n",
       "170  0.4220117         \n",
       "171  0.5940017         \n",
       "172  1.3237343         \n",
       "173         NA         \n",
       "174  2.1724377         \n",
       "175  0.6781408         \n",
       "176  1.4586163         \n",
       "177 28.2072468         \n",
       "178  1.6105224         \n",
       "179  0.7339083         \n",
       "180  1.6281507         \n",
       "181         NA         \n",
       "182  0.7208968         \n",
       "183  0.7246066         \n",
       "184  1.6996958         \n",
       "185         NA         \n",
       "186  0.7274728         \n",
       "187  1.1580439         \n",
       "188  1.7608703         \n",
       "189         NA         \n",
       "190  2.1519971         \n",
       "191  0.7554749         \n",
       "192  1.7224196         "
      ]
     },
     "metadata": {},
     "output_type": "display_data"
    }
   ],
   "source": []
  },
  {
   "cell_type": "code",
   "execution_count": null,
   "id": "26c1f703",
   "metadata": {},
   "outputs": [],
   "source": []
  }
 ],
 "metadata": {
  "kernelspec": {
   "display_name": "R",
   "language": "R",
   "name": "ir"
  },
  "language_info": {
   "codemirror_mode": "r",
   "file_extension": ".r",
   "mimetype": "text/x-r-source",
   "name": "R",
   "pygments_lexer": "r",
   "version": "4.1.0"
  }
 },
 "nbformat": 4,
 "nbformat_minor": 5
}
