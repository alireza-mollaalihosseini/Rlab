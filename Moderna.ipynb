{
 "cells": [
  {
   "cell_type": "code",
   "execution_count": 1,
   "id": "2496e3a5",
   "metadata": {},
   "outputs": [
    {
     "name": "stderr",
     "output_type": "stream",
     "text": [
      "Loading required package: StanHeaders\n",
      "\n",
      "Loading required package: ggplot2\n",
      "\n",
      "rstan (Version 2.21.2, GitRev: 2e1f913d3ca3)\n",
      "\n",
      "For execution on a local, multicore CPU with excess RAM we recommend calling\n",
      "options(mc.cores = parallel::detectCores()).\n",
      "To avoid recompilation of unchanged Stan programs, we recommend calling\n",
      "rstan_options(auto_write = TRUE)\n",
      "\n"
     ]
    }
   ],
   "source": [
    "library(rstan)"
   ]
  },
  {
   "cell_type": "code",
   "execution_count": 2,
   "id": "68a1f68e",
   "metadata": {},
   "outputs": [
    {
     "data": {
      "text/plain": [
       "         \n",
       "            Neg   Pos\n",
       "  Placebo 13888   185\n",
       "  Vaccine 14123    11"
      ]
     },
     "metadata": {},
     "output_type": "display_data"
    }
   ],
   "source": [
    "tot_vaccine <- 14134\n",
    "tot_placebo <- 14073\n",
    "patient <- c(rep(\"Vaccine\", tot_vaccine),\n",
    "             rep(\"Placebo\", tot_placebo))\n",
    "# Number of patients tested postive after RCT:\n",
    "pos_vaccine <- 11\n",
    "pos_placebo <- 185\n",
    "tested   <- c(rep(\"Pos\", pos_vaccine),\n",
    "              rep(\"Neg\", tot_vaccine - pos_vaccine),\n",
    "              rep(\"Pos\", pos_placebo),\n",
    "              rep(\"Neg\", tot_placebo - pos_placebo))\n",
    "moderna.tb <- tibble::tibble(tested = tested, patient=patient)\n",
    "table(moderna.tb[[2]], moderna.tb[[1]])"
   ]
  },
  {
   "cell_type": "code",
   "execution_count": 3,
   "id": "746f4d2f",
   "metadata": {},
   "outputs": [],
   "source": [
    "dataList = list(\n",
    "    tested = ifelse(moderna.tb$tested == \"Neg\", 0, 1),\n",
    "    patient = as.integer(factor(moderna.tb$patient)),\n",
    "    Ntot = nrow(moderna.tb) ,\n",
    "    Nclass = nlevels(factor(moderna.tb$patient))\n",
    ")"
   ]
  },
  {
   "cell_type": "code",
   "execution_count": 4,
   "id": "89a9bed9",
   "metadata": {},
   "outputs": [],
   "source": [
    "modelString = \"\n",
    "  data {\n",
    "    int<lower=0> Ntot;\n",
    "    int tested[Ntot];\n",
    "  }\n",
    "  parameters {\n",
    "    real<lower=0,upper=1> theta;\n",
    "  }\n",
    "  model {\n",
    "    theta ~ beta(3,100);\n",
    "    tested ~ bernoulli(theta);\n",
    "  }\"\n",
    "writeLines(modelString , con=\"stan_moderna_model.txt\")"
   ]
  },
  {
   "cell_type": "code",
   "execution_count": 5,
   "id": "a3be68eb",
   "metadata": {},
   "outputs": [],
   "source": [
    "stanDso <- stan_model(model_code = modelString)"
   ]
  },
  {
   "cell_type": "code",
   "execution_count": 6,
   "id": "3890ec66",
   "metadata": {},
   "outputs": [
    {
     "name": "stdout",
     "output_type": "stream",
     "text": [
      "\n",
      "SAMPLING FOR MODEL 'cf7c1ba378e7c8a192065ca4c899770d' NOW (CHAIN 1).\n",
      "Chain 1: \n",
      "Chain 1: Gradient evaluation took 7.4e-05 seconds\n",
      "Chain 1: 1000 transitions using 10 leapfrog steps per transition would take 0.74 seconds.\n",
      "Chain 1: Adjust your expectations accordingly!\n",
      "Chain 1: \n",
      "Chain 1: \n",
      "Chain 1: Iteration:   1 / 1000 [  0%]  (Warmup)\n",
      "Chain 1: Iteration: 100 / 1000 [ 10%]  (Warmup)\n",
      "Chain 1: Iteration: 200 / 1000 [ 20%]  (Warmup)\n",
      "Chain 1: Iteration: 201 / 1000 [ 20%]  (Sampling)\n",
      "Chain 1: Iteration: 300 / 1000 [ 30%]  (Sampling)\n",
      "Chain 1: Iteration: 400 / 1000 [ 40%]  (Sampling)\n",
      "Chain 1: Iteration: 500 / 1000 [ 50%]  (Sampling)\n",
      "Chain 1: Iteration: 600 / 1000 [ 60%]  (Sampling)\n",
      "Chain 1: Iteration: 700 / 1000 [ 70%]  (Sampling)\n",
      "Chain 1: Iteration: 800 / 1000 [ 80%]  (Sampling)\n",
      "Chain 1: Iteration: 900 / 1000 [ 90%]  (Sampling)\n",
      "Chain 1: Iteration: 1000 / 1000 [100%]  (Sampling)\n",
      "Chain 1: \n",
      "Chain 1:  Elapsed Time: 0.055324 seconds (Warm-up)\n",
      "Chain 1:                0.181594 seconds (Sampling)\n",
      "Chain 1:                0.236918 seconds (Total)\n",
      "Chain 1: \n",
      "\n",
      "SAMPLING FOR MODEL 'cf7c1ba378e7c8a192065ca4c899770d' NOW (CHAIN 2).\n",
      "Chain 2: \n",
      "Chain 2: Gradient evaluation took 6.6e-05 seconds\n",
      "Chain 2: 1000 transitions using 10 leapfrog steps per transition would take 0.66 seconds.\n",
      "Chain 2: Adjust your expectations accordingly!\n",
      "Chain 2: \n",
      "Chain 2: \n",
      "Chain 2: Iteration:   1 / 1000 [  0%]  (Warmup)\n",
      "Chain 2: Iteration: 100 / 1000 [ 10%]  (Warmup)\n",
      "Chain 2: Iteration: 200 / 1000 [ 20%]  (Warmup)\n",
      "Chain 2: Iteration: 201 / 1000 [ 20%]  (Sampling)\n",
      "Chain 2: Iteration: 300 / 1000 [ 30%]  (Sampling)\n",
      "Chain 2: Iteration: 400 / 1000 [ 40%]  (Sampling)\n",
      "Chain 2: Iteration: 500 / 1000 [ 50%]  (Sampling)\n",
      "Chain 2: Iteration: 600 / 1000 [ 60%]  (Sampling)\n",
      "Chain 2: Iteration: 700 / 1000 [ 70%]  (Sampling)\n",
      "Chain 2: Iteration: 800 / 1000 [ 80%]  (Sampling)\n",
      "Chain 2: Iteration: 900 / 1000 [ 90%]  (Sampling)\n",
      "Chain 2: Iteration: 1000 / 1000 [100%]  (Sampling)\n",
      "Chain 2: \n",
      "Chain 2:  Elapsed Time: 0.053534 seconds (Warm-up)\n",
      "Chain 2:                0.173139 seconds (Sampling)\n",
      "Chain 2:                0.226673 seconds (Total)\n",
      "Chain 2: \n",
      "\n",
      "SAMPLING FOR MODEL 'cf7c1ba378e7c8a192065ca4c899770d' NOW (CHAIN 3).\n",
      "Chain 3: \n",
      "Chain 3: Gradient evaluation took 6.6e-05 seconds\n",
      "Chain 3: 1000 transitions using 10 leapfrog steps per transition would take 0.66 seconds.\n",
      "Chain 3: Adjust your expectations accordingly!\n",
      "Chain 3: \n",
      "Chain 3: \n",
      "Chain 3: Iteration:   1 / 1000 [  0%]  (Warmup)\n",
      "Chain 3: Iteration: 100 / 1000 [ 10%]  (Warmup)\n",
      "Chain 3: Iteration: 200 / 1000 [ 20%]  (Warmup)\n",
      "Chain 3: Iteration: 201 / 1000 [ 20%]  (Sampling)\n",
      "Chain 3: Iteration: 300 / 1000 [ 30%]  (Sampling)\n",
      "Chain 3: Iteration: 400 / 1000 [ 40%]  (Sampling)\n",
      "Chain 3: Iteration: 500 / 1000 [ 50%]  (Sampling)\n",
      "Chain 3: Iteration: 600 / 1000 [ 60%]  (Sampling)\n",
      "Chain 3: Iteration: 700 / 1000 [ 70%]  (Sampling)\n",
      "Chain 3: Iteration: 800 / 1000 [ 80%]  (Sampling)\n",
      "Chain 3: Iteration: 900 / 1000 [ 90%]  (Sampling)\n",
      "Chain 3: Iteration: 1000 / 1000 [100%]  (Sampling)\n",
      "Chain 3: \n",
      "Chain 3:  Elapsed Time: 0.050462 seconds (Warm-up)\n",
      "Chain 3:                0.177619 seconds (Sampling)\n",
      "Chain 3:                0.228081 seconds (Total)\n",
      "Chain 3: \n",
      "\n",
      "SAMPLING FOR MODEL 'cf7c1ba378e7c8a192065ca4c899770d' NOW (CHAIN 4).\n",
      "Chain 4: \n",
      "Chain 4: Gradient evaluation took 6.6e-05 seconds\n",
      "Chain 4: 1000 transitions using 10 leapfrog steps per transition would take 0.66 seconds.\n",
      "Chain 4: Adjust your expectations accordingly!\n",
      "Chain 4: \n",
      "Chain 4: \n",
      "Chain 4: Iteration:   1 / 1000 [  0%]  (Warmup)\n",
      "Chain 4: Iteration: 100 / 1000 [ 10%]  (Warmup)\n",
      "Chain 4: Iteration: 200 / 1000 [ 20%]  (Warmup)\n",
      "Chain 4: Iteration: 201 / 1000 [ 20%]  (Sampling)\n",
      "Chain 4: Iteration: 300 / 1000 [ 30%]  (Sampling)\n",
      "Chain 4: Iteration: 400 / 1000 [ 40%]  (Sampling)\n",
      "Chain 4: Iteration: 500 / 1000 [ 50%]  (Sampling)\n",
      "Chain 4: Iteration: 600 / 1000 [ 60%]  (Sampling)\n",
      "Chain 4: Iteration: 700 / 1000 [ 70%]  (Sampling)\n",
      "Chain 4: Iteration: 800 / 1000 [ 80%]  (Sampling)\n",
      "Chain 4: Iteration: 900 / 1000 [ 90%]  (Sampling)\n",
      "Chain 4: Iteration: 1000 / 1000 [100%]  (Sampling)\n",
      "Chain 4: \n",
      "Chain 4:  Elapsed Time: 0.05583 seconds (Warm-up)\n",
      "Chain 4:                0.198099 seconds (Sampling)\n",
      "Chain 4:                0.253929 seconds (Total)\n",
      "Chain 4: \n"
     ]
    }
   ],
   "source": [
    "stanFit <- sampling(object=stanDso ,\n",
    "                    data = dataList ,\n",
    "                    chains = 4 ,\n",
    "                    iter = 1000 ,\n",
    "                    warmup = 200 ,\n",
    "                    thin = 1)"
   ]
  },
  {
   "cell_type": "code",
   "execution_count": null,
   "id": "1e58b6ca",
   "metadata": {},
   "outputs": [],
   "source": []
  }
 ],
 "metadata": {
  "kernelspec": {
   "display_name": "R",
   "language": "R",
   "name": "ir"
  },
  "language_info": {
   "codemirror_mode": "r",
   "file_extension": ".r",
   "mimetype": "text/x-r-source",
   "name": "R",
   "pygments_lexer": "r",
   "version": "4.1.0"
  }
 },
 "nbformat": 4,
 "nbformat_minor": 5
}
