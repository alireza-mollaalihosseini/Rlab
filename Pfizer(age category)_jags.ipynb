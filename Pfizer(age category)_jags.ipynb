{
 "cells": [
  {
   "cell_type": "code",
   "execution_count": 1,
   "id": "ed3721fc",
   "metadata": {
    "scrolled": false
   },
   "outputs": [
    {
     "name": "stderr",
     "output_type": "stream",
     "text": [
      "Loading required package: coda\n",
      "\n",
      "Linked to JAGS 4.3.0\n",
      "\n",
      "Loaded modules: basemod,bugs\n",
      "\n",
      "\n",
      "Attaching package: ‘R2jags’\n",
      "\n",
      "\n",
      "The following object is masked from ‘package:coda’:\n",
      "\n",
      "    traceplot\n",
      "\n",
      "\n",
      "\n",
      "Attaching package: ‘dplyr’\n",
      "\n",
      "\n",
      "The following objects are masked from ‘package:stats’:\n",
      "\n",
      "    filter, lag\n",
      "\n",
      "\n",
      "The following objects are masked from ‘package:base’:\n",
      "\n",
      "    intersect, setdiff, setequal, union\n",
      "\n",
      "\n",
      "Loading required package: Rcpp\n",
      "\n",
      "This is rstanarm version 2.21.1\n",
      "\n",
      "- See https://mc-stan.org/rstanarm/articles/priors for changes to default priors!\n",
      "\n",
      "- Default priors may change, so it's safest to specify priors, even if equivalent to the defaults.\n",
      "\n",
      "- For execution on a local, multicore CPU with excess RAM we recommend calling\n",
      "\n",
      "  options(mc.cores = parallel::detectCores())\n",
      "\n"
     ]
    },
    {
     "data": {
      "text/plain": [
       "         \n",
       "            Neg   Pos\n",
       "  Placebo 13475   143\n",
       "  Vaccine 13542     7"
      ]
     },
     "metadata": {},
     "output_type": "display_data"
    },
    {
     "name": "stderr",
     "output_type": "stream",
     "text": [
      "Warning message:\n",
      "“No initial values were provided - JAGS will use the same initial values for all chains”\n",
      "Warning message:\n",
      "“You attempted to start parallel chains without setting different PRNG for each chain, which is not recommended.  Different .RNG.name values have been added to each set of initial values.”\n"
     ]
    },
    {
     "name": "stdout",
     "output_type": "stream",
     "text": [
      "Calling 4 simulations using the parallel method...\n",
      "Following the progress of chain 1 (the program will wait for all chains\n",
      "to finish before continuing):\n",
      "Welcome to JAGS 4.3.0 on Wed Jun 23 13:10:07 2021\n",
      "JAGS is free software and comes with ABSOLUTELY NO WARRANTY\n",
      "Loading module: basemod: ok\n",
      "Loading module: bugs: ok\n",
      ". . Reading data file data.txt\n",
      ". Compiling model graph\n",
      "   Resolving undeclared variables\n",
      "   Allocating nodes\n",
      "Graph information:\n",
      "   Observed stochastic nodes: 27167\n",
      "   Unobserved stochastic nodes: 2\n",
      "   Total graph size: 54343\n",
      ". Reading parameter file inits1.txt\n",
      ". Initializing model\n",
      ". Adaptation skipped: model is not in adaptive mode.\n",
      ". Updating 4000\n",
      "-------------------------------------------------| 4000\n",
      "************************************************** 100%\n",
      ". . Updating 20000\n",
      "-------------------------------------------------| 20000\n",
      "************************************************** 100%\n",
      ". . . . Updating 0\n",
      ". Deleting model\n",
      "All chains have finished\n",
      "Note: the model did not require adaptation\n",
      "Simulation complete.  Reading coda files...\n",
      "Coda files loaded successfully\n",
      "Calculating summary statistics...\n",
      "Calculating the Gelman-Rubin statistic for 3 variables....\n",
      "Finished running the simulation\n"
     ]
    },
    {
     "data": {
      "text/html": [
       "<table class=\"dataframe\">\n",
       "<caption>A matrix: 3 × 11 of type dbl</caption>\n",
       "<thead>\n",
       "\t<tr><th></th><th scope=col>Lower95</th><th scope=col>Median</th><th scope=col>Upper95</th><th scope=col>Mean</th><th scope=col>SD</th><th scope=col>Mode</th><th scope=col>MCerr</th><th scope=col>MC%ofSD</th><th scope=col>SSeff</th><th scope=col>AC.10</th><th scope=col>psrf</th></tr>\n",
       "</thead>\n",
       "<tbody>\n",
       "\t<tr><th scope=row>theta[1]</th><td>8.97802e-03</td><td> 0.01060980</td><td> 0.01239700</td><td> 0.010632974</td><td>0.0008742370</td><td>NA</td><td>4.371185e-06</td><td>0.5</td><td>40000</td><td>-0.003398394</td><td>1.000037</td></tr>\n",
       "\t<tr><th scope=row>theta[2]</th><td>3.13877e-04</td><td> 0.00070817</td><td> 0.00119115</td><td> 0.000731906</td><td>0.0002310932</td><td>NA</td><td>1.162000e-06</td><td>0.5</td><td>39551</td><td> 0.001411528</td><td>1.000001</td></tr>\n",
       "\t<tr><th scope=row>theta[3]</th><td>8.84347e+01</td><td>93.33605000</td><td>97.00160000</td><td>93.070907597</td><td>2.2646548948</td><td>NA</td><td>1.138442e-02</td><td>0.5</td><td>39571</td><td>-0.001813651</td><td>0.999997</td></tr>\n",
       "</tbody>\n",
       "</table>\n"
      ],
      "text/latex": [
       "A matrix: 3 × 11 of type dbl\n",
       "\\begin{tabular}{r|lllllllllll}\n",
       "  & Lower95 & Median & Upper95 & Mean & SD & Mode & MCerr & MC\\%ofSD & SSeff & AC.10 & psrf\\\\\n",
       "\\hline\n",
       "\ttheta{[}1{]} & 8.97802e-03 &  0.01060980 &  0.01239700 &  0.010632974 & 0.0008742370 & NA & 4.371185e-06 & 0.5 & 40000 & -0.003398394 & 1.000037\\\\\n",
       "\ttheta{[}2{]} & 3.13877e-04 &  0.00070817 &  0.00119115 &  0.000731906 & 0.0002310932 & NA & 1.162000e-06 & 0.5 & 39551 &  0.001411528 & 1.000001\\\\\n",
       "\ttheta{[}3{]} & 8.84347e+01 & 93.33605000 & 97.00160000 & 93.070907597 & 2.2646548948 & NA & 1.138442e-02 & 0.5 & 39571 & -0.001813651 & 0.999997\\\\\n",
       "\\end{tabular}\n"
      ],
      "text/markdown": [
       "\n",
       "A matrix: 3 × 11 of type dbl\n",
       "\n",
       "| <!--/--> | Lower95 | Median | Upper95 | Mean | SD | Mode | MCerr | MC%ofSD | SSeff | AC.10 | psrf |\n",
       "|---|---|---|---|---|---|---|---|---|---|---|---|\n",
       "| theta[1] | 8.97802e-03 |  0.01060980 |  0.01239700 |  0.010632974 | 0.0008742370 | NA | 4.371185e-06 | 0.5 | 40000 | -0.003398394 | 1.000037 |\n",
       "| theta[2] | 3.13877e-04 |  0.00070817 |  0.00119115 |  0.000731906 | 0.0002310932 | NA | 1.162000e-06 | 0.5 | 39551 |  0.001411528 | 1.000001 |\n",
       "| theta[3] | 8.84347e+01 | 93.33605000 | 97.00160000 | 93.070907597 | 2.2646548948 | NA | 1.138442e-02 | 0.5 | 39571 | -0.001813651 | 0.999997 |\n",
       "\n"
      ],
      "text/plain": [
       "         Lower95     Median      Upper95     Mean         SD           Mode\n",
       "theta[1] 8.97802e-03  0.01060980  0.01239700  0.010632974 0.0008742370 NA  \n",
       "theta[2] 3.13877e-04  0.00070817  0.00119115  0.000731906 0.0002310932 NA  \n",
       "theta[3] 8.84347e+01 93.33605000 97.00160000 93.070907597 2.2646548948 NA  \n",
       "         MCerr        MC%ofSD SSeff AC.10        psrf    \n",
       "theta[1] 4.371185e-06 0.5     40000 -0.003398394 1.000037\n",
       "theta[2] 1.162000e-06 0.5     39551  0.001411528 1.000001\n",
       "theta[3] 1.138442e-02 0.5     39571 -0.001813651 0.999997"
      ]
     },
     "metadata": {},
     "output_type": "display_data"
    },
    {
     "name": "stdout",
     "output_type": "stream",
     "text": [
      "Calculating summary statistics...\n",
      "Calculating the Gelman-Rubin statistic for 3 variables....\n"
     ]
    },
    {
     "data": {
      "text/plain": [
       "\n",
       "JAGS model summary statistics from 80000 samples (chains = 4; adapt+burnin = 5000):\n",
       "                                                                              \n",
       "            Lower95     Median   Upper95       Mean         SD Mode      MCerr\n",
       "theta[1]  0.0089602   0.010613  0.012383   0.010638 0.00087606   -- 3.0541e-06\n",
       "theta[2] 0.00031238 0.00070766 0.0011916 0.00073188  0.0002316   -- 8.1817e-07\n",
       "theta[3]     88.442     93.336    97.018     93.073      2.271   --  0.0080182\n",
       "                                      \n",
       "         MC%ofSD SSeff      AC.10 psrf\n",
       "theta[1]     0.3 82282 -0.0033984    1\n",
       "theta[2]     0.4 80128  0.0014115    1\n",
       "theta[3]     0.4 80216 -0.0018137    1\n",
       "\n",
       "Total time taken: 1.6 minutes\n"
      ]
     },
     "metadata": {},
     "output_type": "display_data"
    },
    {
     "data": {
      "text/html": [
       "<table class=\"dataframe\">\n",
       "<caption>A describe_posterior: 1 × 6</caption>\n",
       "<thead>\n",
       "\t<tr><th></th><th scope=col>Parameter</th><th scope=col>MAP</th><th scope=col>CI</th><th scope=col>CI_low</th><th scope=col>CI_high</th><th scope=col>pd</th></tr>\n",
       "\t<tr><th></th><th scope=col>&lt;chr&gt;</th><th scope=col>&lt;dbl&gt;</th><th scope=col>&lt;dbl&gt;</th><th scope=col>&lt;dbl&gt;</th><th scope=col>&lt;dbl&gt;</th><th scope=col>&lt;dbl&gt;</th></tr>\n",
       "</thead>\n",
       "<tbody>\n",
       "\t<tr><th scope=row>1</th><td>Posterior</td><td>94.02046</td><td>0.95</td><td>88.44233</td><td>97.0183</td><td>1</td></tr>\n",
       "</tbody>\n",
       "</table>\n"
      ],
      "text/latex": [
       "A describe\\_posterior: 1 × 6\n",
       "\\begin{tabular}{r|llllll}\n",
       "  & Parameter & MAP & CI & CI\\_low & CI\\_high & pd\\\\\n",
       "  & <chr> & <dbl> & <dbl> & <dbl> & <dbl> & <dbl>\\\\\n",
       "\\hline\n",
       "\t1 & Posterior & 94.02046 & 0.95 & 88.44233 & 97.0183 & 1\\\\\n",
       "\\end{tabular}\n"
      ],
      "text/markdown": [
       "\n",
       "A describe_posterior: 1 × 6\n",
       "\n",
       "| <!--/--> | Parameter &lt;chr&gt; | MAP &lt;dbl&gt; | CI &lt;dbl&gt; | CI_low &lt;dbl&gt; | CI_high &lt;dbl&gt; | pd &lt;dbl&gt; |\n",
       "|---|---|---|---|---|---|---|\n",
       "| 1 | Posterior | 94.02046 | 0.95 | 88.44233 | 97.0183 | 1 |\n",
       "\n"
      ],
      "text/plain": [
       "  Parameter MAP      CI   CI_low   CI_high pd\n",
       "1 Posterior 94.02046 0.95 88.44233 97.0183 1 "
      ]
     },
     "metadata": {},
     "output_type": "display_data"
    },
    {
     "data": {
      "image/png": "[encoded data removed]",
      "text/plain": [
       "Plot with title “Inference on Pfizer (less than 65) Vaccine”"
      ]
     },
     "metadata": {
      "image/png": {
       "height": 420,
       "width": 420
      }
     },
     "output_type": "display_data"
    }
   ],
   "source": [
    "### age less than 65\n",
    "\n",
    "library(rjags)\n",
    "library(runjags)\n",
    "library(R2jags)\n",
    "library(tidybayes)\n",
    "library(dplyr)\n",
    "library(coda)\n",
    "library(rstanarm)\n",
    "library(plotrix)\n",
    "library(dupiR)\n",
    "\n",
    "tot_vaccine <- 13549\n",
    "tot_placebo <- 13618\n",
    "patient <- c(rep(\"Vaccine\", tot_vaccine),\n",
    "             rep(\"Placebo\", tot_placebo))\n",
    "# Number of patients tested postive after RCT:\n",
    "pos_vaccine <- 7\n",
    "pos_placebo <- 143\n",
    "tested   <- c(rep(\"Pos\", pos_vaccine),\n",
    "              rep(\"Neg\", tot_vaccine - pos_vaccine),\n",
    "              rep(\"Pos\", pos_placebo),\n",
    "              rep(\"Neg\", tot_placebo - pos_placebo))\n",
    "pfizer.tb <- tibble::tibble(tested = tested, patient=patient)\n",
    "table(pfizer.tb[[2]], pfizer.tb[[1]])\n",
    "\n",
    "dataList = list(\n",
    "    tested = ifelse(pfizer.tb$tested == \"Neg\", 0, 1),\n",
    "    patient = as.integer(factor(pfizer.tb$patient)),\n",
    "    Ntot = nrow(pfizer.tb) ,\n",
    "    Nclass = nlevels(factor(pfizer.tb$patient))\n",
    ")\n",
    "\n",
    "modelString <- \"  \n",
    "  model {\n",
    "    for ( i in 1:Ntot ) {\n",
    "      tested[i] ~ dbern( theta[patient[i]] )\n",
    "    }\n",
    "  for ( k in 1:Nclass ) {\n",
    "    theta[k] ~ dbeta(3 , 100)    \n",
    "    }\n",
    "  theta[3] = (theta[1]-theta[2])/theta[1] * 100\n",
    "  }\"\n",
    "writeLines(modelString , con=\"jags_Pfizer_model.txt\")\n",
    "\n",
    "pfizer_chains <- run.jags(modelString ,\n",
    "                          sample = 20000,\n",
    "                          n.chains = 4,\n",
    "                          method = \"parallel\",\n",
    "                          monitor = \"theta\",\n",
    "                          data = dataList)\n",
    "\n",
    "summary(pfizer_chains)\n",
    "add.summary(pfizer_chains)\n",
    "\n",
    "pfizer_res    <- tidybayes::tidy_draws(pfizer_chains) %>%\n",
    "                 select('theta[1]':'theta[2]') %>%\n",
    "                 rename(Placebo = 'theta[1]', Vaccine = 'theta[2]') %>%\n",
    "                 mutate(diff_rate = (Placebo - Vaccine) / Placebo * 100,\n",
    "                        Placebo_perc = Placebo * 100,\n",
    "                        Vaccine_perc = Vaccine * 100)\n",
    "\n",
    "pfizer.mcmc <- as.mcmc(pfizer_res)\n",
    "pfizer.data <- as.data.frame(pfizer.mcmc)\n",
    "\n",
    "hist(pfizer.data$diff_rate,freq=FALSE,main='Inference on Pfizer (less than 65) Vaccine')\n",
    "\n",
    "bayestestR::describe_posterior(pfizer.data$diff_rate,\n",
    "                               ci=0.95,\n",
    "                               test=c(\"p_direction\"),\n",
    "                               centrality=\"map\")"
   ]
  },
  {
   "cell_type": "code",
   "execution_count": 2,
   "id": "17befa6f",
   "metadata": {},
   "outputs": [
    {
     "data": {
      "text/plain": [
       "         \n",
       "           Neg  Pos\n",
       "  Placebo 3861   19\n",
       "  Vaccine 3847    1"
      ]
     },
     "metadata": {},
     "output_type": "display_data"
    },
    {
     "name": "stderr",
     "output_type": "stream",
     "text": [
      "Warning message:\n",
      "“No initial values were provided - JAGS will use the same initial values for all chains”\n",
      "Warning message:\n",
      "“You attempted to start parallel chains without setting different PRNG for each chain, which is not recommended.  Different .RNG.name values have been added to each set of initial values.”\n"
     ]
    },
    {
     "name": "stdout",
     "output_type": "stream",
     "text": [
      "Calling 4 simulations using the parallel method...\n",
      "Following the progress of chain 1 (the program will wait for all chains\n",
      "to finish before continuing):\n",
      "Welcome to JAGS 4.3.0 on Wed Jun 23 13:12:13 2021\n",
      "JAGS is free software and comes with ABSOLUTELY NO WARRANTY\n",
      "Loading module: basemod: ok\n",
      "Loading module: bugs: ok\n",
      ". . Reading data file data.txt\n",
      ". Compiling model graph\n",
      "   Resolving undeclared variables\n",
      "   Allocating nodes\n",
      "Graph information:\n",
      "   Observed stochastic nodes: 7728\n",
      "   Unobserved stochastic nodes: 2\n",
      "   Total graph size: 15465\n",
      ". Reading parameter file inits1.txt\n",
      ". Initializing model\n",
      ". Adaptation skipped: model is not in adaptive mode.\n",
      ". Updating 4000\n",
      "-------------------------------------------------| 4000\n",
      "************************************************** 100%\n",
      ". . Updating 20000\n",
      "-------------------------------------------------| 20000\n",
      "************************************************** 100%\n",
      ". . . . Updating 0\n",
      ". Deleting model\n",
      ". \n",
      "All chains have finished\n",
      "Note: the model did not require adaptation\n",
      "Simulation complete.  Reading coda files...\n",
      "Coda files loaded successfully\n",
      "Calculating summary statistics...\n",
      "Calculating the Gelman-Rubin statistic for 3 variables....\n",
      "Finished running the simulation\n"
     ]
    },
    {
     "data": {
      "text/html": [
       "<table class=\"dataframe\">\n",
       "<caption>A matrix: 3 × 11 of type dbl</caption>\n",
       "<thead>\n",
       "\t<tr><th></th><th scope=col>Lower95</th><th scope=col>Median</th><th scope=col>Upper95</th><th scope=col>Mean</th><th scope=col>SD</th><th scope=col>Mode</th><th scope=col>MCerr</th><th scope=col>MC%ofSD</th><th scope=col>SSeff</th><th scope=col>AC.10</th><th scope=col>psrf</th></tr>\n",
       "</thead>\n",
       "<tbody>\n",
       "\t<tr><th scope=row>theta[1]</th><td>3.28336e-03</td><td>5.448805e-03</td><td> 0.00779432</td><td> 0.005529261</td><td>1.175211e-03</td><td>NA</td><td>5.899915e-06</td><td>0.5</td><td>39677</td><td>-0.003485737</td><td>1.0000589</td></tr>\n",
       "\t<tr><th scope=row>theta[2]</th><td>1.89226e-04</td><td>9.243625e-04</td><td> 0.00201213</td><td> 0.001006730</td><td>5.047139e-04</td><td>NA</td><td>2.523693e-06</td><td>0.5</td><td>39996</td><td> 0.001786968</td><td>0.9999787</td></tr>\n",
       "\t<tr><th scope=row>theta[3]</th><td>6.04683e+01</td><td>8.301965e+01</td><td>97.63920000</td><td>80.939098568</td><td>1.066555e+01</td><td>NA</td><td>5.332777e-02</td><td>0.5</td><td>40000</td><td> 0.003649869</td><td>1.0000235</td></tr>\n",
       "</tbody>\n",
       "</table>\n"
      ],
      "text/latex": [
       "A matrix: 3 × 11 of type dbl\n",
       "\\begin{tabular}{r|lllllllllll}\n",
       "  & Lower95 & Median & Upper95 & Mean & SD & Mode & MCerr & MC\\%ofSD & SSeff & AC.10 & psrf\\\\\n",
       "\\hline\n",
       "\ttheta{[}1{]} & 3.28336e-03 & 5.448805e-03 &  0.00779432 &  0.005529261 & 1.175211e-03 & NA & 5.899915e-06 & 0.5 & 39677 & -0.003485737 & 1.0000589\\\\\n",
       "\ttheta{[}2{]} & 1.89226e-04 & 9.243625e-04 &  0.00201213 &  0.001006730 & 5.047139e-04 & NA & 2.523693e-06 & 0.5 & 39996 &  0.001786968 & 0.9999787\\\\\n",
       "\ttheta{[}3{]} & 6.04683e+01 & 8.301965e+01 & 97.63920000 & 80.939098568 & 1.066555e+01 & NA & 5.332777e-02 & 0.5 & 40000 &  0.003649869 & 1.0000235\\\\\n",
       "\\end{tabular}\n"
      ],
      "text/markdown": [
       "\n",
       "A matrix: 3 × 11 of type dbl\n",
       "\n",
       "| <!--/--> | Lower95 | Median | Upper95 | Mean | SD | Mode | MCerr | MC%ofSD | SSeff | AC.10 | psrf |\n",
       "|---|---|---|---|---|---|---|---|---|---|---|---|\n",
       "| theta[1] | 3.28336e-03 | 5.448805e-03 |  0.00779432 |  0.005529261 | 1.175211e-03 | NA | 5.899915e-06 | 0.5 | 39677 | -0.003485737 | 1.0000589 |\n",
       "| theta[2] | 1.89226e-04 | 9.243625e-04 |  0.00201213 |  0.001006730 | 5.047139e-04 | NA | 2.523693e-06 | 0.5 | 39996 |  0.001786968 | 0.9999787 |\n",
       "| theta[3] | 6.04683e+01 | 8.301965e+01 | 97.63920000 | 80.939098568 | 1.066555e+01 | NA | 5.332777e-02 | 0.5 | 40000 |  0.003649869 | 1.0000235 |\n",
       "\n"
      ],
      "text/plain": [
       "         Lower95     Median       Upper95     Mean         SD           Mode\n",
       "theta[1] 3.28336e-03 5.448805e-03  0.00779432  0.005529261 1.175211e-03 NA  \n",
       "theta[2] 1.89226e-04 9.243625e-04  0.00201213  0.001006730 5.047139e-04 NA  \n",
       "theta[3] 6.04683e+01 8.301965e+01 97.63920000 80.939098568 1.066555e+01 NA  \n",
       "         MCerr        MC%ofSD SSeff AC.10        psrf     \n",
       "theta[1] 5.899915e-06 0.5     39677 -0.003485737 1.0000589\n",
       "theta[2] 2.523693e-06 0.5     39996  0.001786968 0.9999787\n",
       "theta[3] 5.332777e-02 0.5     40000  0.003649869 1.0000235"
      ]
     },
     "metadata": {},
     "output_type": "display_data"
    },
    {
     "name": "stdout",
     "output_type": "stream",
     "text": [
      "Calculating summary statistics...\n",
      "Calculating the Gelman-Rubin statistic for 3 variables....\n"
     ]
    },
    {
     "data": {
      "text/plain": [
       "\n",
       "JAGS model summary statistics from 80000 samples (chains = 4; adapt+burnin = 5000):\n",
       "                                                                             \n",
       "            Lower95     Median   Upper95      Mean         SD Mode      MCerr\n",
       "theta[1]  0.0033151   0.005445 0.0078662 0.0055293   0.001177   -- 4.1723e-06\n",
       "theta[2] 0.00018699 0.00092771 0.0020128 0.0010097 0.00050463   -- 1.7841e-06\n",
       "theta[3]     59.916     82.967    97.191     80.88     10.669   --   0.037805\n",
       "                                      \n",
       "         MC%ofSD SSeff      AC.10 psrf\n",
       "theta[1]     0.4 79578 -0.0034857    1\n",
       "theta[2]     0.4 80000   0.001787    1\n",
       "theta[3]     0.4 79645  0.0036499    1\n",
       "\n",
       "Total time taken: 26.8 seconds\n"
      ]
     },
     "metadata": {},
     "output_type": "display_data"
    },
    {
     "data": {
      "text/html": [
       "<table class=\"dataframe\">\n",
       "<caption>A describe_posterior: 1 × 6</caption>\n",
       "<thead>\n",
       "\t<tr><th></th><th scope=col>Parameter</th><th scope=col>MAP</th><th scope=col>CI</th><th scope=col>CI_low</th><th scope=col>CI_high</th><th scope=col>pd</th></tr>\n",
       "\t<tr><th></th><th scope=col>&lt;chr&gt;</th><th scope=col>&lt;dbl&gt;</th><th scope=col>&lt;dbl&gt;</th><th scope=col>&lt;dbl&gt;</th><th scope=col>&lt;dbl&gt;</th><th scope=col>&lt;dbl&gt;</th></tr>\n",
       "</thead>\n",
       "<tbody>\n",
       "\t<tr><th scope=row>1</th><td>Posterior</td><td>87.44374</td><td>0.95</td><td>59.91658</td><td>97.19137</td><td>0.9998875</td></tr>\n",
       "</tbody>\n",
       "</table>\n"
      ],
      "text/latex": [
       "A describe\\_posterior: 1 × 6\n",
       "\\begin{tabular}{r|llllll}\n",
       "  & Parameter & MAP & CI & CI\\_low & CI\\_high & pd\\\\\n",
       "  & <chr> & <dbl> & <dbl> & <dbl> & <dbl> & <dbl>\\\\\n",
       "\\hline\n",
       "\t1 & Posterior & 87.44374 & 0.95 & 59.91658 & 97.19137 & 0.9998875\\\\\n",
       "\\end{tabular}\n"
      ],
      "text/markdown": [
       "\n",
       "A describe_posterior: 1 × 6\n",
       "\n",
       "| <!--/--> | Parameter &lt;chr&gt; | MAP &lt;dbl&gt; | CI &lt;dbl&gt; | CI_low &lt;dbl&gt; | CI_high &lt;dbl&gt; | pd &lt;dbl&gt; |\n",
       "|---|---|---|---|---|---|---|\n",
       "| 1 | Posterior | 87.44374 | 0.95 | 59.91658 | 97.19137 | 0.9998875 |\n",
       "\n"
      ],
      "text/plain": [
       "  Parameter MAP      CI   CI_low   CI_high  pd       \n",
       "1 Posterior 87.44374 0.95 59.91658 97.19137 0.9998875"
      ]
     },
     "metadata": {},
     "output_type": "display_data"
    },
    {
     "data": {
      "image/png": "[encoded data removed]",
      "text/plain": [
       "Plot with title “Inference on Pfizer (more than 65) Vaccine”"
      ]
     },
     "metadata": {
      "image/png": {
       "height": 420,
       "width": 420
      }
     },
     "output_type": "display_data"
    }
   ],
   "source": [
    "### age more than 65\n",
    "\n",
    "\n",
    "tot_vaccine <- 3848\n",
    "tot_placebo <- 3880\n",
    "patient <- c(rep(\"Vaccine\", tot_vaccine),\n",
    "             rep(\"Placebo\", tot_placebo))\n",
    "# Number of patients tested postive after RCT:\n",
    "pos_vaccine <- 1\n",
    "pos_placebo <- 19\n",
    "tested   <- c(rep(\"Pos\", pos_vaccine),\n",
    "              rep(\"Neg\", tot_vaccine - pos_vaccine),\n",
    "              rep(\"Pos\", pos_placebo),\n",
    "              rep(\"Neg\", tot_placebo - pos_placebo))\n",
    "pfizer.tb <- tibble::tibble(tested = tested, patient=patient)\n",
    "table(pfizer.tb[[2]], pfizer.tb[[1]])\n",
    "\n",
    "dataList = list(\n",
    "    tested = ifelse(pfizer.tb$tested == \"Neg\", 0, 1),\n",
    "    patient = as.integer(factor(pfizer.tb$patient)),\n",
    "    Ntot = nrow(pfizer.tb) ,\n",
    "    Nclass = nlevels(factor(pfizer.tb$patient))\n",
    ")\n",
    "\n",
    "modelString <- \"  \n",
    "  model {\n",
    "    for ( i in 1:Ntot ) {\n",
    "      tested[i] ~ dbern( theta[patient[i]] )\n",
    "    }\n",
    "  for ( k in 1:Nclass ) {\n",
    "    theta[k] ~ dbeta(3 , 100)    \n",
    "    }\n",
    "  theta[3] = (theta[1]-theta[2])/theta[1] * 100\n",
    "  }\"\n",
    "writeLines(modelString , con=\"jags_Pfizer_model.txt\")\n",
    "\n",
    "pfizer_chains <- run.jags(modelString ,\n",
    "                          sample = 20000,\n",
    "                          n.chains = 4,\n",
    "                          method = \"parallel\",\n",
    "                          monitor = \"theta\",\n",
    "                          data = dataList)\n",
    "\n",
    "summary(pfizer_chains)\n",
    "add.summary(pfizer_chains)\n",
    "\n",
    "pfizer_res    <- tidybayes::tidy_draws(pfizer_chains) %>%\n",
    "                 select('theta[1]':'theta[2]') %>%\n",
    "                 rename(Placebo = 'theta[1]', Vaccine = 'theta[2]') %>%\n",
    "                 mutate(diff_rate = (Placebo - Vaccine) / Placebo * 100,\n",
    "                        Placebo_perc = Placebo * 100,\n",
    "                        Vaccine_perc = Vaccine * 100)\n",
    "\n",
    "pfizer.mcmc <- as.mcmc(pfizer_res)\n",
    "pfizer.data <- as.data.frame(pfizer.mcmc)\n",
    "\n",
    "hist(pfizer.data$diff_rate,freq=FALSE,main='Inference on Pfizer (more than 65) Vaccine')\n",
    "\n",
    "bayestestR::describe_posterior(pfizer.data$diff_rate,\n",
    "                               ci=0.95,\n",
    "                               test=c(\"p_direction\"),\n",
    "                               centrality=\"map\")"
   ]
  },
  {
   "cell_type": "code",
   "execution_count": null,
   "id": "5e77e3e6",
   "metadata": {},
   "outputs": [],
   "source": []
  }
 ],
 "metadata": {
  "kernelspec": {
   "display_name": "R",
   "language": "R",
   "name": "ir"
  },
  "language_info": {
   "codemirror_mode": "r",
   "file_extension": ".r",
   "mimetype": "text/x-r-source",
   "name": "R",
   "pygments_lexer": "r",
   "version": "4.1.0"
  }
 },
 "nbformat": 4,
 "nbformat_minor": 5
}
