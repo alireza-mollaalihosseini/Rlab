{
 "cells": [
  {
   "cell_type": "code",
   "execution_count": 1,
   "id": "c1cd2b72",
   "metadata": {
    "scrolled": false
   },
   "outputs": [
    {
     "name": "stderr",
     "output_type": "stream",
     "text": [
      "Loading required package: coda\n",
      "\n",
      "Linked to JAGS 4.3.0\n",
      "\n",
      "Loaded modules: basemod,bugs\n",
      "\n",
      "\n",
      "Attaching package: ‘R2jags’\n",
      "\n",
      "\n",
      "The following object is masked from ‘package:coda’:\n",
      "\n",
      "    traceplot\n",
      "\n",
      "\n",
      "\n",
      "Attaching package: ‘dplyr’\n",
      "\n",
      "\n",
      "The following objects are masked from ‘package:stats’:\n",
      "\n",
      "    filter, lag\n",
      "\n",
      "\n",
      "The following objects are masked from ‘package:base’:\n",
      "\n",
      "    intersect, setdiff, setequal, union\n",
      "\n",
      "\n",
      "Loading required package: Rcpp\n",
      "\n",
      "This is rstanarm version 2.21.1\n",
      "\n",
      "- See https://mc-stan.org/rstanarm/articles/priors for changes to default priors!\n",
      "\n",
      "- Default priors may change, so it's safest to specify priors, even if equivalent to the defaults.\n",
      "\n",
      "- For execution on a local, multicore CPU with excess RAM we recommend calling\n",
      "\n",
      "  options(mc.cores = parallel::detectCores())\n",
      "\n"
     ]
    },
    {
     "data": {
      "text/plain": [
       "         \n",
       "            Neg   Pos\n",
       "  Placebo 10365   156\n",
       "  Vaccine 10544     7"
      ]
     },
     "metadata": {},
     "output_type": "display_data"
    },
    {
     "name": "stderr",
     "output_type": "stream",
     "text": [
      "Warning message:\n",
      "“No initial values were provided - JAGS will use the same initial values for all chains”\n",
      "Warning message:\n",
      "“You attempted to start parallel chains without setting different PRNG for each chain, which is not recommended.  Different .RNG.name values have been added to each set of initial values.”\n"
     ]
    },
    {
     "name": "stdout",
     "output_type": "stream",
     "text": [
      "Calling 4 simulations using the parallel method...\n",
      "Following the progress of chain 1 (the program will wait for all chains\n",
      "to finish before continuing):\n",
      "Welcome to JAGS 4.3.0 on Wed Jun 23 13:16:45 2021\n",
      "JAGS is free software and comes with ABSOLUTELY NO WARRANTY\n",
      "Loading module: basemod: ok\n",
      "Loading module: bugs: ok\n",
      ". . Reading data file data.txt\n",
      ". Compiling model graph\n",
      "   Resolving undeclared variables\n",
      "   Allocating nodes\n",
      "Graph information:\n",
      "   Observed stochastic nodes: 21072\n",
      "   Unobserved stochastic nodes: 2\n",
      "   Total graph size: 42153\n",
      ". Reading parameter file inits1.txt\n",
      ". Initializing model\n",
      ". Adaptation skipped: model is not in adaptive mode.\n",
      ". Updating 4000\n",
      "-------------------------------------------------| 4000\n",
      "************************************************** 100%\n",
      ". . Updating 20000\n",
      "-------------------------------------------------| 20000\n",
      "************************************************** 100%\n",
      ". . . . Updating 0\n",
      ". Deleting model\n",
      "All chains have finished\n",
      "Note: the model did not require adaptation\n",
      "Simulation complete.  Reading coda files...\n",
      "Coda files loaded successfully\n",
      "Calculating summary statistics...\n",
      "Calculating the Gelman-Rubin statistic for 3 variables....\n",
      "Finished running the simulation\n"
     ]
    },
    {
     "data": {
      "text/html": [
       "<table class=\"dataframe\">\n",
       "<caption>A matrix: 3 × 11 of type dbl</caption>\n",
       "<thead>\n",
       "\t<tr><th></th><th scope=col>Lower95</th><th scope=col>Median</th><th scope=col>Upper95</th><th scope=col>Mean</th><th scope=col>SD</th><th scope=col>Mode</th><th scope=col>MCerr</th><th scope=col>MC%ofSD</th><th scope=col>SSeff</th><th scope=col>AC.10</th><th scope=col>psrf</th></tr>\n",
       "</thead>\n",
       "<tbody>\n",
       "\t<tr><th scope=row>theta[1]</th><td>1.26444e-02</td><td> 0.014929250</td><td> 0.01724510</td><td>1.495637e-02</td><td>0.0011750732</td><td>NA</td><td>5.896112e-06</td><td>0.5</td><td>39719</td><td>0.005346163</td><td>1.000044</td></tr>\n",
       "\t<tr><th scope=row>theta[2]</th><td>3.97043e-04</td><td> 0.000906037</td><td> 0.00151679</td><td>9.378713e-04</td><td>0.0002950191</td><td>NA</td><td>1.475095e-06</td><td>0.5</td><td>40000</td><td>0.000560000</td><td>1.000168</td></tr>\n",
       "\t<tr><th scope=row>theta[3]</th><td>8.95919e+01</td><td>93.921250000</td><td>97.34350000</td><td>9.369040e+01</td><td>2.0502915684</td><td>NA</td><td>1.020906e-02</td><td>0.5</td><td>40333</td><td>0.002266093</td><td>1.000273</td></tr>\n",
       "</tbody>\n",
       "</table>\n"
      ],
      "text/latex": [
       "A matrix: 3 × 11 of type dbl\n",
       "\\begin{tabular}{r|lllllllllll}\n",
       "  & Lower95 & Median & Upper95 & Mean & SD & Mode & MCerr & MC\\%ofSD & SSeff & AC.10 & psrf\\\\\n",
       "\\hline\n",
       "\ttheta{[}1{]} & 1.26444e-02 &  0.014929250 &  0.01724510 & 1.495637e-02 & 0.0011750732 & NA & 5.896112e-06 & 0.5 & 39719 & 0.005346163 & 1.000044\\\\\n",
       "\ttheta{[}2{]} & 3.97043e-04 &  0.000906037 &  0.00151679 & 9.378713e-04 & 0.0002950191 & NA & 1.475095e-06 & 0.5 & 40000 & 0.000560000 & 1.000168\\\\\n",
       "\ttheta{[}3{]} & 8.95919e+01 & 93.921250000 & 97.34350000 & 9.369040e+01 & 2.0502915684 & NA & 1.020906e-02 & 0.5 & 40333 & 0.002266093 & 1.000273\\\\\n",
       "\\end{tabular}\n"
      ],
      "text/markdown": [
       "\n",
       "A matrix: 3 × 11 of type dbl\n",
       "\n",
       "| <!--/--> | Lower95 | Median | Upper95 | Mean | SD | Mode | MCerr | MC%ofSD | SSeff | AC.10 | psrf |\n",
       "|---|---|---|---|---|---|---|---|---|---|---|---|\n",
       "| theta[1] | 1.26444e-02 |  0.014929250 |  0.01724510 | 1.495637e-02 | 0.0011750732 | NA | 5.896112e-06 | 0.5 | 39719 | 0.005346163 | 1.000044 |\n",
       "| theta[2] | 3.97043e-04 |  0.000906037 |  0.00151679 | 9.378713e-04 | 0.0002950191 | NA | 1.475095e-06 | 0.5 | 40000 | 0.000560000 | 1.000168 |\n",
       "| theta[3] | 8.95919e+01 | 93.921250000 | 97.34350000 | 9.369040e+01 | 2.0502915684 | NA | 1.020906e-02 | 0.5 | 40333 | 0.002266093 | 1.000273 |\n",
       "\n"
      ],
      "text/plain": [
       "         Lower95     Median       Upper95     Mean         SD           Mode\n",
       "theta[1] 1.26444e-02  0.014929250  0.01724510 1.495637e-02 0.0011750732 NA  \n",
       "theta[2] 3.97043e-04  0.000906037  0.00151679 9.378713e-04 0.0002950191 NA  \n",
       "theta[3] 8.95919e+01 93.921250000 97.34350000 9.369040e+01 2.0502915684 NA  \n",
       "         MCerr        MC%ofSD SSeff AC.10       psrf    \n",
       "theta[1] 5.896112e-06 0.5     39719 0.005346163 1.000044\n",
       "theta[2] 1.475095e-06 0.5     40000 0.000560000 1.000168\n",
       "theta[3] 1.020906e-02 0.5     40333 0.002266093 1.000273"
      ]
     },
     "metadata": {},
     "output_type": "display_data"
    },
    {
     "name": "stdout",
     "output_type": "stream",
     "text": [
      "Calculating summary statistics...\n",
      "Calculating the Gelman-Rubin statistic for 3 variables....\n"
     ]
    },
    {
     "data": {
      "text/plain": [
       "\n",
       "JAGS model summary statistics from 80000 samples (chains = 4; adapt+burnin = 5000):\n",
       "                                                                             \n",
       "            Lower95     Median  Upper95       Mean         SD Mode      MCerr\n",
       "theta[1]   0.012659    0.01493 0.017243   0.014958   0.001176   -- 4.1374e-06\n",
       "theta[2] 0.00039874 0.00090613 0.001517 0.00093744 0.00029446   -- 1.0404e-06\n",
       "theta[3]     89.602      93.93   97.343     93.694      2.047   --  0.0072342\n",
       "                                       \n",
       "         MC%ofSD SSeff     AC.10   psrf\n",
       "theta[1]     0.4 80786 0.0053462      1\n",
       "theta[2]     0.4 80107   0.00056 1.0001\n",
       "theta[3]     0.4 80067 0.0022661 1.0001\n",
       "\n",
       "Total time taken: 1.2 minutes\n"
      ]
     },
     "metadata": {},
     "output_type": "display_data"
    },
    {
     "data": {
      "text/html": [
       "<table class=\"dataframe\">\n",
       "<caption>A describe_posterior: 1 × 6</caption>\n",
       "<thead>\n",
       "\t<tr><th></th><th scope=col>Parameter</th><th scope=col>MAP</th><th scope=col>CI</th><th scope=col>CI_low</th><th scope=col>CI_high</th><th scope=col>pd</th></tr>\n",
       "\t<tr><th></th><th scope=col>&lt;chr&gt;</th><th scope=col>&lt;dbl&gt;</th><th scope=col>&lt;dbl&gt;</th><th scope=col>&lt;dbl&gt;</th><th scope=col>&lt;dbl&gt;</th><th scope=col>&lt;dbl&gt;</th></tr>\n",
       "</thead>\n",
       "<tbody>\n",
       "\t<tr><th scope=row>1</th><td>Posterior</td><td>94.39452</td><td>0.95</td><td>89.60197</td><td>97.34282</td><td>1</td></tr>\n",
       "</tbody>\n",
       "</table>\n"
      ],
      "text/latex": [
       "A describe\\_posterior: 1 × 6\n",
       "\\begin{tabular}{r|llllll}\n",
       "  & Parameter & MAP & CI & CI\\_low & CI\\_high & pd\\\\\n",
       "  & <chr> & <dbl> & <dbl> & <dbl> & <dbl> & <dbl>\\\\\n",
       "\\hline\n",
       "\t1 & Posterior & 94.39452 & 0.95 & 89.60197 & 97.34282 & 1\\\\\n",
       "\\end{tabular}\n"
      ],
      "text/markdown": [
       "\n",
       "A describe_posterior: 1 × 6\n",
       "\n",
       "| <!--/--> | Parameter &lt;chr&gt; | MAP &lt;dbl&gt; | CI &lt;dbl&gt; | CI_low &lt;dbl&gt; | CI_high &lt;dbl&gt; | pd &lt;dbl&gt; |\n",
       "|---|---|---|---|---|---|---|\n",
       "| 1 | Posterior | 94.39452 | 0.95 | 89.60197 | 97.34282 | 1 |\n",
       "\n"
      ],
      "text/plain": [
       "  Parameter MAP      CI   CI_low   CI_high  pd\n",
       "1 Posterior 94.39452 0.95 89.60197 97.34282 1 "
      ]
     },
     "metadata": {},
     "output_type": "display_data"
    },
    {
     "data": {
      "image/png": "[encoded data removed]",
      "text/plain": [
       "Plot with title “Inference on Moderna (less than 65) Vaccine”"
      ]
     },
     "metadata": {
      "image/png": {
       "height": 420,
       "width": 420
      }
     },
     "output_type": "display_data"
    }
   ],
   "source": [
    "### age less than 65\n",
    "\n",
    "library(rjags)\n",
    "library(runjags)\n",
    "library(R2jags)\n",
    "library(tidybayes)\n",
    "library(dplyr)\n",
    "library(coda)\n",
    "library(rstanarm)\n",
    "library(plotrix)\n",
    "library(dupiR)\n",
    "\n",
    "tot_vaccine <- 10551\n",
    "tot_placebo <- 10521\n",
    "patient <- c(rep(\"Vaccine\", tot_vaccine),\n",
    "             rep(\"Placebo\", tot_placebo))\n",
    "# Number of patients tested postive after RCT:\n",
    "pos_vaccine <- 7\n",
    "pos_placebo <- 156\n",
    "tested   <- c(rep(\"Pos\", pos_vaccine),\n",
    "              rep(\"Neg\", tot_vaccine - pos_vaccine),\n",
    "              rep(\"Pos\", pos_placebo),\n",
    "              rep(\"Neg\", tot_placebo - pos_placebo))\n",
    "moderna.tb <- tibble::tibble(tested = tested, patient=patient)\n",
    "table(moderna.tb[[2]], moderna.tb[[1]])\n",
    "\n",
    "dataList = list(\n",
    "    tested = ifelse(moderna.tb$tested == \"Neg\", 0, 1),\n",
    "    patient = as.integer(factor(moderna.tb$patient)),\n",
    "    Ntot = nrow(moderna.tb) ,\n",
    "    Nclass = nlevels(factor(moderna.tb$patient))\n",
    ")\n",
    "\n",
    "modelString <- \"  \n",
    "  model {\n",
    "    for ( i in 1:Ntot ) {\n",
    "      tested[i] ~ dbern( theta[patient[i]] )\n",
    "    }\n",
    "  for ( k in 1:Nclass ) {\n",
    "    theta[k] ~ dbeta(3 , 100)    \n",
    "    }\n",
    "  theta[3] = (theta[1]-theta[2])/theta[1] * 100\n",
    "  }\"\n",
    "writeLines(modelString , con=\"jags_Moderna_model.txt\")\n",
    "\n",
    "moderna_chains <- run.jags(modelString ,\n",
    "                          sample = 20000,\n",
    "                          n.chains = 4,\n",
    "                          method = \"parallel\",\n",
    "                          monitor = \"theta\",\n",
    "                          data = dataList)\n",
    "\n",
    "summary(moderna_chains)\n",
    "add.summary(moderna_chains)\n",
    "\n",
    "moderna_res    <- tidybayes::tidy_draws(moderna_chains) %>%\n",
    "                 select('theta[1]':'theta[2]') %>%\n",
    "                 rename(Placebo = 'theta[1]', Vaccine = 'theta[2]') %>%\n",
    "                 mutate(diff_rate = (Placebo - Vaccine) / Placebo * 100,\n",
    "                        Placebo_perc = Placebo * 100,\n",
    "                        Vaccine_perc = Vaccine * 100)\n",
    "\n",
    "moderna.mcmc <- as.mcmc(moderna_res)\n",
    "moderna.data <- as.data.frame(moderna.mcmc)\n",
    "\n",
    "hist(moderna.data$diff_rate,freq=FALSE,main='Inference on Moderna (less than 65) Vaccine')\n",
    "\n",
    "bayestestR::describe_posterior(moderna.data$diff_rate,\n",
    "                               ci=0.95,\n",
    "                               test=c(\"p_direction\"),\n",
    "                               centrality=\"map\")"
   ]
  },
  {
   "cell_type": "code",
   "execution_count": 2,
   "id": "6d4cd2ce",
   "metadata": {},
   "outputs": [
    {
     "data": {
      "text/plain": [
       "         \n",
       "           Neg  Pos\n",
       "  Placebo 3523   29\n",
       "  Vaccine 3581    4"
      ]
     },
     "metadata": {},
     "output_type": "display_data"
    },
    {
     "name": "stderr",
     "output_type": "stream",
     "text": [
      "Warning message:\n",
      "“No initial values were provided - JAGS will use the same initial values for all chains”\n",
      "Warning message:\n",
      "“You attempted to start parallel chains without setting different PRNG for each chain, which is not recommended.  Different .RNG.name values have been added to each set of initial values.”\n"
     ]
    },
    {
     "name": "stdout",
     "output_type": "stream",
     "text": [
      "Calling 4 simulations using the parallel method...\n",
      "Following the progress of chain 1 (the program will wait for all chains\n",
      "to finish before continuing):\n",
      "Welcome to JAGS 4.3.0 on Wed Jun 23 13:18:04 2021\n",
      "JAGS is free software and comes with ABSOLUTELY NO WARRANTY\n",
      "Loading module: basemod: ok\n",
      "Loading module: bugs: ok\n",
      ". . Reading data file data.txt\n",
      ". Compiling model graph\n",
      "   Resolving undeclared variables\n",
      "   Allocating nodes\n",
      "Graph information:\n",
      "   Observed stochastic nodes: 7137\n",
      "   Unobserved stochastic nodes: 2\n",
      "   Total graph size: 14283\n",
      ". Reading parameter file inits1.txt\n",
      ". Initializing model\n",
      ". Adaptation skipped: model is not in adaptive mode.\n",
      ". Updating 4000\n",
      "-------------------------------------------------| 4000\n",
      "************************************************** 100%\n",
      ". . Updating 20000\n",
      "-------------------------------------------------| 20000\n",
      "************************************************** 100%\n",
      ". . . . Updating 0\n",
      ". Deleting model\n",
      ". \n",
      "All chains have finished\n",
      "Note: the model did not require adaptation\n",
      "Simulation complete.  Reading coda files...\n",
      "Coda files loaded successfully\n",
      "Calculating summary statistics...\n",
      "Calculating the Gelman-Rubin statistic for 3 variables....\n",
      "Finished running the simulation\n"
     ]
    },
    {
     "data": {
      "text/html": [
       "<table class=\"dataframe\">\n",
       "<caption>A matrix: 3 × 11 of type dbl</caption>\n",
       "<thead>\n",
       "\t<tr><th></th><th scope=col>Lower95</th><th scope=col>Median</th><th scope=col>Upper95</th><th scope=col>Mean</th><th scope=col>SD</th><th scope=col>Mode</th><th scope=col>MCerr</th><th scope=col>MC%ofSD</th><th scope=col>SSeff</th><th scope=col>AC.10</th><th scope=col>psrf</th></tr>\n",
       "</thead>\n",
       "<tbody>\n",
       "\t<tr><th scope=row>theta[1]</th><td>5.84022e-03</td><td> 0.008662010</td><td> 0.0118390</td><td> 0.008755271</td><td>0.0015453263</td><td>NA</td><td>7.726631e-06</td><td>0.5</td><td>40000</td><td>-0.002019827</td><td>1.000103</td></tr>\n",
       "\t<tr><th scope=row>theta[2]</th><td>6.62857e-04</td><td> 0.001809675</td><td> 0.0033539</td><td> 0.001898224</td><td>0.0007162113</td><td>NA</td><td>3.581056e-06</td><td>0.5</td><td>40000</td><td> 0.004689487</td><td>1.000115</td></tr>\n",
       "\t<tr><th scope=row>theta[3]</th><td>5.86123e+01</td><td>79.117450000</td><td>93.4442000</td><td>77.618590207</td><td>9.5248513390</td><td>NA</td><td>4.783285e-02</td><td>0.5</td><td>39652</td><td> 0.004987473</td><td>1.000224</td></tr>\n",
       "</tbody>\n",
       "</table>\n"
      ],
      "text/latex": [
       "A matrix: 3 × 11 of type dbl\n",
       "\\begin{tabular}{r|lllllllllll}\n",
       "  & Lower95 & Median & Upper95 & Mean & SD & Mode & MCerr & MC\\%ofSD & SSeff & AC.10 & psrf\\\\\n",
       "\\hline\n",
       "\ttheta{[}1{]} & 5.84022e-03 &  0.008662010 &  0.0118390 &  0.008755271 & 0.0015453263 & NA & 7.726631e-06 & 0.5 & 40000 & -0.002019827 & 1.000103\\\\\n",
       "\ttheta{[}2{]} & 6.62857e-04 &  0.001809675 &  0.0033539 &  0.001898224 & 0.0007162113 & NA & 3.581056e-06 & 0.5 & 40000 &  0.004689487 & 1.000115\\\\\n",
       "\ttheta{[}3{]} & 5.86123e+01 & 79.117450000 & 93.4442000 & 77.618590207 & 9.5248513390 & NA & 4.783285e-02 & 0.5 & 39652 &  0.004987473 & 1.000224\\\\\n",
       "\\end{tabular}\n"
      ],
      "text/markdown": [
       "\n",
       "A matrix: 3 × 11 of type dbl\n",
       "\n",
       "| <!--/--> | Lower95 | Median | Upper95 | Mean | SD | Mode | MCerr | MC%ofSD | SSeff | AC.10 | psrf |\n",
       "|---|---|---|---|---|---|---|---|---|---|---|---|\n",
       "| theta[1] | 5.84022e-03 |  0.008662010 |  0.0118390 |  0.008755271 | 0.0015453263 | NA | 7.726631e-06 | 0.5 | 40000 | -0.002019827 | 1.000103 |\n",
       "| theta[2] | 6.62857e-04 |  0.001809675 |  0.0033539 |  0.001898224 | 0.0007162113 | NA | 3.581056e-06 | 0.5 | 40000 |  0.004689487 | 1.000115 |\n",
       "| theta[3] | 5.86123e+01 | 79.117450000 | 93.4442000 | 77.618590207 | 9.5248513390 | NA | 4.783285e-02 | 0.5 | 39652 |  0.004987473 | 1.000224 |\n",
       "\n"
      ],
      "text/plain": [
       "         Lower95     Median       Upper95    Mean         SD           Mode\n",
       "theta[1] 5.84022e-03  0.008662010  0.0118390  0.008755271 0.0015453263 NA  \n",
       "theta[2] 6.62857e-04  0.001809675  0.0033539  0.001898224 0.0007162113 NA  \n",
       "theta[3] 5.86123e+01 79.117450000 93.4442000 77.618590207 9.5248513390 NA  \n",
       "         MCerr        MC%ofSD SSeff AC.10        psrf    \n",
       "theta[1] 7.726631e-06 0.5     40000 -0.002019827 1.000103\n",
       "theta[2] 3.581056e-06 0.5     40000  0.004689487 1.000115\n",
       "theta[3] 4.783285e-02 0.5     39652  0.004987473 1.000224"
      ]
     },
     "metadata": {},
     "output_type": "display_data"
    },
    {
     "name": "stdout",
     "output_type": "stream",
     "text": [
      "Calculating summary statistics...\n",
      "Calculating the Gelman-Rubin statistic for 3 variables....\n"
     ]
    },
    {
     "data": {
      "text/plain": [
       "\n",
       "JAGS model summary statistics from 80000 samples (chains = 4; adapt+burnin = 5000):\n",
       "                                                                           \n",
       "           Lower95    Median   Upper95      Mean         SD Mode      MCerr\n",
       "theta[1] 0.0058375 0.0086607  0.011808 0.0087526  0.0015375   -- 5.4518e-06\n",
       "theta[2] 0.0006579 0.0018083 0.0033463 0.0018975 0.00071412   -- 2.5321e-06\n",
       "theta[3]    58.957    79.142    93.679    77.627     9.5007   --   0.033245\n",
       "                                        \n",
       "         MC%ofSD SSeff      AC.10   psrf\n",
       "theta[1]     0.4 79537 -0.0020198      1\n",
       "theta[2]     0.4 79541  0.0046895      1\n",
       "theta[3]     0.3 81671  0.0049875 1.0001\n",
       "\n",
       "Total time taken: 23.8 seconds\n"
      ]
     },
     "metadata": {},
     "output_type": "display_data"
    },
    {
     "data": {
      "text/html": [
       "<table class=\"dataframe\">\n",
       "<caption>A describe_posterior: 1 × 6</caption>\n",
       "<thead>\n",
       "\t<tr><th></th><th scope=col>Parameter</th><th scope=col>MAP</th><th scope=col>CI</th><th scope=col>CI_low</th><th scope=col>CI_high</th><th scope=col>pd</th></tr>\n",
       "\t<tr><th></th><th scope=col>&lt;chr&gt;</th><th scope=col>&lt;dbl&gt;</th><th scope=col>&lt;dbl&gt;</th><th scope=col>&lt;dbl&gt;</th><th scope=col>&lt;dbl&gt;</th><th scope=col>&lt;dbl&gt;</th></tr>\n",
       "</thead>\n",
       "<tbody>\n",
       "\t<tr><th scope=row>1</th><td>Posterior</td><td>82.27911</td><td>0.95</td><td>58.95692</td><td>93.67919</td><td>0.99995</td></tr>\n",
       "</tbody>\n",
       "</table>\n"
      ],
      "text/latex": [
       "A describe\\_posterior: 1 × 6\n",
       "\\begin{tabular}{r|llllll}\n",
       "  & Parameter & MAP & CI & CI\\_low & CI\\_high & pd\\\\\n",
       "  & <chr> & <dbl> & <dbl> & <dbl> & <dbl> & <dbl>\\\\\n",
       "\\hline\n",
       "\t1 & Posterior & 82.27911 & 0.95 & 58.95692 & 93.67919 & 0.99995\\\\\n",
       "\\end{tabular}\n"
      ],
      "text/markdown": [
       "\n",
       "A describe_posterior: 1 × 6\n",
       "\n",
       "| <!--/--> | Parameter &lt;chr&gt; | MAP &lt;dbl&gt; | CI &lt;dbl&gt; | CI_low &lt;dbl&gt; | CI_high &lt;dbl&gt; | pd &lt;dbl&gt; |\n",
       "|---|---|---|---|---|---|---|\n",
       "| 1 | Posterior | 82.27911 | 0.95 | 58.95692 | 93.67919 | 0.99995 |\n",
       "\n"
      ],
      "text/plain": [
       "  Parameter MAP      CI   CI_low   CI_high  pd     \n",
       "1 Posterior 82.27911 0.95 58.95692 93.67919 0.99995"
      ]
     },
     "metadata": {},
     "output_type": "display_data"
    },
    {
     "data": {
      "image/png": "[encoded data removed]",
      "text/plain": [
       "Plot with title “Inference on Moderna (more than 65) Vaccine”"
      ]
     },
     "metadata": {
      "image/png": {
       "height": 420,
       "width": 420
      }
     },
     "output_type": "display_data"
    }
   ],
   "source": [
    "### age more than 65\n",
    "\n",
    "\n",
    "tot_vaccine <- 3585\n",
    "tot_placebo <- 3552\n",
    "patient <- c(rep(\"Vaccine\", tot_vaccine),\n",
    "             rep(\"Placebo\", tot_placebo))\n",
    "# Number of patients tested postive after RCT:\n",
    "pos_vaccine <- 4\n",
    "pos_placebo <- 29\n",
    "tested   <- c(rep(\"Pos\", pos_vaccine),\n",
    "              rep(\"Neg\", tot_vaccine - pos_vaccine),\n",
    "              rep(\"Pos\", pos_placebo),\n",
    "              rep(\"Neg\", tot_placebo - pos_placebo))\n",
    "moderna.tb <- tibble::tibble(tested = tested, patient=patient)\n",
    "table(moderna.tb[[2]], moderna.tb[[1]])\n",
    "\n",
    "dataList = list(\n",
    "    tested = ifelse(moderna.tb$tested == \"Neg\", 0, 1),\n",
    "    patient = as.integer(factor(moderna.tb$patient)),\n",
    "    Ntot = nrow(moderna.tb) ,\n",
    "    Nclass = nlevels(factor(moderna.tb$patient))\n",
    ")\n",
    "\n",
    "modelString <- \"  \n",
    "  model {\n",
    "    for ( i in 1:Ntot ) {\n",
    "      tested[i] ~ dbern( theta[patient[i]] )\n",
    "    }\n",
    "  for ( k in 1:Nclass ) {\n",
    "    theta[k] ~ dbeta(3 , 100)    \n",
    "    }\n",
    "  theta[3] = (theta[1]-theta[2])/theta[1] * 100\n",
    "  }\"\n",
    "writeLines(modelString , con=\"jags_Moderna_model.txt\")\n",
    "\n",
    "moderna_chains <- run.jags(modelString ,\n",
    "                          sample = 20000,\n",
    "                          n.chains = 4,\n",
    "                          method = \"parallel\",\n",
    "                          monitor = \"theta\",\n",
    "                          data = dataList)\n",
    "\n",
    "summary(moderna_chains)\n",
    "add.summary(moderna_chains)\n",
    "\n",
    "moderna_res    <- tidybayes::tidy_draws(moderna_chains) %>%\n",
    "                 select('theta[1]':'theta[2]') %>%\n",
    "                 rename(Placebo = 'theta[1]', Vaccine = 'theta[2]') %>%\n",
    "                 mutate(diff_rate = (Placebo - Vaccine) / Placebo * 100,\n",
    "                        Placebo_perc = Placebo * 100,\n",
    "                        Vaccine_perc = Vaccine * 100)\n",
    "\n",
    "moderna.mcmc <- as.mcmc(moderna_res)\n",
    "moderna.data <- as.data.frame(moderna.mcmc)\n",
    "\n",
    "hist(moderna.data$diff_rate,freq=FALSE,main='Inference on Moderna (more than 65) Vaccine')\n",
    "\n",
    "bayestestR::describe_posterior(moderna.data$diff_rate,\n",
    "                               ci=0.95,\n",
    "                               test=c(\"p_direction\"),\n",
    "                               centrality=\"map\")"
   ]
  },
  {
   "cell_type": "code",
   "execution_count": null,
   "id": "3bd375e5",
   "metadata": {},
   "outputs": [],
   "source": []
  }
 ],
 "metadata": {
  "kernelspec": {
   "display_name": "R",
   "language": "R",
   "name": "ir"
  },
  "language_info": {
   "codemirror_mode": "r",
   "file_extension": ".r",
   "mimetype": "text/x-r-source",
   "name": "R",
   "pygments_lexer": "r",
   "version": "4.1.0"
  }
 },
 "nbformat": 4,
 "nbformat_minor": 5
}
