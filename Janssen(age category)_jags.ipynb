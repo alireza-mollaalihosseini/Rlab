{
 "cells": [
  {
   "cell_type": "code",
   "execution_count": 1,
   "id": "c2c51b03",
   "metadata": {
    "scrolled": false
   },
   "outputs": [
    {
     "name": "stderr",
     "output_type": "stream",
     "text": [
      "Loading required package: coda\n",
      "\n",
      "Linked to JAGS 4.3.0\n",
      "\n",
      "Loaded modules: basemod,bugs\n",
      "\n",
      "\n",
      "Attaching package: ‘R2jags’\n",
      "\n",
      "\n",
      "The following object is masked from ‘package:coda’:\n",
      "\n",
      "    traceplot\n",
      "\n",
      "\n",
      "\n",
      "Attaching package: ‘dplyr’\n",
      "\n",
      "\n",
      "The following objects are masked from ‘package:stats’:\n",
      "\n",
      "    filter, lag\n",
      "\n",
      "\n",
      "The following objects are masked from ‘package:base’:\n",
      "\n",
      "    intersect, setdiff, setequal, union\n",
      "\n",
      "\n",
      "Loading required package: Rcpp\n",
      "\n",
      "This is rstanarm version 2.21.1\n",
      "\n",
      "- See https://mc-stan.org/rstanarm/articles/priors for changes to default priors!\n",
      "\n",
      "- Default priors may change, so it's safest to specify priors, even if equivalent to the defaults.\n",
      "\n",
      "- For execution on a local, multicore CPU with excess RAM we recommend calling\n",
      "\n",
      "  options(mc.cores = parallel::detectCores())\n",
      "\n"
     ]
    },
    {
     "data": {
      "text/plain": [
       "         \n",
       "            Neg   Pos\n",
       "  Placebo 12621   260\n",
       "  Vaccine 12735    95"
      ]
     },
     "metadata": {},
     "output_type": "display_data"
    },
    {
     "name": "stderr",
     "output_type": "stream",
     "text": [
      "Warning message:\n",
      "“No initial values were provided - JAGS will use the same initial values for all chains”\n",
      "Warning message:\n",
      "“You attempted to start parallel chains without setting different PRNG for each chain, which is not recommended.  Different .RNG.name values have been added to each set of initial values.”\n"
     ]
    },
    {
     "name": "stdout",
     "output_type": "stream",
     "text": [
      "Calling 4 simulations using the parallel method...\n",
      "Following the progress of chain 1 (the program will wait for all chains\n",
      "to finish before continuing):\n",
      "Welcome to JAGS 4.3.0 on Wed Jun 23 13:19:27 2021\n",
      "JAGS is free software and comes with ABSOLUTELY NO WARRANTY\n",
      "Loading module: basemod: ok\n",
      "Loading module: bugs: ok\n",
      ". . Reading data file data.txt\n",
      ". Compiling model graph\n",
      "   Resolving undeclared variables\n",
      "   Allocating nodes\n",
      "Graph information:\n",
      "   Observed stochastic nodes: 25711\n",
      "   Unobserved stochastic nodes: 2\n",
      "   Total graph size: 51431\n",
      ". Reading parameter file inits1.txt\n",
      ". Initializing model\n",
      ". Adaptation skipped: model is not in adaptive mode.\n",
      ". Updating 4000\n",
      "-------------------------------------------------| 4000\n",
      "************************************************** 100%\n",
      ". . Updating 20000\n",
      "-------------------------------------------------| 20000\n",
      "************************************************** 100%\n",
      ". . . . Updating 0\n",
      ". Deleting model\n",
      ". \n",
      "All chains have finished\n",
      "Note: the model did not require adaptation\n",
      "Simulation complete.  Reading coda files...\n",
      "Coda files loaded successfully\n",
      "Calculating summary statistics...\n",
      "Calculating the Gelman-Rubin statistic for 3 variables....\n",
      "Finished running the simulation\n"
     ]
    },
    {
     "data": {
      "text/html": [
       "<table class=\"dataframe\">\n",
       "<caption>A matrix: 3 × 11 of type dbl</caption>\n",
       "<thead>\n",
       "\t<tr><th></th><th scope=col>Lower95</th><th scope=col>Median</th><th scope=col>Upper95</th><th scope=col>Mean</th><th scope=col>SD</th><th scope=col>Mode</th><th scope=col>MCerr</th><th scope=col>MC%ofSD</th><th scope=col>SSeff</th><th scope=col>AC.10</th><th scope=col>psrf</th></tr>\n",
       "</thead>\n",
       "<tbody>\n",
       "\t<tr><th scope=row>theta[1]</th><td> 0.01784990</td><td> 0.020229000</td><td> 0.02273040</td><td> 0.020256219</td><td>0.0012448065</td><td>NA</td><td>6.224033e-06</td><td>0.5</td><td>40000</td><td>-0.0035101222</td><td>1.000078</td></tr>\n",
       "\t<tr><th scope=row>theta[2]</th><td> 0.00608733</td><td> 0.007547185</td><td> 0.00906913</td><td> 0.007576434</td><td>0.0007633172</td><td>NA</td><td>3.817086e-06</td><td>0.5</td><td>39990</td><td>-0.0001976381</td><td>1.000020</td></tr>\n",
       "\t<tr><th scope=row>theta[3]</th><td>53.61690000</td><td>62.660450000</td><td>70.85460000</td><td>62.457208510</td><td>4.4246274670</td><td>NA</td><td>2.212528e-02</td><td>0.5</td><td>39992</td><td> 0.0012163865</td><td>1.000058</td></tr>\n",
       "</tbody>\n",
       "</table>\n"
      ],
      "text/latex": [
       "A matrix: 3 × 11 of type dbl\n",
       "\\begin{tabular}{r|lllllllllll}\n",
       "  & Lower95 & Median & Upper95 & Mean & SD & Mode & MCerr & MC\\%ofSD & SSeff & AC.10 & psrf\\\\\n",
       "\\hline\n",
       "\ttheta{[}1{]} &  0.01784990 &  0.020229000 &  0.02273040 &  0.020256219 & 0.0012448065 & NA & 6.224033e-06 & 0.5 & 40000 & -0.0035101222 & 1.000078\\\\\n",
       "\ttheta{[}2{]} &  0.00608733 &  0.007547185 &  0.00906913 &  0.007576434 & 0.0007633172 & NA & 3.817086e-06 & 0.5 & 39990 & -0.0001976381 & 1.000020\\\\\n",
       "\ttheta{[}3{]} & 53.61690000 & 62.660450000 & 70.85460000 & 62.457208510 & 4.4246274670 & NA & 2.212528e-02 & 0.5 & 39992 &  0.0012163865 & 1.000058\\\\\n",
       "\\end{tabular}\n"
      ],
      "text/markdown": [
       "\n",
       "A matrix: 3 × 11 of type dbl\n",
       "\n",
       "| <!--/--> | Lower95 | Median | Upper95 | Mean | SD | Mode | MCerr | MC%ofSD | SSeff | AC.10 | psrf |\n",
       "|---|---|---|---|---|---|---|---|---|---|---|---|\n",
       "| theta[1] |  0.01784990 |  0.020229000 |  0.02273040 |  0.020256219 | 0.0012448065 | NA | 6.224033e-06 | 0.5 | 40000 | -0.0035101222 | 1.000078 |\n",
       "| theta[2] |  0.00608733 |  0.007547185 |  0.00906913 |  0.007576434 | 0.0007633172 | NA | 3.817086e-06 | 0.5 | 39990 | -0.0001976381 | 1.000020 |\n",
       "| theta[3] | 53.61690000 | 62.660450000 | 70.85460000 | 62.457208510 | 4.4246274670 | NA | 2.212528e-02 | 0.5 | 39992 |  0.0012163865 | 1.000058 |\n",
       "\n"
      ],
      "text/plain": [
       "         Lower95     Median       Upper95     Mean         SD           Mode\n",
       "theta[1]  0.01784990  0.020229000  0.02273040  0.020256219 0.0012448065 NA  \n",
       "theta[2]  0.00608733  0.007547185  0.00906913  0.007576434 0.0007633172 NA  \n",
       "theta[3] 53.61690000 62.660450000 70.85460000 62.457208510 4.4246274670 NA  \n",
       "         MCerr        MC%ofSD SSeff AC.10         psrf    \n",
       "theta[1] 6.224033e-06 0.5     40000 -0.0035101222 1.000078\n",
       "theta[2] 3.817086e-06 0.5     39990 -0.0001976381 1.000020\n",
       "theta[3] 2.212528e-02 0.5     39992  0.0012163865 1.000058"
      ]
     },
     "metadata": {},
     "output_type": "display_data"
    },
    {
     "name": "stdout",
     "output_type": "stream",
     "text": [
      "Calculating summary statistics...\n",
      "Calculating the Gelman-Rubin statistic for 3 variables....\n"
     ]
    },
    {
     "data": {
      "text/plain": [
       "\n",
       "JAGS model summary statistics from 80000 samples (chains = 4; adapt+burnin = 5000):\n",
       "                                                                           \n",
       "           Lower95    Median   Upper95      Mean         SD Mode      MCerr\n",
       "theta[1]  0.017868   0.02023  0.022741  0.020254  0.0012419   --  4.387e-06\n",
       "theta[2] 0.0060869 0.0075501 0.0090655 0.0075766 0.00076272   -- 2.6896e-06\n",
       "theta[3]    53.574    62.668    70.832    62.453     4.4245   --   0.015604\n",
       "                                         \n",
       "         MC%ofSD SSeff       AC.10   psrf\n",
       "theta[1]     0.4 80136  -0.0035101 1.0001\n",
       "theta[2]     0.4 80415 -0.00019764 1.0001\n",
       "theta[3]     0.4 80394   0.0012164 1.0001\n",
       "\n",
       "Total time taken: 1.5 minutes\n"
      ]
     },
     "metadata": {},
     "output_type": "display_data"
    },
    {
     "data": {
      "text/html": [
       "<table class=\"dataframe\">\n",
       "<caption>A describe_posterior: 1 × 6</caption>\n",
       "<thead>\n",
       "\t<tr><th></th><th scope=col>Parameter</th><th scope=col>MAP</th><th scope=col>CI</th><th scope=col>CI_low</th><th scope=col>CI_high</th><th scope=col>pd</th></tr>\n",
       "\t<tr><th></th><th scope=col>&lt;chr&gt;</th><th scope=col>&lt;dbl&gt;</th><th scope=col>&lt;dbl&gt;</th><th scope=col>&lt;dbl&gt;</th><th scope=col>&lt;dbl&gt;</th><th scope=col>&lt;dbl&gt;</th></tr>\n",
       "</thead>\n",
       "<tbody>\n",
       "\t<tr><th scope=row>1</th><td>Posterior</td><td>63.23133</td><td>0.95</td><td>53.57364</td><td>70.83172</td><td>1</td></tr>\n",
       "</tbody>\n",
       "</table>\n"
      ],
      "text/latex": [
       "A describe\\_posterior: 1 × 6\n",
       "\\begin{tabular}{r|llllll}\n",
       "  & Parameter & MAP & CI & CI\\_low & CI\\_high & pd\\\\\n",
       "  & <chr> & <dbl> & <dbl> & <dbl> & <dbl> & <dbl>\\\\\n",
       "\\hline\n",
       "\t1 & Posterior & 63.23133 & 0.95 & 53.57364 & 70.83172 & 1\\\\\n",
       "\\end{tabular}\n"
      ],
      "text/markdown": [
       "\n",
       "A describe_posterior: 1 × 6\n",
       "\n",
       "| <!--/--> | Parameter &lt;chr&gt; | MAP &lt;dbl&gt; | CI &lt;dbl&gt; | CI_low &lt;dbl&gt; | CI_high &lt;dbl&gt; | pd &lt;dbl&gt; |\n",
       "|---|---|---|---|---|---|---|\n",
       "| 1 | Posterior | 63.23133 | 0.95 | 53.57364 | 70.83172 | 1 |\n",
       "\n"
      ],
      "text/plain": [
       "  Parameter MAP      CI   CI_low   CI_high  pd\n",
       "1 Posterior 63.23133 0.95 53.57364 70.83172 1 "
      ]
     },
     "metadata": {},
     "output_type": "display_data"
    },
    {
     "data": {
      "image/png": "[encoded data removed]",
      "text/plain": [
       "Plot with title “Inference on Janssen (less than 60) Vaccine”"
      ]
     },
     "metadata": {
      "image/png": {
       "height": 420,
       "width": 420
      }
     },
     "output_type": "display_data"
    }
   ],
   "source": [
    "### age less than 60\n",
    "\n",
    "library(rjags)\n",
    "library(runjags)\n",
    "library(R2jags)\n",
    "library(tidybayes)\n",
    "library(dplyr)\n",
    "library(coda)\n",
    "library(rstanarm)\n",
    "library(plotrix)\n",
    "library(dupiR)\n",
    "\n",
    "tot_vaccine <- 12830\n",
    "tot_placebo <- 12881\n",
    "patient <- c(rep(\"Vaccine\", tot_vaccine),\n",
    "             rep(\"Placebo\", tot_placebo))\n",
    "# Number of patients tested postive after RCT:\n",
    "pos_vaccine <- 95\n",
    "pos_placebo <- 260\n",
    "tested   <- c(rep(\"Pos\", pos_vaccine),\n",
    "              rep(\"Neg\", tot_vaccine - pos_vaccine),\n",
    "              rep(\"Pos\", pos_placebo),\n",
    "              rep(\"Neg\", tot_placebo - pos_placebo))\n",
    "johnson.tb <- tibble::tibble(tested = tested, patient=patient)\n",
    "table(johnson.tb[[2]], johnson.tb[[1]])\n",
    "\n",
    "dataList = list(\n",
    "    tested = ifelse(johnson.tb$tested == \"Neg\", 0, 1),\n",
    "    patient = as.integer(factor(johnson.tb$patient)),\n",
    "    Ntot = nrow(johnson.tb) ,\n",
    "    Nclass = nlevels(factor(johnson.tb$patient))\n",
    ")\n",
    "\n",
    "modelString <- \"  \n",
    "  model {\n",
    "    for ( i in 1:Ntot ) {\n",
    "      tested[i] ~ dbern( theta[patient[i]] )\n",
    "    }\n",
    "  for ( k in 1:Nclass ) {\n",
    "    theta[k] ~ dbeta(3 , 100)    \n",
    "    }\n",
    "  theta[3] = (theta[1]-theta[2])/theta[1] * 100\n",
    "  }\"\n",
    "writeLines(modelString , con=\"jags_Janssen_model.txt\")\n",
    "\n",
    "johnson_chains <- run.jags(modelString ,\n",
    "                          sample = 20000,\n",
    "                          n.chains = 4,\n",
    "                          method = \"parallel\",\n",
    "                          monitor = \"theta\",\n",
    "                          data = dataList)\n",
    "\n",
    "summary(johnson_chains)\n",
    "add.summary(johnson_chains)\n",
    "\n",
    "johnson_res    <- tidybayes::tidy_draws(johnson_chains) %>%\n",
    "                 select('theta[1]':'theta[2]') %>%\n",
    "                 rename(Placebo = 'theta[1]', Vaccine = 'theta[2]') %>%\n",
    "                 mutate(diff_rate = (Placebo - Vaccine) / Placebo * 100,\n",
    "                        Placebo_perc = Placebo * 100,\n",
    "                        Vaccine_perc = Vaccine * 100)\n",
    "\n",
    "johnson.mcmc <- as.mcmc(johnson_res)\n",
    "johnson.data <- as.data.frame(johnson.mcmc)\n",
    "\n",
    "hist(johnson.data$diff_rate,freq=FALSE,main='Inference on Janssen (less than 60) Vaccine')\n",
    "\n",
    "bayestestR::describe_posterior(johnson.data$diff_rate,\n",
    "                               ci=0.95,\n",
    "                               test=c(\"p_direction\"),\n",
    "                               centrality=\"map\")"
   ]
  },
  {
   "cell_type": "code",
   "execution_count": 2,
   "id": "8c2a5f30",
   "metadata": {},
   "outputs": [
    {
     "data": {
      "text/plain": [
       "         \n",
       "           Neg  Pos\n",
       "  Placebo 6722   88\n",
       "  Vaccine 6779   21"
      ]
     },
     "metadata": {},
     "output_type": "display_data"
    },
    {
     "name": "stderr",
     "output_type": "stream",
     "text": [
      "Warning message:\n",
      "“No initial values were provided - JAGS will use the same initial values for all chains”\n",
      "Warning message:\n",
      "“You attempted to start parallel chains without setting different PRNG for each chain, which is not recommended.  Different .RNG.name values have been added to each set of initial values.”\n"
     ]
    },
    {
     "name": "stdout",
     "output_type": "stream",
     "text": [
      "Calling 4 simulations using the parallel method...\n",
      "Following the progress of chain 1 (the program will wait for all chains\n",
      "to finish before continuing):\n",
      "Welcome to JAGS 4.3.0 on Wed Jun 23 13:21:02 2021\n",
      "JAGS is free software and comes with ABSOLUTELY NO WARRANTY\n",
      "Loading module: basemod: ok\n",
      "Loading module: bugs: ok\n",
      ". . Reading data file data.txt\n",
      ". Compiling model graph\n",
      "   Resolving undeclared variables\n",
      "   Allocating nodes\n",
      "Graph information:\n",
      "   Observed stochastic nodes: 13610\n",
      "   Unobserved stochastic nodes: 2\n",
      "   Total graph size: 27229\n",
      ". Reading parameter file inits1.txt\n",
      ". Initializing model\n",
      ". Adaptation skipped: model is not in adaptive mode.\n",
      ". Updating 4000\n",
      "-------------------------------------------------| 4000\n",
      "************************************************** 100%\n",
      ". . Updating 20000\n",
      "-------------------------------------------------| 20000\n",
      "************************************************** 100%\n",
      ". . . . Updating 0\n",
      ". Deleting model\n",
      "All chains have finished\n",
      "Note: the model did not require adaptation\n",
      "Simulation complete.  Reading coda files...\n",
      "Coda files loaded successfully\n",
      "Calculating summary statistics...\n",
      "Calculating the Gelman-Rubin statistic for 3 variables....\n",
      "Finished running the simulation\n"
     ]
    },
    {
     "data": {
      "text/html": [
       "<table class=\"dataframe\">\n",
       "<caption>A matrix: 3 × 11 of type dbl</caption>\n",
       "<thead>\n",
       "\t<tr><th></th><th scope=col>Lower95</th><th scope=col>Median</th><th scope=col>Upper95</th><th scope=col>Mean</th><th scope=col>SD</th><th scope=col>Mode</th><th scope=col>MCerr</th><th scope=col>MC%ofSD</th><th scope=col>SSeff</th><th scope=col>AC.10</th><th scope=col>psrf</th></tr>\n",
       "</thead>\n",
       "<tbody>\n",
       "\t<tr><th scope=row>theta[1]</th><td> 0.01054470</td><td> 0.013126450</td><td> 0.01588520</td><td> 0.013168265</td><td>0.001371582</td><td>NA</td><td>6.767853e-06</td><td>0.5</td><td>41072</td><td>-0.0007643283</td><td>0.9999841</td></tr>\n",
       "\t<tr><th scope=row>theta[2]</th><td> 0.00212174</td><td> 0.003425695</td><td> 0.00485895</td><td> 0.003478399</td><td>0.000706373</td><td>NA</td><td>3.549144e-06</td><td>0.5</td><td>39611</td><td>-0.0002325614</td><td>1.0000132</td></tr>\n",
       "\t<tr><th scope=row>theta[3]</th><td>60.95470000</td><td>73.890250000</td><td>84.57200000</td><td>73.290937412</td><td>6.160850617</td><td>NA</td><td>3.080425e-02</td><td>0.5</td><td>40000</td><td> 0.0011380495</td><td>1.0000335</td></tr>\n",
       "</tbody>\n",
       "</table>\n"
      ],
      "text/latex": [
       "A matrix: 3 × 11 of type dbl\n",
       "\\begin{tabular}{r|lllllllllll}\n",
       "  & Lower95 & Median & Upper95 & Mean & SD & Mode & MCerr & MC\\%ofSD & SSeff & AC.10 & psrf\\\\\n",
       "\\hline\n",
       "\ttheta{[}1{]} &  0.01054470 &  0.013126450 &  0.01588520 &  0.013168265 & 0.001371582 & NA & 6.767853e-06 & 0.5 & 41072 & -0.0007643283 & 0.9999841\\\\\n",
       "\ttheta{[}2{]} &  0.00212174 &  0.003425695 &  0.00485895 &  0.003478399 & 0.000706373 & NA & 3.549144e-06 & 0.5 & 39611 & -0.0002325614 & 1.0000132\\\\\n",
       "\ttheta{[}3{]} & 60.95470000 & 73.890250000 & 84.57200000 & 73.290937412 & 6.160850617 & NA & 3.080425e-02 & 0.5 & 40000 &  0.0011380495 & 1.0000335\\\\\n",
       "\\end{tabular}\n"
      ],
      "text/markdown": [
       "\n",
       "A matrix: 3 × 11 of type dbl\n",
       "\n",
       "| <!--/--> | Lower95 | Median | Upper95 | Mean | SD | Mode | MCerr | MC%ofSD | SSeff | AC.10 | psrf |\n",
       "|---|---|---|---|---|---|---|---|---|---|---|---|\n",
       "| theta[1] |  0.01054470 |  0.013126450 |  0.01588520 |  0.013168265 | 0.001371582 | NA | 6.767853e-06 | 0.5 | 41072 | -0.0007643283 | 0.9999841 |\n",
       "| theta[2] |  0.00212174 |  0.003425695 |  0.00485895 |  0.003478399 | 0.000706373 | NA | 3.549144e-06 | 0.5 | 39611 | -0.0002325614 | 1.0000132 |\n",
       "| theta[3] | 60.95470000 | 73.890250000 | 84.57200000 | 73.290937412 | 6.160850617 | NA | 3.080425e-02 | 0.5 | 40000 |  0.0011380495 | 1.0000335 |\n",
       "\n"
      ],
      "text/plain": [
       "         Lower95     Median       Upper95     Mean         SD          Mode\n",
       "theta[1]  0.01054470  0.013126450  0.01588520  0.013168265 0.001371582 NA  \n",
       "theta[2]  0.00212174  0.003425695  0.00485895  0.003478399 0.000706373 NA  \n",
       "theta[3] 60.95470000 73.890250000 84.57200000 73.290937412 6.160850617 NA  \n",
       "         MCerr        MC%ofSD SSeff AC.10         psrf     \n",
       "theta[1] 6.767853e-06 0.5     41072 -0.0007643283 0.9999841\n",
       "theta[2] 3.549144e-06 0.5     39611 -0.0002325614 1.0000132\n",
       "theta[3] 3.080425e-02 0.5     40000  0.0011380495 1.0000335"
      ]
     },
     "metadata": {},
     "output_type": "display_data"
    },
    {
     "name": "stdout",
     "output_type": "stream",
     "text": [
      "Calculating summary statistics...\n",
      "Calculating the Gelman-Rubin statistic for 3 variables....\n"
     ]
    },
    {
     "data": {
      "text/plain": [
       "\n",
       "JAGS model summary statistics from 80000 samples (chains = 4; adapt+burnin = 5000):\n",
       "                                                                          \n",
       "           Lower95    Median   Upper95     Mean         SD Mode      MCerr\n",
       "theta[1]  0.010527  0.013121  0.015875 0.013165   0.001374   -- 4.8323e-06\n",
       "theta[2] 0.0021687 0.0034271 0.0049015 0.003478 0.00070573   -- 2.5403e-06\n",
       "theta[3]    60.797    73.869    84.402   73.286     6.1641   --   0.022011\n",
       "                                       \n",
       "         MC%ofSD SSeff       AC.10 psrf\n",
       "theta[1]     0.4 80846 -0.00076433    1\n",
       "theta[2]     0.4 77180 -0.00023256    1\n",
       "theta[3]     0.4 78427    0.001138    1\n",
       "\n",
       "Total time taken: 47.3 seconds\n"
      ]
     },
     "metadata": {},
     "output_type": "display_data"
    },
    {
     "data": {
      "text/html": [
       "<table class=\"dataframe\">\n",
       "<caption>A describe_posterior: 1 × 6</caption>\n",
       "<thead>\n",
       "\t<tr><th></th><th scope=col>Parameter</th><th scope=col>MAP</th><th scope=col>CI</th><th scope=col>CI_low</th><th scope=col>CI_high</th><th scope=col>pd</th></tr>\n",
       "\t<tr><th></th><th scope=col>&lt;chr&gt;</th><th scope=col>&lt;dbl&gt;</th><th scope=col>&lt;dbl&gt;</th><th scope=col>&lt;dbl&gt;</th><th scope=col>&lt;dbl&gt;</th><th scope=col>&lt;dbl&gt;</th></tr>\n",
       "</thead>\n",
       "<tbody>\n",
       "\t<tr><th scope=row>1</th><td>Posterior</td><td>74.6336</td><td>0.95</td><td>60.79653</td><td>84.40239</td><td>1</td></tr>\n",
       "</tbody>\n",
       "</table>\n"
      ],
      "text/latex": [
       "A describe\\_posterior: 1 × 6\n",
       "\\begin{tabular}{r|llllll}\n",
       "  & Parameter & MAP & CI & CI\\_low & CI\\_high & pd\\\\\n",
       "  & <chr> & <dbl> & <dbl> & <dbl> & <dbl> & <dbl>\\\\\n",
       "\\hline\n",
       "\t1 & Posterior & 74.6336 & 0.95 & 60.79653 & 84.40239 & 1\\\\\n",
       "\\end{tabular}\n"
      ],
      "text/markdown": [
       "\n",
       "A describe_posterior: 1 × 6\n",
       "\n",
       "| <!--/--> | Parameter &lt;chr&gt; | MAP &lt;dbl&gt; | CI &lt;dbl&gt; | CI_low &lt;dbl&gt; | CI_high &lt;dbl&gt; | pd &lt;dbl&gt; |\n",
       "|---|---|---|---|---|---|---|\n",
       "| 1 | Posterior | 74.6336 | 0.95 | 60.79653 | 84.40239 | 1 |\n",
       "\n"
      ],
      "text/plain": [
       "  Parameter MAP     CI   CI_low   CI_high  pd\n",
       "1 Posterior 74.6336 0.95 60.79653 84.40239 1 "
      ]
     },
     "metadata": {},
     "output_type": "display_data"
    },
    {
     "data": {
      "image/png": "[encoded data removed]",
      "text/plain": [
       "Plot with title “Inference on Janssen (more than 60) Vaccine”"
      ]
     },
     "metadata": {
      "image/png": {
       "height": 420,
       "width": 420
      }
     },
     "output_type": "display_data"
    }
   ],
   "source": [
    "### age more than 60\n",
    "\n",
    "\n",
    "tot_vaccine <- 6800\n",
    "tot_placebo <- 6810\n",
    "patient <- c(rep(\"Vaccine\", tot_vaccine),\n",
    "             rep(\"Placebo\", tot_placebo))\n",
    "# Number of patients tested postive after RCT:\n",
    "pos_vaccine <- 21\n",
    "pos_placebo <- 88\n",
    "tested   <- c(rep(\"Pos\", pos_vaccine),\n",
    "              rep(\"Neg\", tot_vaccine - pos_vaccine),\n",
    "              rep(\"Pos\", pos_placebo),\n",
    "              rep(\"Neg\", tot_placebo - pos_placebo))\n",
    "johnson.tb <- tibble::tibble(tested = tested, patient=patient)\n",
    "table(johnson.tb[[2]], johnson.tb[[1]])\n",
    "\n",
    "dataList = list(\n",
    "    tested = ifelse(johnson.tb$tested == \"Neg\", 0, 1),\n",
    "    patient = as.integer(factor(johnson.tb$patient)),\n",
    "    Ntot = nrow(johnson.tb) ,\n",
    "    Nclass = nlevels(factor(johnson.tb$patient))\n",
    ")\n",
    "\n",
    "modelString <- \"  \n",
    "  model {\n",
    "    for ( i in 1:Ntot ) {\n",
    "      tested[i] ~ dbern( theta[patient[i]] )\n",
    "    }\n",
    "  for ( k in 1:Nclass ) {\n",
    "    theta[k] ~ dbeta(3 , 100)    \n",
    "    }\n",
    "  theta[3] = (theta[1]-theta[2])/theta[1] * 100\n",
    "  }\"\n",
    "writeLines(modelString , con=\"jags_Johnson_model.txt\")\n",
    "\n",
    "johnson_chains <- run.jags(modelString ,\n",
    "                          sample = 20000,\n",
    "                          n.chains = 4,\n",
    "                          method = \"parallel\",\n",
    "                          monitor = \"theta\",\n",
    "                          data = dataList)\n",
    "\n",
    "summary(johnson_chains)\n",
    "add.summary(johnson_chains)\n",
    "\n",
    "johnson_res    <- tidybayes::tidy_draws(johnson_chains) %>%\n",
    "                 select('theta[1]':'theta[2]') %>%\n",
    "                 rename(Placebo = 'theta[1]', Vaccine = 'theta[2]') %>%\n",
    "                 mutate(diff_rate = (Placebo - Vaccine) / Placebo * 100,\n",
    "                        Placebo_perc = Placebo * 100,\n",
    "                        Vaccine_perc = Vaccine * 100)\n",
    "\n",
    "johnson.mcmc <- as.mcmc(johnson_res)\n",
    "johnson.data <- as.data.frame(johnson.mcmc)\n",
    "\n",
    "hist(johnson.data$diff_rate,freq=FALSE,main='Inference on Janssen (more than 60) Vaccine')\n",
    "\n",
    "bayestestR::describe_posterior(johnson.data$diff_rate,\n",
    "                               ci=0.95,\n",
    "                               test=c(\"p_direction\"),\n",
    "                               centrality=\"map\")"
   ]
  },
  {
   "cell_type": "code",
   "execution_count": null,
   "id": "08634deb",
   "metadata": {},
   "outputs": [],
   "source": []
  }
 ],
 "metadata": {
  "kernelspec": {
   "display_name": "R",
   "language": "R",
   "name": "ir"
  },
  "language_info": {
   "codemirror_mode": "r",
   "file_extension": ".r",
   "mimetype": "text/x-r-source",
   "name": "R",
   "pygments_lexer": "r",
   "version": "4.1.0"
  }
 },
 "nbformat": 4,
 "nbformat_minor": 5
}
