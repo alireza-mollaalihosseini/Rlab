{
 "cells": [
  {
   "cell_type": "code",
   "execution_count": 1,
   "id": "4bd12520",
   "metadata": {},
   "outputs": [
    {
     "name": "stderr",
     "output_type": "stream",
     "text": [
      "Loading required package: coda\n",
      "\n",
      "Linked to JAGS 4.3.0\n",
      "\n",
      "Loaded modules: basemod,bugs\n",
      "\n",
      "\n",
      "Attaching package: ‘R2jags’\n",
      "\n",
      "\n",
      "The following object is masked from ‘package:coda’:\n",
      "\n",
      "    traceplot\n",
      "\n",
      "\n",
      "\n",
      "Attaching package: ‘dplyr’\n",
      "\n",
      "\n",
      "The following objects are masked from ‘package:stats’:\n",
      "\n",
      "    filter, lag\n",
      "\n",
      "\n",
      "The following objects are masked from ‘package:base’:\n",
      "\n",
      "    intersect, setdiff, setequal, union\n",
      "\n",
      "\n",
      "Loading required package: Rcpp\n",
      "\n",
      "This is rstanarm version 2.21.1\n",
      "\n",
      "- See https://mc-stan.org/rstanarm/articles/priors for changes to default priors!\n",
      "\n",
      "- Default priors may change, so it's safest to specify priors, even if equivalent to the defaults.\n",
      "\n",
      "- For execution on a local, multicore CPU with excess RAM we recommend calling\n",
      "\n",
      "  options(mc.cores = parallel::detectCores())\n",
      "\n"
     ]
    }
   ],
   "source": [
    "# Setup\n",
    "\n",
    "library(rjags)\n",
    "library(runjags)\n",
    "library(R2jags)\n",
    "library(tidybayes)\n",
    "library(dplyr)\n",
    "library(coda)\n",
    "library(rstanarm)\n",
    "library(plotrix)\n",
    "library(dupiR)"
   ]
  },
  {
   "cell_type": "code",
   "execution_count": 30,
   "id": "add2fdb2",
   "metadata": {},
   "outputs": [
    {
     "data": {
      "text/plain": [
       "         \n",
       "           Neg  Pos\n",
       "  Placebo 6722   88\n",
       "  Vaccine 6779   21"
      ]
     },
     "metadata": {},
     "output_type": "display_data"
    },
    {
     "name": "stderr",
     "output_type": "stream",
     "text": [
      "Warning message:\n",
      "“No initial values were provided - JAGS will use the same initial values for all chains”\n",
      "Warning message:\n",
      "“You attempted to start parallel chains without setting different PRNG for each chain, which is not recommended.  Different .RNG.name values have been added to each set of initial values.”\n"
     ]
    },
    {
     "name": "stdout",
     "output_type": "stream",
     "text": [
      "Calling 4 simulations using the parallel method...\n",
      "Following the progress of chain 1 (the program will wait for all chains\n",
      "to finish before continuing):\n",
      "Welcome to JAGS 4.3.0 on Thu Jul  8 10:02:46 2021\n",
      "JAGS is free software and comes with ABSOLUTELY NO WARRANTY\n",
      "Loading module: basemod: ok\n",
      "Loading module: bugs: ok\n",
      ". . Reading data file data.txt\n",
      ". Compiling model graph\n",
      "   Resolving undeclared variables\n",
      "   Allocating nodes\n",
      "Graph information:\n",
      "   Observed stochastic nodes: 13610\n",
      "   Unobserved stochastic nodes: 2\n",
      "   Total graph size: 27226\n",
      ". Reading parameter file inits1.txt\n",
      ". Initializing model\n",
      ". Adaptation skipped: model is not in adaptive mode.\n",
      ". Updating 4000\n",
      "-------------------------------------------------| 4000\n",
      "************************************************** 100%\n",
      ". . Updating 20000\n",
      "-------------------------------------------------| 20000\n",
      "************************************************** 100%\n",
      ". . . . Updating 0\n",
      ". Deleting model\n",
      "All chains have finished\n",
      "Note: the model did not require adaptation\n",
      "Simulation complete.  Reading coda files...\n",
      "Coda files loaded successfully\n",
      "Calculating summary statistics...\n",
      "Calculating the Gelman-Rubin statistic for 2 variables....\n",
      "Finished running the simulation\n"
     ]
    },
    {
     "data": {
      "text/html": [
       "<table class=\"dataframe\">\n",
       "<caption>A matrix: 2 × 11 of type dbl</caption>\n",
       "<thead>\n",
       "\t<tr><th></th><th scope=col>Lower95</th><th scope=col>Median</th><th scope=col>Upper95</th><th scope=col>Mean</th><th scope=col>SD</th><th scope=col>Mode</th><th scope=col>MCerr</th><th scope=col>MC%ofSD</th><th scope=col>SSeff</th><th scope=col>AC.10</th><th scope=col>psrf</th></tr>\n",
       "</thead>\n",
       "<tbody>\n",
       "\t<tr><th scope=row>theta[1]</th><td>0.01028250</td><td>0.012878050</td><td>0.01558170</td><td>0.012914932</td><td>0.0013541345</td><td>NA</td><td>6.826077e-06</td><td>0.5</td><td>39353</td><td>-0.0027379095</td><td>1.000056</td></tr>\n",
       "\t<tr><th scope=row>theta[2]</th><td>0.00184588</td><td>0.003039975</td><td>0.00443894</td><td>0.003089602</td><td>0.0006741206</td><td>NA</td><td>3.378602e-06</td><td>0.5</td><td>39811</td><td> 0.0007716574</td><td>1.000135</td></tr>\n",
       "</tbody>\n",
       "</table>\n"
      ],
      "text/latex": [
       "A matrix: 2 × 11 of type dbl\n",
       "\\begin{tabular}{r|lllllllllll}\n",
       "  & Lower95 & Median & Upper95 & Mean & SD & Mode & MCerr & MC\\%ofSD & SSeff & AC.10 & psrf\\\\\n",
       "\\hline\n",
       "\ttheta{[}1{]} & 0.01028250 & 0.012878050 & 0.01558170 & 0.012914932 & 0.0013541345 & NA & 6.826077e-06 & 0.5 & 39353 & -0.0027379095 & 1.000056\\\\\n",
       "\ttheta{[}2{]} & 0.00184588 & 0.003039975 & 0.00443894 & 0.003089602 & 0.0006741206 & NA & 3.378602e-06 & 0.5 & 39811 &  0.0007716574 & 1.000135\\\\\n",
       "\\end{tabular}\n"
      ],
      "text/markdown": [
       "\n",
       "A matrix: 2 × 11 of type dbl\n",
       "\n",
       "| <!--/--> | Lower95 | Median | Upper95 | Mean | SD | Mode | MCerr | MC%ofSD | SSeff | AC.10 | psrf |\n",
       "|---|---|---|---|---|---|---|---|---|---|---|---|\n",
       "| theta[1] | 0.01028250 | 0.012878050 | 0.01558170 | 0.012914932 | 0.0013541345 | NA | 6.826077e-06 | 0.5 | 39353 | -0.0027379095 | 1.000056 |\n",
       "| theta[2] | 0.00184588 | 0.003039975 | 0.00443894 | 0.003089602 | 0.0006741206 | NA | 3.378602e-06 | 0.5 | 39811 |  0.0007716574 | 1.000135 |\n",
       "\n"
      ],
      "text/plain": [
       "         Lower95    Median      Upper95    Mean        SD           Mode\n",
       "theta[1] 0.01028250 0.012878050 0.01558170 0.012914932 0.0013541345 NA  \n",
       "theta[2] 0.00184588 0.003039975 0.00443894 0.003089602 0.0006741206 NA  \n",
       "         MCerr        MC%ofSD SSeff AC.10         psrf    \n",
       "theta[1] 6.826077e-06 0.5     39353 -0.0027379095 1.000056\n",
       "theta[2] 3.378602e-06 0.5     39811  0.0007716574 1.000135"
      ]
     },
     "metadata": {},
     "output_type": "display_data"
    },
    {
     "name": "stdout",
     "output_type": "stream",
     "text": [
      "Calculating summary statistics...\n",
      "Calculating the Gelman-Rubin statistic for 2 variables....\n"
     ]
    },
    {
     "data": {
      "text/plain": [
       "\n",
       "JAGS model summary statistics from 80000 samples (chains = 4; adapt+burnin = 5000):\n",
       "                                                                           \n",
       "           Lower95    Median   Upper95      Mean         SD Mode      MCerr\n",
       "theta[1]  0.010286  0.012879  0.015588  0.012921  0.0013603   -- 4.8093e-06\n",
       "theta[2] 0.0018219 0.0030421 0.0044179 0.0030917 0.00067258   -- 2.3637e-06\n",
       "                                        \n",
       "         MC%ofSD SSeff      AC.10   psrf\n",
       "theta[1]     0.4 80000 -0.0027379 1.0001\n",
       "theta[2]     0.4 80963 0.00077166      1\n",
       "\n",
       "Total time taken: 40.5 seconds\n"
      ]
     },
     "metadata": {},
     "output_type": "display_data"
    },
    {
     "data": {
      "text/html": [
       "<strong>png:</strong> 2"
      ],
      "text/latex": [
       "\\textbf{png:} 2"
      ],
      "text/markdown": [
       "**png:** 2"
      ],
      "text/plain": [
       "png \n",
       "  2 "
      ]
     },
     "metadata": {},
     "output_type": "display_data"
    },
    {
     "data": {
      "image/png": "[encoded data removed]",
      "text/plain": [
       "Plot with title “Inference on Janssen (more than 60) Vaccine”"
      ]
     },
     "metadata": {
      "image/png": {
       "height": 420,
       "width": 420
      }
     },
     "output_type": "display_data"
    }
   ],
   "source": [
    "### more than 60\n",
    "\n",
    "\n",
    "tot_vaccine <- 6800\n",
    "tot_placebo <- 6810\n",
    "patient <- c(rep(\"Vaccine\", tot_vaccine),\n",
    "             rep(\"Placebo\", tot_placebo))\n",
    "# Number of patients tested postive after RCT:\n",
    "pos_vaccine <- 21\n",
    "pos_placebo <- 88\n",
    "tested   <- c(rep(\"Pos\", pos_vaccine),\n",
    "              rep(\"Neg\", tot_vaccine - pos_vaccine),\n",
    "              rep(\"Pos\", pos_placebo),\n",
    "              rep(\"Neg\", tot_placebo - pos_placebo))\n",
    "vaccine.tb <- tibble::tibble(tested = tested, patient=patient)\n",
    "table(vaccine.tb[[2]], vaccine.tb[[1]])\n",
    "\n",
    "dataList = list(\n",
    "    tested = ifelse(vaccine.tb$tested == \"Neg\", 0, 1),\n",
    "    patient = as.integer(factor(vaccine.tb$patient)),\n",
    "    Ntot = nrow(vaccine.tb) ,\n",
    "    Nclass = nlevels(factor(vaccine.tb$patient))\n",
    ")\n",
    "\n",
    "modelString <- \"  \n",
    "  model {\n",
    "    for ( i in 1:Ntot ) {\n",
    "      tested[i] ~ dbern( theta[patient[i]] )\n",
    "    }\n",
    "  for ( k in 1:Nclass ) {\n",
    "    theta[k] ~ dbeta(0.010101 , 1)    \n",
    "    }\n",
    "  }\"\n",
    "writeLines(modelString , con=\"jags_Vaccine_model.txt\")\n",
    "\n",
    "vaccine_chains <- run.jags(modelString ,\n",
    "                          sample = 20000,\n",
    "                          n.chains = 4,\n",
    "                          method = \"parallel\",\n",
    "                          monitor = \"theta\",\n",
    "                          data = dataList)\n",
    "\n",
    "summary(vaccine_chains)\n",
    "add.summary(vaccine_chains)\n",
    "\n",
    "\n",
    "### Efficacy\n",
    "\n",
    "vaccine_res    <- tidybayes::tidy_draws(vaccine_chains) %>%\n",
    "                 select('theta[1]':'theta[2]') %>%\n",
    "                 rename(Placebo = 'theta[1]', Vaccine = 'theta[2]') %>%\n",
    "                 mutate(diff_rate = (Placebo - Vaccine) / Placebo * 100,\n",
    "                        Placebo_perc = Placebo * 100,\n",
    "                        Vaccine_perc = Vaccine * 100)\n",
    "\n",
    "vaccine.mcmc <- as.mcmc(vaccine_res)\n",
    "vaccine.data <- as.data.frame(vaccine.mcmc)\n",
    "\n",
    "hist(vaccine.data$diff_rate,freq=FALSE,main='Inference on Janssen (more than 60) Vaccine')\n",
    "\n",
    "tb = bayestestR::describe_posterior(vaccine.data$diff_rate,\n",
    "                               ci=0.95,\n",
    "                               test=c(\"p_direction\"),\n",
    "                               centrality=\"map\")\n",
    "\n",
    "\n",
    "pdf(file='Janssen(more than 60)')\n",
    "hist(vaccine.data$diff_rate,freq=FALSE,main='Inference on Janssen (more than 60) Vaccine',xlab='Efficacy')\n",
    "abline(v=tb$CI_low,lty=2)\n",
    "abline(v=tb$CI_high,lty=2)\n",
    "dev.off()"
   ]
  },
  {
   "cell_type": "code",
   "execution_count": 32,
   "id": "cdb661b9",
   "metadata": {},
   "outputs": [
    {
     "data": {
      "text/html": [
       "<strong>png:</strong> 2"
      ],
      "text/latex": [
       "\\textbf{png:} 2"
      ],
      "text/markdown": [
       "**png:** 2"
      ],
      "text/plain": [
       "png \n",
       "  2 "
      ]
     },
     "metadata": {},
     "output_type": "display_data"
    }
   ],
   "source": [
    "pdf(file='Janssen.Jags(more than 60)')\n",
    "plot(vaccine.mcmc[,c('Vaccine','Placebo','diff_rate')],col='forestgreen')\n",
    "dev.off()"
   ]
  },
  {
   "cell_type": "code",
   "execution_count": null,
   "id": "065d915b",
   "metadata": {},
   "outputs": [],
   "source": []
  },
  {
   "cell_type": "code",
   "execution_count": null,
   "id": "eb79fe51",
   "metadata": {},
   "outputs": [],
   "source": [
    "pdf(file='Pfizer.Jags(overall)')\n",
    "plot(vaccine.mcmc[,c('Vaccine','Placebo','diff_rate')],col='forestgreen')\n",
    "dev.off()"
   ]
  }
 ],
 "metadata": {
  "kernelspec": {
   "display_name": "R",
   "language": "R",
   "name": "ir"
  },
  "language_info": {
   "codemirror_mode": "r",
   "file_extension": ".r",
   "mimetype": "text/x-r-source",
   "name": "R",
   "pygments_lexer": "r",
   "version": "4.1.0"
  }
 },
 "nbformat": 4,
 "nbformat_minor": 5
}
