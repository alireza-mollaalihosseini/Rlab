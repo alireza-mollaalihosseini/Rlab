{
 "cells": [
  {
   "cell_type": "code",
   "execution_count": 1,
   "id": "200ea1d7",
   "metadata": {},
   "outputs": [
    {
     "name": "stderr",
     "output_type": "stream",
     "text": [
      "Loading required package: StanHeaders\n",
      "\n",
      "Loading required package: ggplot2\n",
      "\n",
      "rstan (Version 2.21.2, GitRev: 2e1f913d3ca3)\n",
      "\n",
      "For execution on a local, multicore CPU with excess RAM we recommend calling\n",
      "options(mc.cores = parallel::detectCores()).\n",
      "To avoid recompilation of unchanged Stan programs, we recommend calling\n",
      "rstan_options(auto_write = TRUE)\n",
      "\n"
     ]
    }
   ],
   "source": [
    "library(rstan)"
   ]
  },
  {
   "cell_type": "code",
   "execution_count": 2,
   "id": "221fcbba",
   "metadata": {},
   "outputs": [
    {
     "data": {
      "text/plain": [
       "         \n",
       "            Neg   Pos\n",
       "  Placebo 19343   348\n",
       "  Vaccine 19514   116"
      ]
     },
     "metadata": {},
     "output_type": "display_data"
    }
   ],
   "source": [
    "tot_vaccine <- 19630\n",
    "tot_placebo <- 19691\n",
    "patient <- c(rep(\"Vaccine\", tot_vaccine),\n",
    "             rep(\"Placebo\", tot_placebo))\n",
    "# Number of patients tested postive after RCT:\n",
    "pos_vaccine <- 116\n",
    "pos_placebo <- 348\n",
    "tested   <- c(rep(\"Pos\", pos_vaccine),\n",
    "              rep(\"Neg\", tot_vaccine - pos_vaccine),\n",
    "              rep(\"Pos\", pos_placebo),\n",
    "              rep(\"Neg\", tot_placebo - pos_placebo))\n",
    "johnson.tb <- tibble::tibble(tested = tested, patient=patient)\n",
    "table(johnson.tb[[2]], johnson.tb[[1]])"
   ]
  },
  {
   "cell_type": "code",
   "execution_count": 3,
   "id": "cf9ce750",
   "metadata": {},
   "outputs": [],
   "source": [
    "dataList = list(\n",
    "    tested = ifelse(johnson.tb$tested == \"Neg\", 0, 1),\n",
    "    patient = as.integer(factor(johnson.tb$patient)),\n",
    "    Ntot = nrow(johnson.tb) ,\n",
    "    Nclass = nlevels(factor(johnson.tb$patient))\n",
    ")"
   ]
  },
  {
   "cell_type": "code",
   "execution_count": 4,
   "id": "5b93e94b",
   "metadata": {},
   "outputs": [],
   "source": [
    "modelString = \"\n",
    "  data {\n",
    "    int<lower=0> Ntot;\n",
    "    int tested[Ntot];\n",
    "  }\n",
    "  parameters {\n",
    "    real<lower=0,upper=1> theta;\n",
    "  }\n",
    "  model {\n",
    "    theta ~ beta(3,100);\n",
    "    tested ~ bernoulli(theta);\n",
    "  }\"\n",
    "writeLines(modelString , con=\"stan_johnson_model.txt\")"
   ]
  },
  {
   "cell_type": "code",
   "execution_count": 5,
   "id": "1e80219a",
   "metadata": {},
   "outputs": [],
   "source": [
    "stanDso <- stan_model(model_code = modelString)"
   ]
  },
  {
   "cell_type": "code",
   "execution_count": 6,
   "id": "edc7c40e",
   "metadata": {},
   "outputs": [
    {
     "name": "stdout",
     "output_type": "stream",
     "text": [
      "\n",
      "SAMPLING FOR MODEL 'cf7c1ba378e7c8a192065ca4c899770d' NOW (CHAIN 1).\n",
      "Chain 1: \n",
      "Chain 1: Gradient evaluation took 0.000112 seconds\n",
      "Chain 1: 1000 transitions using 10 leapfrog steps per transition would take 1.12 seconds.\n",
      "Chain 1: Adjust your expectations accordingly!\n",
      "Chain 1: \n",
      "Chain 1: \n",
      "Chain 1: Iteration:   1 / 1000 [  0%]  (Warmup)\n",
      "Chain 1: Iteration: 100 / 1000 [ 10%]  (Warmup)\n",
      "Chain 1: Iteration: 200 / 1000 [ 20%]  (Warmup)\n",
      "Chain 1: Iteration: 201 / 1000 [ 20%]  (Sampling)\n",
      "Chain 1: Iteration: 300 / 1000 [ 30%]  (Sampling)\n",
      "Chain 1: Iteration: 400 / 1000 [ 40%]  (Sampling)\n",
      "Chain 1: Iteration: 500 / 1000 [ 50%]  (Sampling)\n",
      "Chain 1: Iteration: 600 / 1000 [ 60%]  (Sampling)\n",
      "Chain 1: Iteration: 700 / 1000 [ 70%]  (Sampling)\n",
      "Chain 1: Iteration: 800 / 1000 [ 80%]  (Sampling)\n",
      "Chain 1: Iteration: 900 / 1000 [ 90%]  (Sampling)\n",
      "Chain 1: Iteration: 1000 / 1000 [100%]  (Sampling)\n",
      "Chain 1: \n",
      "Chain 1:  Elapsed Time: 0.075184 seconds (Warm-up)\n",
      "Chain 1:                0.252384 seconds (Sampling)\n",
      "Chain 1:                0.327568 seconds (Total)\n",
      "Chain 1: \n",
      "\n",
      "SAMPLING FOR MODEL 'cf7c1ba378e7c8a192065ca4c899770d' NOW (CHAIN 2).\n",
      "Chain 2: \n",
      "Chain 2: Gradient evaluation took 0.000101 seconds\n",
      "Chain 2: 1000 transitions using 10 leapfrog steps per transition would take 1.01 seconds.\n",
      "Chain 2: Adjust your expectations accordingly!\n",
      "Chain 2: \n",
      "Chain 2: \n",
      "Chain 2: Iteration:   1 / 1000 [  0%]  (Warmup)\n",
      "Chain 2: Iteration: 100 / 1000 [ 10%]  (Warmup)\n",
      "Chain 2: Iteration: 200 / 1000 [ 20%]  (Warmup)\n",
      "Chain 2: Iteration: 201 / 1000 [ 20%]  (Sampling)\n",
      "Chain 2: Iteration: 300 / 1000 [ 30%]  (Sampling)\n",
      "Chain 2: Iteration: 400 / 1000 [ 40%]  (Sampling)\n",
      "Chain 2: Iteration: 500 / 1000 [ 50%]  (Sampling)\n",
      "Chain 2: Iteration: 600 / 1000 [ 60%]  (Sampling)\n",
      "Chain 2: Iteration: 700 / 1000 [ 70%]  (Sampling)\n",
      "Chain 2: Iteration: 800 / 1000 [ 80%]  (Sampling)\n",
      "Chain 2: Iteration: 900 / 1000 [ 90%]  (Sampling)\n",
      "Chain 2: Iteration: 1000 / 1000 [100%]  (Sampling)\n",
      "Chain 2: \n",
      "Chain 2:  Elapsed Time: 0.078098 seconds (Warm-up)\n",
      "Chain 2:                0.301393 seconds (Sampling)\n",
      "Chain 2:                0.379491 seconds (Total)\n",
      "Chain 2: \n",
      "\n",
      "SAMPLING FOR MODEL 'cf7c1ba378e7c8a192065ca4c899770d' NOW (CHAIN 3).\n",
      "Chain 3: \n",
      "Chain 3: Gradient evaluation took 9.7e-05 seconds\n",
      "Chain 3: 1000 transitions using 10 leapfrog steps per transition would take 0.97 seconds.\n",
      "Chain 3: Adjust your expectations accordingly!\n",
      "Chain 3: \n",
      "Chain 3: \n",
      "Chain 3: Iteration:   1 / 1000 [  0%]  (Warmup)\n",
      "Chain 3: Iteration: 100 / 1000 [ 10%]  (Warmup)\n",
      "Chain 3: Iteration: 200 / 1000 [ 20%]  (Warmup)\n",
      "Chain 3: Iteration: 201 / 1000 [ 20%]  (Sampling)\n",
      "Chain 3: Iteration: 300 / 1000 [ 30%]  (Sampling)\n",
      "Chain 3: Iteration: 400 / 1000 [ 40%]  (Sampling)\n",
      "Chain 3: Iteration: 500 / 1000 [ 50%]  (Sampling)\n",
      "Chain 3: Iteration: 600 / 1000 [ 60%]  (Sampling)\n",
      "Chain 3: Iteration: 700 / 1000 [ 70%]  (Sampling)\n",
      "Chain 3: Iteration: 800 / 1000 [ 80%]  (Sampling)\n",
      "Chain 3: Iteration: 900 / 1000 [ 90%]  (Sampling)\n",
      "Chain 3: Iteration: 1000 / 1000 [100%]  (Sampling)\n",
      "Chain 3: \n",
      "Chain 3:  Elapsed Time: 0.079476 seconds (Warm-up)\n",
      "Chain 3:                0.256232 seconds (Sampling)\n",
      "Chain 3:                0.335708 seconds (Total)\n",
      "Chain 3: \n",
      "\n",
      "SAMPLING FOR MODEL 'cf7c1ba378e7c8a192065ca4c899770d' NOW (CHAIN 4).\n",
      "Chain 4: \n",
      "Chain 4: Gradient evaluation took 8.9e-05 seconds\n",
      "Chain 4: 1000 transitions using 10 leapfrog steps per transition would take 0.89 seconds.\n",
      "Chain 4: Adjust your expectations accordingly!\n",
      "Chain 4: \n",
      "Chain 4: \n",
      "Chain 4: Iteration:   1 / 1000 [  0%]  (Warmup)\n",
      "Chain 4: Iteration: 100 / 1000 [ 10%]  (Warmup)\n",
      "Chain 4: Iteration: 200 / 1000 [ 20%]  (Warmup)\n",
      "Chain 4: Iteration: 201 / 1000 [ 20%]  (Sampling)\n",
      "Chain 4: Iteration: 300 / 1000 [ 30%]  (Sampling)\n",
      "Chain 4: Iteration: 400 / 1000 [ 40%]  (Sampling)\n",
      "Chain 4: Iteration: 500 / 1000 [ 50%]  (Sampling)\n",
      "Chain 4: Iteration: 600 / 1000 [ 60%]  (Sampling)\n",
      "Chain 4: Iteration: 700 / 1000 [ 70%]  (Sampling)\n",
      "Chain 4: Iteration: 800 / 1000 [ 80%]  (Sampling)\n",
      "Chain 4: Iteration: 900 / 1000 [ 90%]  (Sampling)\n",
      "Chain 4: Iteration: 1000 / 1000 [100%]  (Sampling)\n",
      "Chain 4: \n",
      "Chain 4:  Elapsed Time: 0.074472 seconds (Warm-up)\n",
      "Chain 4:                0.328978 seconds (Sampling)\n",
      "Chain 4:                0.40345 seconds (Total)\n",
      "Chain 4: \n"
     ]
    }
   ],
   "source": [
    "stanFit <- sampling(object=stanDso ,\n",
    "                    data = dataList ,\n",
    "                    chains = 4 ,\n",
    "                    iter = 1000 ,\n",
    "                    warmup = 200 ,\n",
    "                    thin = 1)"
   ]
  },
  {
   "cell_type": "code",
   "execution_count": null,
   "id": "b63f990b",
   "metadata": {},
   "outputs": [],
   "source": []
  }
 ],
 "metadata": {
  "kernelspec": {
   "display_name": "R",
   "language": "R",
   "name": "ir"
  },
  "language_info": {
   "codemirror_mode": "r",
   "file_extension": ".r",
   "mimetype": "text/x-r-source",
   "name": "R",
   "pygments_lexer": "r",
   "version": "4.1.0"
  }
 },
 "nbformat": 4,
 "nbformat_minor": 5
}
